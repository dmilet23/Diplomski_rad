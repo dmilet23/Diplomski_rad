{
  "nbformat": 4,
  "nbformat_minor": 0,
  "metadata": {
    "colab": {
      "name": "LSTM_1_dino.ipynb",
      "provenance": []
    },
    "kernelspec": {
      "display_name": "Python 3",
      "name": "python3"
    },
    "language_info": {
      "name": "python"
    }
  },
  "cells": [
    {
      "cell_type": "code",
      "metadata": {
        "id": "EpBQA8Rau7qo"
      },
      "source": [
        "from math import sqrt\n",
        "from numpy import concatenate\n",
        "from matplotlib import pyplot\n",
        "from pandas import read_csv\n",
        "from pandas import DataFrame\n",
        "from pandas import concat\n",
        "from sklearn.preprocessing import MinMaxScaler\n",
        "from sklearn.preprocessing import LabelEncoder\n",
        "from sklearn.metrics import mean_squared_error\n",
        "from keras.models import Sequential\n",
        "from keras.layers import Dense\n",
        "from keras.layers import LSTM\n",
        "import numpy\n",
        "import pandas as pd\n",
        "total=read_csv('/content/_total4_p.csv')\n",
        "#total.timestamp=pd.to_datetime(total.timestamp)"
      ],
      "execution_count": 20,
      "outputs": []
    },
    {
      "cell_type": "code",
      "metadata": {
        "colab": {
          "base_uri": "https://localhost:8080/",
          "height": 1000
        },
        "id": "E7hPp0dmeZeq",
        "outputId": "4f8a69ce-6d04-4780-d6e2-ba5830854bb5"
      },
      "source": [
        "total"
      ],
      "execution_count": null,
      "outputs": [
        {
          "output_type": "execute_result",
          "data": {
            "text/html": [
              "<div>\n",
              "<style scoped>\n",
              "    .dataframe tbody tr th:only-of-type {\n",
              "        vertical-align: middle;\n",
              "    }\n",
              "\n",
              "    .dataframe tbody tr th {\n",
              "        vertical-align: top;\n",
              "    }\n",
              "\n",
              "    .dataframe thead th {\n",
              "        text-align: right;\n",
              "    }\n",
              "</style>\n",
              "<table border=\"1\" class=\"dataframe\">\n",
              "  <thead>\n",
              "    <tr style=\"text-align: right;\">\n",
              "      <th></th>\n",
              "      <th>channel</th>\n",
              "      <th>start</th>\n",
              "      <th>stop</th>\n",
              "      <th>title</th>\n",
              "      <th>kategorija</th>\n",
              "      <th>descr</th>\n",
              "      <th>repriza</th>\n",
              "      <th>m_from_start</th>\n",
              "      <th>timestamp</th>\n",
              "      <th>d</th>\n",
              "      <th>h</th>\n",
              "      <th>m</th>\n",
              "      <th>date</th>\n",
              "      <th>broj_gledatelja</th>\n",
              "      <th>vrijeme</th>\n",
              "      <th>datum_ukupno</th>\n",
              "      <th>h_x</th>\n",
              "      <th>dow</th>\n",
              "    </tr>\n",
              "  </thead>\n",
              "  <tbody>\n",
              "    <tr>\n",
              "      <th>0</th>\n",
              "      <td>HRT4 HD</td>\n",
              "      <td>2020-11-12 23:35:00</td>\n",
              "      <td>2020-11-13 00:00:00</td>\n",
              "      <td>Pogled preko granice - Hrvati u BiH (R)</td>\n",
              "      <td>DRUGI INFORMATIVNI SADRŽAJI</td>\n",
              "      <td>NaN</td>\n",
              "      <td>da</td>\n",
              "      <td>25</td>\n",
              "      <td>2021-06-02 00:00:00</td>\n",
              "      <td>2</td>\n",
              "      <td>0</td>\n",
              "      <td>0</td>\n",
              "      <td>2020-11-13 00:00:00</td>\n",
              "      <td>397</td>\n",
              "      <td>2021-06-02 00:00:00</td>\n",
              "      <td>2020-11-13 00:00:00</td>\n",
              "      <td>0</td>\n",
              "      <td>4</td>\n",
              "    </tr>\n",
              "    <tr>\n",
              "      <th>1</th>\n",
              "      <td>HRT4 HD</td>\n",
              "      <td>2020-11-12 23:35:00</td>\n",
              "      <td>2020-11-13 00:00:00</td>\n",
              "      <td>Pogled preko granice - Hrvati u BiH (R)</td>\n",
              "      <td>DRUGI INFORMATIVNI SADRŽAJI</td>\n",
              "      <td>NaN</td>\n",
              "      <td>da</td>\n",
              "      <td>26</td>\n",
              "      <td>2021-06-02 00:01:00</td>\n",
              "      <td>2</td>\n",
              "      <td>0</td>\n",
              "      <td>1</td>\n",
              "      <td>2020-11-13 00:01:00</td>\n",
              "      <td>405</td>\n",
              "      <td>2021-06-02 00:01:00</td>\n",
              "      <td>2020-11-13 00:01:00</td>\n",
              "      <td>0</td>\n",
              "      <td>4</td>\n",
              "    </tr>\n",
              "    <tr>\n",
              "      <th>2</th>\n",
              "      <td>HRT4 HD</td>\n",
              "      <td>2020-11-12 23:35:00</td>\n",
              "      <td>2020-11-13 00:00:00</td>\n",
              "      <td>Pogled preko granice - Hrvati u BiH (R)</td>\n",
              "      <td>DRUGI INFORMATIVNI SADRŽAJI</td>\n",
              "      <td>NaN</td>\n",
              "      <td>da</td>\n",
              "      <td>27</td>\n",
              "      <td>2021-06-02 00:02:00</td>\n",
              "      <td>2</td>\n",
              "      <td>0</td>\n",
              "      <td>2</td>\n",
              "      <td>2020-11-13 00:02:00</td>\n",
              "      <td>395</td>\n",
              "      <td>2021-06-02 00:02:00</td>\n",
              "      <td>2020-11-13 00:02:00</td>\n",
              "      <td>0</td>\n",
              "      <td>4</td>\n",
              "    </tr>\n",
              "    <tr>\n",
              "      <th>3</th>\n",
              "      <td>HRT4 HD</td>\n",
              "      <td>2020-11-12 23:35:00</td>\n",
              "      <td>2020-11-13 00:00:00</td>\n",
              "      <td>Pogled preko granice - Hrvati u BiH (R)</td>\n",
              "      <td>DRUGI INFORMATIVNI SADRŽAJI</td>\n",
              "      <td>NaN</td>\n",
              "      <td>da</td>\n",
              "      <td>28</td>\n",
              "      <td>2021-06-02 00:03:00</td>\n",
              "      <td>2</td>\n",
              "      <td>0</td>\n",
              "      <td>3</td>\n",
              "      <td>2020-11-13 00:03:00</td>\n",
              "      <td>368</td>\n",
              "      <td>2021-06-02 00:03:00</td>\n",
              "      <td>2020-11-13 00:03:00</td>\n",
              "      <td>0</td>\n",
              "      <td>4</td>\n",
              "    </tr>\n",
              "    <tr>\n",
              "      <th>4</th>\n",
              "      <td>HRT4 HD</td>\n",
              "      <td>2020-11-12 23:35:00</td>\n",
              "      <td>2020-11-13 00:00:00</td>\n",
              "      <td>Pogled preko granice - Hrvati u BiH (R)</td>\n",
              "      <td>DRUGI INFORMATIVNI SADRŽAJI</td>\n",
              "      <td>NaN</td>\n",
              "      <td>da</td>\n",
              "      <td>29</td>\n",
              "      <td>2021-06-02 00:04:00</td>\n",
              "      <td>2</td>\n",
              "      <td>0</td>\n",
              "      <td>4</td>\n",
              "      <td>2020-11-13 00:04:00</td>\n",
              "      <td>356</td>\n",
              "      <td>2021-06-02 00:04:00</td>\n",
              "      <td>2020-11-13 00:04:00</td>\n",
              "      <td>0</td>\n",
              "      <td>4</td>\n",
              "    </tr>\n",
              "    <tr>\n",
              "      <th>...</th>\n",
              "      <td>...</td>\n",
              "      <td>...</td>\n",
              "      <td>...</td>\n",
              "      <td>...</td>\n",
              "      <td>...</td>\n",
              "      <td>...</td>\n",
              "      <td>...</td>\n",
              "      <td>...</td>\n",
              "      <td>...</td>\n",
              "      <td>...</td>\n",
              "      <td>...</td>\n",
              "      <td>...</td>\n",
              "      <td>...</td>\n",
              "      <td>...</td>\n",
              "      <td>...</td>\n",
              "      <td>...</td>\n",
              "      <td>...</td>\n",
              "      <td>...</td>\n",
              "    </tr>\n",
              "    <tr>\n",
              "      <th>115373</th>\n",
              "      <td>HRT4 HD</td>\n",
              "      <td>2021-03-24 03:10:00</td>\n",
              "      <td>2021-03-24 04:00:00</td>\n",
              "      <td>Susret u dijalogu: Štovanje sv. Josipa u hrvat...</td>\n",
              "      <td>RELIGIJA</td>\n",
              "      <td>Štovanje sv. Josipa u hrvatskom narodu tema je...</td>\n",
              "      <td>ne</td>\n",
              "      <td>884</td>\n",
              "      <td>2021-06-02 17:54:00</td>\n",
              "      <td>2</td>\n",
              "      <td>17</td>\n",
              "      <td>54</td>\n",
              "      <td>2021-03-24 17:54:00</td>\n",
              "      <td>1318</td>\n",
              "      <td>2021-06-02 17:54:00</td>\n",
              "      <td>2021-03-24 17:54:00</td>\n",
              "      <td>17</td>\n",
              "      <td>2</td>\n",
              "    </tr>\n",
              "    <tr>\n",
              "      <th>115374</th>\n",
              "      <td>HRT4 HD</td>\n",
              "      <td>2021-03-24 03:10:00</td>\n",
              "      <td>2021-03-24 04:00:00</td>\n",
              "      <td>Susret u dijalogu: Štovanje sv. Josipa u hrvat...</td>\n",
              "      <td>RELIGIJA</td>\n",
              "      <td>Štovanje sv. Josipa u hrvatskom narodu tema je...</td>\n",
              "      <td>ne</td>\n",
              "      <td>885</td>\n",
              "      <td>2021-06-02 17:55:00</td>\n",
              "      <td>2</td>\n",
              "      <td>17</td>\n",
              "      <td>55</td>\n",
              "      <td>2021-03-24 17:55:00</td>\n",
              "      <td>1291</td>\n",
              "      <td>2021-06-02 17:55:00</td>\n",
              "      <td>2021-03-24 17:55:00</td>\n",
              "      <td>17</td>\n",
              "      <td>2</td>\n",
              "    </tr>\n",
              "    <tr>\n",
              "      <th>115375</th>\n",
              "      <td>HRT4 HD</td>\n",
              "      <td>2021-03-24 03:10:00</td>\n",
              "      <td>2021-03-24 04:00:00</td>\n",
              "      <td>Susret u dijalogu: Štovanje sv. Josipa u hrvat...</td>\n",
              "      <td>RELIGIJA</td>\n",
              "      <td>Štovanje sv. Josipa u hrvatskom narodu tema je...</td>\n",
              "      <td>ne</td>\n",
              "      <td>886</td>\n",
              "      <td>2021-06-02 17:56:00</td>\n",
              "      <td>2</td>\n",
              "      <td>17</td>\n",
              "      <td>56</td>\n",
              "      <td>2021-03-24 17:56:00</td>\n",
              "      <td>1236</td>\n",
              "      <td>2021-06-02 17:56:00</td>\n",
              "      <td>2021-03-24 17:56:00</td>\n",
              "      <td>17</td>\n",
              "      <td>2</td>\n",
              "    </tr>\n",
              "    <tr>\n",
              "      <th>115376</th>\n",
              "      <td>HRT4 HD</td>\n",
              "      <td>2021-03-24 03:10:00</td>\n",
              "      <td>2021-03-24 04:00:00</td>\n",
              "      <td>Susret u dijalogu: Štovanje sv. Josipa u hrvat...</td>\n",
              "      <td>RELIGIJA</td>\n",
              "      <td>Štovanje sv. Josipa u hrvatskom narodu tema je...</td>\n",
              "      <td>ne</td>\n",
              "      <td>887</td>\n",
              "      <td>2021-06-02 17:57:00</td>\n",
              "      <td>2</td>\n",
              "      <td>17</td>\n",
              "      <td>57</td>\n",
              "      <td>2021-03-24 17:57:00</td>\n",
              "      <td>1258</td>\n",
              "      <td>2021-06-02 17:57:00</td>\n",
              "      <td>2021-03-24 17:57:00</td>\n",
              "      <td>17</td>\n",
              "      <td>2</td>\n",
              "    </tr>\n",
              "    <tr>\n",
              "      <th>115377</th>\n",
              "      <td>HRT4 HD</td>\n",
              "      <td>2021-03-24 03:10:00</td>\n",
              "      <td>2021-03-24 04:00:00</td>\n",
              "      <td>Susret u dijalogu: Štovanje sv. Josipa u hrvat...</td>\n",
              "      <td>RELIGIJA</td>\n",
              "      <td>Štovanje sv. Josipa u hrvatskom narodu tema je...</td>\n",
              "      <td>ne</td>\n",
              "      <td>888</td>\n",
              "      <td>2021-06-02 17:58:00</td>\n",
              "      <td>2</td>\n",
              "      <td>17</td>\n",
              "      <td>58</td>\n",
              "      <td>2021-03-24 17:58:00</td>\n",
              "      <td>1297</td>\n",
              "      <td>2021-06-02 17:58:00</td>\n",
              "      <td>2021-03-24 17:58:00</td>\n",
              "      <td>17</td>\n",
              "      <td>2</td>\n",
              "    </tr>\n",
              "  </tbody>\n",
              "</table>\n",
              "<p>115378 rows × 18 columns</p>\n",
              "</div>"
            ],
            "text/plain": [
              "        channel                start  ... h_x dow\n",
              "0       HRT4 HD  2020-11-12 23:35:00  ...   0   4\n",
              "1       HRT4 HD  2020-11-12 23:35:00  ...   0   4\n",
              "2       HRT4 HD  2020-11-12 23:35:00  ...   0   4\n",
              "3       HRT4 HD  2020-11-12 23:35:00  ...   0   4\n",
              "4       HRT4 HD  2020-11-12 23:35:00  ...   0   4\n",
              "...         ...                  ...  ...  ..  ..\n",
              "115373  HRT4 HD  2021-03-24 03:10:00  ...  17   2\n",
              "115374  HRT4 HD  2021-03-24 03:10:00  ...  17   2\n",
              "115375  HRT4 HD  2021-03-24 03:10:00  ...  17   2\n",
              "115376  HRT4 HD  2021-03-24 03:10:00  ...  17   2\n",
              "115377  HRT4 HD  2021-03-24 03:10:00  ...  17   2\n",
              "\n",
              "[115378 rows x 18 columns]"
            ]
          },
          "metadata": {
            "tags": []
          },
          "execution_count": 12
        }
      ]
    },
    {
      "cell_type": "code",
      "metadata": {
        "colab": {
          "base_uri": "https://localhost:8080/",
          "height": 314
        },
        "id": "ZTLzjLGMkb4q",
        "outputId": "0fa012e4-085e-4029-9c55-5aef920e75c3"
      },
      "source": [
        "total.groupby('kategorija')['broj_gledatelja'].agg(['mean','std'])\n"
      ],
      "execution_count": null,
      "outputs": [
        {
          "output_type": "execute_result",
          "data": {
            "text/html": [
              "<div>\n",
              "<style scoped>\n",
              "    .dataframe tbody tr th:only-of-type {\n",
              "        vertical-align: middle;\n",
              "    }\n",
              "\n",
              "    .dataframe tbody tr th {\n",
              "        vertical-align: top;\n",
              "    }\n",
              "\n",
              "    .dataframe thead th {\n",
              "        text-align: right;\n",
              "    }\n",
              "</style>\n",
              "<table border=\"1\" class=\"dataframe\">\n",
              "  <thead>\n",
              "    <tr style=\"text-align: right;\">\n",
              "      <th></th>\n",
              "      <th>mean</th>\n",
              "      <th>std</th>\n",
              "    </tr>\n",
              "    <tr>\n",
              "      <th>kategorija</th>\n",
              "      <th></th>\n",
              "      <th></th>\n",
              "    </tr>\n",
              "  </thead>\n",
              "  <tbody>\n",
              "    <tr>\n",
              "      <th>DRUGI INFORMATIVNI SADRŽAJI</th>\n",
              "      <td>1017.960542</td>\n",
              "      <td>1044.866031</td>\n",
              "    </tr>\n",
              "    <tr>\n",
              "      <th>GLAZBA</th>\n",
              "      <td>910.982927</td>\n",
              "      <td>910.442855</td>\n",
              "    </tr>\n",
              "    <tr>\n",
              "      <th>OBRAZOVANJE</th>\n",
              "      <td>953.857604</td>\n",
              "      <td>777.446835</td>\n",
              "    </tr>\n",
              "    <tr>\n",
              "      <th>RELIGIJA</th>\n",
              "      <td>973.637591</td>\n",
              "      <td>881.238894</td>\n",
              "    </tr>\n",
              "    <tr>\n",
              "      <th>UMJETNOST I KULTURA</th>\n",
              "      <td>1003.475327</td>\n",
              "      <td>705.663516</td>\n",
              "    </tr>\n",
              "    <tr>\n",
              "      <th>VIJESTI</th>\n",
              "      <td>1021.681893</td>\n",
              "      <td>1079.335753</td>\n",
              "    </tr>\n",
              "    <tr>\n",
              "      <th>ZABAVA</th>\n",
              "      <td>799.841976</td>\n",
              "      <td>583.665916</td>\n",
              "    </tr>\n",
              "    <tr>\n",
              "      <th>ZNANOST</th>\n",
              "      <td>930.250421</td>\n",
              "      <td>694.263194</td>\n",
              "    </tr>\n",
              "  </tbody>\n",
              "</table>\n",
              "</div>"
            ],
            "text/plain": [
              "                                    mean          std\n",
              "kategorija                                           \n",
              "DRUGI INFORMATIVNI SADRŽAJI  1017.960542  1044.866031\n",
              "GLAZBA                        910.982927   910.442855\n",
              "OBRAZOVANJE                   953.857604   777.446835\n",
              "RELIGIJA                      973.637591   881.238894\n",
              "UMJETNOST I KULTURA          1003.475327   705.663516\n",
              "VIJESTI                      1021.681893  1079.335753\n",
              "ZABAVA                        799.841976   583.665916\n",
              "ZNANOST                       930.250421   694.263194"
            ]
          },
          "metadata": {
            "tags": []
          },
          "execution_count": 15
        }
      ]
    },
    {
      "cell_type": "code",
      "metadata": {
        "id": "7w3J75znPZmH"
      },
      "source": [
        "#total[total['kategorija']=='IGRANI PROGRAM']['broj_gledatelja'].plot()\n",
        "import matplotlib.pyplot as plt\n",
        "from matplotlib.pyplot import figure\n",
        "\n",
        "figure(figsize=(12, 8), dpi=80)\n",
        "plt.plot(total.date,total['broj_gledatelja'])\n",
        " "
      ],
      "execution_count": null,
      "outputs": []
    },
    {
      "cell_type": "markdown",
      "metadata": {
        "id": "QewYX9-OeSDT"
      },
      "source": [
        "#LSTM simple\n"
      ]
    },
    {
      "cell_type": "code",
      "metadata": {
        "colab": {
          "base_uri": "https://localhost:8080/"
        },
        "id": "Fu5hR0GSQ__a",
        "outputId": "5f017443-cdc0-451d-fe94-3daaba81d107"
      },
      "source": [
        "# LSTM for international airline passengers problem with regression framing\n",
        "import numpy\n",
        "import matplotlib.pyplot as plt\n",
        "from pandas import read_csv\n",
        "import math\n",
        "from keras.models import Sequential\n",
        "from keras.layers import Dense\n",
        "from keras.layers import LSTM\n",
        "from keras.layers.core import Dense, Activation, Dropout\n",
        "\n",
        "from sklearn.preprocessing import MinMaxScaler\n",
        "from sklearn.metrics import mean_squared_error\n",
        "# convert an array of values into a dataset matrix\n",
        "def create_dataset(dataset, look_back=1):\n",
        "\tdataX, dataY = [], []\n",
        "\tfor i in range(len(dataset)-look_back-1):\n",
        "\t\ta = dataset[i:(i+look_back), 0]\n",
        "\t\tdataX.append(a)\n",
        "\t\tdataY.append(dataset[i + look_back, 0])\n",
        "\treturn numpy.array(dataX), numpy.array(dataY)\n",
        "# fix random seed for reproducibility\n",
        "numpy.random.seed(7)\n",
        "\n",
        "dataframe = total['broj_gledatelja']\n",
        "dataset = dataframe.values.reshape(-1, 1)\n",
        "dataset = dataset.astype('float32')\n",
        "# normalize the dataset\n",
        "scaler = MinMaxScaler(feature_range=(0, 1))\n",
        "dataset = scaler.fit_transform(dataset)\n",
        "# split into train and test sets\n",
        "train_size = int(len(dataset) * 0.67)\n",
        "test_size = len(dataset) - train_size\n",
        "train, test = dataset[0:train_size,:], dataset[train_size:len(dataset),:]\n",
        "# reshape into X=t and Y=t+1\n",
        "look_back = 30\n",
        "trainX, trainY = create_dataset(train, look_back)\n",
        "testX, testY = create_dataset(test, look_back)\n",
        "# reshape input to be [samples, time steps, features]\n",
        "trainX = numpy.reshape(trainX, (trainX.shape[0], 1, trainX.shape[1]))\n",
        "testX = numpy.reshape(testX, (testX.shape[0], 1, testX.shape[1]))\n",
        "# create and fit the LSTM network\n",
        "model = Sequential()\n",
        "model.add(LSTM(4, input_shape=(1, look_back)))\n",
        "model.add(Dropout(0.2))\n",
        "model.add(Dense(look_back, activation=\"softmax\"))\n",
        "#model.add(LSTM(4, input_shape=(1, look_back)))#, input_shape=(1, look_back)))\n",
        "\n",
        "model.add(Dense(1))\n",
        "model.compile(loss='mean_squared_error', optimizer='adam')\n",
        "model.fit(trainX, trainY, epochs=5, batch_size=1, verbose=2)\n",
        "# make predictions\n",
        "trainPredict = model.predict(trainX)\n",
        "testPredict = model.predict(testX)\n",
        "# invert predictions\n",
        "trainPredict = scaler.inverse_transform(trainPredict)\n",
        "trainY = scaler.inverse_transform([trainY])\n",
        "testPredict = scaler.inverse_transform(testPredict)\n",
        "testY = scaler.inverse_transform([testY])"
      ],
      "execution_count": 21,
      "outputs": [
        {
          "output_type": "stream",
          "text": [
            "Epoch 1/5\n",
            "77272/77272 - 103s - loss: 3.9805e-04\n",
            "Epoch 2/5\n",
            "77272/77272 - 108s - loss: 2.5319e-04\n",
            "Epoch 3/5\n",
            "77272/77272 - 104s - loss: 2.5667e-04\n",
            "Epoch 4/5\n",
            "77272/77272 - 100s - loss: 2.2590e-04\n",
            "Epoch 5/5\n",
            "77272/77272 - 100s - loss: 2.1594e-04\n"
          ],
          "name": "stdout"
        }
      ]
    },
    {
      "cell_type": "code",
      "metadata": {
        "colab": {
          "base_uri": "https://localhost:8080/"
        },
        "id": "6ULTwZHaN_U_",
        "outputId": "c38566d3-bc54-4027-9116-75faa740f778"
      },
      "source": [
        "# calculate root mean squared error\n",
        "trainScore = math.sqrt(mean_squared_error(trainY[0], trainPredict[:,0]))\n",
        "print('Train Score: %.2f RMSE' % (trainScore))\n",
        "testScore = math.sqrt(mean_squared_error(testY[0], testPredict[:,0]))\n",
        "print('Test Score: %.2f RMSE' % (testScore))"
      ],
      "execution_count": null,
      "outputs": [
        {
          "output_type": "stream",
          "text": [
            "Train Score: 205.22 RMSE\n",
            "Test Score: 142.02 RMSE\n"
          ],
          "name": "stdout"
        }
      ]
    },
    {
      "cell_type": "code",
      "metadata": {
        "colab": {
          "base_uri": "https://localhost:8080/"
        },
        "id": "ja_NvlqwosL5",
        "outputId": "62c1e8cf-0c58-455f-9921-103c5fc32e2e"
      },
      "source": [
        "testY"
      ],
      "execution_count": null,
      "outputs": [
        {
          "output_type": "execute_result",
          "data": {
            "text/plain": [
              "array([[ 553.99998708,  549.99999616,  579.00001049, ..., 1291.00003743,\n",
              "        1236.00000196, 1258.00003218]])"
            ]
          },
          "metadata": {
            "tags": []
          },
          "execution_count": 13
        }
      ]
    },
    {
      "cell_type": "code",
      "metadata": {
        "colab": {
          "base_uri": "https://localhost:8080/"
        },
        "id": "2XOJEfc5lYHc",
        "outputId": "5d76ef4b-034f-4bcb-d784-e15b049197d4"
      },
      "source": [
        "from sklearn.metrics import r2_score\n",
        "r2_score(testPredict, testY[0])"
      ],
      "execution_count": 22,
      "outputs": [
        {
          "output_type": "execute_result",
          "data": {
            "text/plain": [
              "0.8485005747852145"
            ]
          },
          "metadata": {
            "tags": []
          },
          "execution_count": 22
        }
      ]
    },
    {
      "cell_type": "code",
      "metadata": {
        "colab": {
          "base_uri": "https://localhost:8080/"
        },
        "id": "3JnU4iWGclcO",
        "outputId": "360387fd-9d11-40a1-ae67-913fa266e54e"
      },
      "source": [
        "print(trainScore)\n",
        "print(testScore)"
      ],
      "execution_count": null,
      "outputs": [
        {
          "output_type": "stream",
          "text": [
            "146.7594984869057\n",
            "81.63564919717142\n"
          ],
          "name": "stdout"
        }
      ]
    },
    {
      "cell_type": "code",
      "metadata": {
        "colab": {
          "base_uri": "https://localhost:8080/"
        },
        "id": "PxNkfrOTge5c",
        "outputId": "4fceffa1-6b45-4dc4-bfd8-494bcd76a379"
      },
      "source": [
        "testPredict"
      ],
      "execution_count": 6,
      "outputs": [
        {
          "output_type": "execute_result",
          "data": {
            "text/plain": [
              "array([[296.14478],\n",
              "       [307.91824],\n",
              "       [290.68372],\n",
              "       ...,\n",
              "       [341.5497 ],\n",
              "       [358.30746],\n",
              "       [341.83966]], dtype=float32)"
            ]
          },
          "metadata": {
            "tags": []
          },
          "execution_count": 6
        }
      ]
    },
    {
      "cell_type": "code",
      "metadata": {
        "id": "5ua9t-4igpTs"
      },
      "source": [
        "testpredict = testPredict.flatten()"
      ],
      "execution_count": 24,
      "outputs": []
    },
    {
      "cell_type": "code",
      "metadata": {
        "colab": {
          "base_uri": "https://localhost:8080/",
          "height": 402
        },
        "id": "n8DrewoPgOqR",
        "outputId": "50c03247-ad69-4397-a13f-79fa8c9b2bf4"
      },
      "source": [
        "df = pd.DataFrame({'Real Values':testY[0], 'Predicted Values':testpredict})\n",
        "df"
      ],
      "execution_count": 25,
      "outputs": [
        {
          "output_type": "execute_result",
          "data": {
            "text/html": [
              "<div>\n",
              "<style scoped>\n",
              "    .dataframe tbody tr th:only-of-type {\n",
              "        vertical-align: middle;\n",
              "    }\n",
              "\n",
              "    .dataframe tbody tr th {\n",
              "        vertical-align: top;\n",
              "    }\n",
              "\n",
              "    .dataframe thead th {\n",
              "        text-align: right;\n",
              "    }\n",
              "</style>\n",
              "<table border=\"1\" class=\"dataframe\">\n",
              "  <thead>\n",
              "    <tr style=\"text-align: right;\">\n",
              "      <th></th>\n",
              "      <th>Real Values</th>\n",
              "      <th>Predicted Values</th>\n",
              "    </tr>\n",
              "  </thead>\n",
              "  <tbody>\n",
              "    <tr>\n",
              "      <th>0</th>\n",
              "      <td>553.999987</td>\n",
              "      <td>434.099731</td>\n",
              "    </tr>\n",
              "    <tr>\n",
              "      <th>1</th>\n",
              "      <td>549.999996</td>\n",
              "      <td>430.682159</td>\n",
              "    </tr>\n",
              "    <tr>\n",
              "      <th>2</th>\n",
              "      <td>579.000010</td>\n",
              "      <td>425.356323</td>\n",
              "    </tr>\n",
              "    <tr>\n",
              "      <th>3</th>\n",
              "      <td>601.999998</td>\n",
              "      <td>448.225403</td>\n",
              "    </tr>\n",
              "    <tr>\n",
              "      <th>4</th>\n",
              "      <td>602.999996</td>\n",
              "      <td>466.756470</td>\n",
              "    </tr>\n",
              "    <tr>\n",
              "      <th>...</th>\n",
              "      <td>...</td>\n",
              "      <td>...</td>\n",
              "    </tr>\n",
              "    <tr>\n",
              "      <th>38039</th>\n",
              "      <td>1301.000015</td>\n",
              "      <td>1026.119263</td>\n",
              "    </tr>\n",
              "    <tr>\n",
              "      <th>38040</th>\n",
              "      <td>1317.999976</td>\n",
              "      <td>1055.742310</td>\n",
              "    </tr>\n",
              "    <tr>\n",
              "      <th>38041</th>\n",
              "      <td>1291.000037</td>\n",
              "      <td>1065.759888</td>\n",
              "    </tr>\n",
              "    <tr>\n",
              "      <th>38042</th>\n",
              "      <td>1236.000002</td>\n",
              "      <td>1041.590698</td>\n",
              "    </tr>\n",
              "    <tr>\n",
              "      <th>38043</th>\n",
              "      <td>1258.000032</td>\n",
              "      <td>995.288940</td>\n",
              "    </tr>\n",
              "  </tbody>\n",
              "</table>\n",
              "<p>38044 rows × 2 columns</p>\n",
              "</div>"
            ],
            "text/plain": [
              "       Real Values  Predicted Values\n",
              "0       553.999987        434.099731\n",
              "1       549.999996        430.682159\n",
              "2       579.000010        425.356323\n",
              "3       601.999998        448.225403\n",
              "4       602.999996        466.756470\n",
              "...            ...               ...\n",
              "38039  1301.000015       1026.119263\n",
              "38040  1317.999976       1055.742310\n",
              "38041  1291.000037       1065.759888\n",
              "38042  1236.000002       1041.590698\n",
              "38043  1258.000032        995.288940\n",
              "\n",
              "[38044 rows x 2 columns]"
            ]
          },
          "metadata": {
            "tags": []
          },
          "execution_count": 25
        }
      ]
    },
    {
      "cell_type": "code",
      "metadata": {
        "colab": {
          "base_uri": "https://localhost:8080/",
          "height": 265
        },
        "id": "pripi2F9OAhu",
        "outputId": "d3aa087c-e40f-4729-8a12-1244e9eda7be"
      },
      "source": [
        "# shift train predictions for plotting\n",
        "trainPredictPlot = numpy.empty_like(dataset)\n",
        "trainPredictPlot[:, :] = numpy.nan\n",
        "trainPredictPlot[look_back:len(trainPredict)+look_back, :] = trainPredict\n",
        "# shift test predictions for plotting\n",
        "testPredictPlot = numpy.empty_like(dataset)\n",
        "testPredictPlot[:, :] = numpy.nan\n",
        "testPredictPlot[len(trainPredict)+(look_back*2)+1:len(dataset)-1, :] = testPredict\n",
        "# plot baseline and predictions\n",
        "plt.plot(scaler.inverse_transform(dataset))\n",
        "plt.plot(trainPredictPlot)\n",
        "plt.plot(testPredictPlot)\n",
        "plt.show()"
      ],
      "execution_count": 26,
      "outputs": [
        {
          "output_type": "display_data",
          "data": {
            "image/png": "[encoded data removed]",
            "text/plain": [
              "<Figure size 432x288 with 1 Axes>"
            ]
          },
          "metadata": {
            "tags": [],
            "needs_background": "light"
          }
        }
      ]
    },
    {
      "cell_type": "code",
      "metadata": {
        "id": "v1jAwyQAbUMt"
      },
      "source": [
        "df = pd.DataFrame({'Real Values':y_test, 'Predicted Values':reg.predict(X_test)})\n",
        "df"
      ],
      "execution_count": null,
      "outputs": []
    },
    {
      "cell_type": "code",
      "metadata": {
        "colab": {
          "base_uri": "https://localhost:8080/"
        },
        "id": "ZihuJDmYLcOO",
        "outputId": "bd4aac0d-82d7-433f-fde0-1b958f6ff6a4"
      },
      "source": [
        "trainX.shape"
      ],
      "execution_count": null,
      "outputs": [
        {
          "output_type": "execute_result",
          "data": {
            "text/plain": [
              "(30212, 1, 30)"
            ]
          },
          "metadata": {
            "tags": []
          },
          "execution_count": 12
        }
      ]
    },
    {
      "cell_type": "markdown",
      "metadata": {
        "id": "N_5IoUKfVbuA"
      },
      "source": [
        "##plot error"
      ]
    },
    {
      "cell_type": "code",
      "metadata": {
        "colab": {
          "base_uri": "https://localhost:8080/",
          "height": 296
        },
        "id": "Jf49SvljrC03",
        "outputId": "9eb16e0f-49d7-4cc4-ef3b-332b1e5b78f0"
      },
      "source": [
        "#plt.scatter(testY.transpose() ,testPredict)\n",
        "\n",
        "\n",
        "plt.plot( trainY.transpose() ,trainPredict,'bo',linestyle='none',label='Train predictions') \n",
        "plt.plot(testY.transpose() ,testPredict,'ro',linestyle='none',label='Test predictions') \n",
        "plt.plot(range(12),range(12),'g',linestyle='dotted') \n",
        "plt.xlabel('Observed ')\n",
        "plt.ylabel('Prediccted ' )\n",
        "plt.legend()\n",
        "\n"
      ],
      "execution_count": null,
      "outputs": [
        {
          "output_type": "execute_result",
          "data": {
            "text/plain": [
              "<matplotlib.legend.Legend at 0x7faecc29ebd0>"
            ]
          },
          "metadata": {
            "tags": []
          },
          "execution_count": 20
        },
        {
          "output_type": "display_data",
          "data": {
            "image/png": "[encoded data removed]",
            "text/plain": [
              "<Figure size 432x288 with 1 Axes>"
            ]
          },
          "metadata": {
            "tags": [],
            "needs_background": "light"
          }
        }
      ]
    },
    {
      "cell_type": "code",
      "metadata": {
        "colab": {
          "base_uri": "https://localhost:8080/"
        },
        "id": "faZPDjKgPWt3",
        "outputId": "8d27be95-311c-49e3-dbb8-e78d5f7a26d2"
      },
      "source": [
        "testY.shape"
      ],
      "execution_count": null,
      "outputs": [
        {
          "output_type": "execute_result",
          "data": {
            "text/plain": [
              "(1, 45098)"
            ]
          },
          "metadata": {
            "tags": []
          },
          "execution_count": 21
        }
      ]
    },
    {
      "cell_type": "code",
      "metadata": {
        "colab": {
          "base_uri": "https://localhost:8080/"
        },
        "id": "3D2STcIPsSE1",
        "outputId": "63366869-cd86-4984-cc9d-6edc1b2a339e"
      },
      "source": [
        "dataset"
      ],
      "execution_count": null,
      "outputs": [
        {
          "output_type": "execute_result",
          "data": {
            "text/plain": [
              "array([[0.00086827],\n",
              "       [0.05916646],\n",
              "       [0.05891839],\n",
              "       ...,\n",
              "       [0.08546267],\n",
              "       [0.08260978],\n",
              "       [0.08112132]], dtype=float32)"
            ]
          },
          "metadata": {
            "tags": []
          },
          "execution_count": 10
        }
      ]
    },
    {
      "cell_type": "code",
      "metadata": {
        "colab": {
          "base_uri": "https://localhost:8080/",
          "height": 427
        },
        "id": "GgHDwi5MSOU_",
        "outputId": "a9e13461-c0b4-4004-868f-2c783fe05768"
      },
      "source": [
        "from matplotlib.pyplot import figure\n",
        "\n",
        "figure(figsize=(12, 8), dpi=80)\n",
        "#fig.savefig('test2png.png', dpi=100)\n",
        "\n",
        "plt.plot(scaler.inverse_transform(dataset))\n",
        "plt.plot(trainPredictPlot)\n",
        "plt.plot(testPredictPlot)\n",
        "plt.show()"
      ],
      "execution_count": null,
      "outputs": [
        {
          "output_type": "display_data",
          "data": {
            "image/png": "[encoded data removed]",
            "text/plain": [
              "<Figure size 960x640 with 1 Axes>"
            ]
          },
          "metadata": {
            "tags": [],
            "needs_background": "light"
          }
        }
      ]
    },
    {
      "cell_type": "code",
      "metadata": {
        "id": "G0tBL0cIbPXd"
      },
      "source": [
        ""
      ],
      "execution_count": null,
      "outputs": []
    },
    {
      "cell_type": "code",
      "metadata": {
        "colab": {
          "base_uri": "https://localhost:8080/"
        },
        "id": "_oXpKKCVhjmW",
        "outputId": "aecf1196-83a5-46fe-9853-c56861acf2ac"
      },
      "source": [
        "scaler.inverse_transform(dataset)"
      ],
      "execution_count": null,
      "outputs": [
        {
          "output_type": "execute_result",
          "data": {
            "text/plain": [
              "array([[  8.],\n",
              "       [478.],\n",
              "       [476.],\n",
              "       ...,\n",
              "       [690.],\n",
              "       [667.],\n",
              "       [655.]], dtype=float32)"
            ]
          },
          "metadata": {
            "tags": []
          },
          "execution_count": 6
        }
      ]
    },
    {
      "cell_type": "code",
      "metadata": {
        "colab": {
          "base_uri": "https://localhost:8080/"
        },
        "id": "o8TL2Aq3ShEe",
        "outputId": "496c43ed-ce05-4600-88ac-d5c50392f1a0"
      },
      "source": [
        "model.save('/content/drive/MyDrive/Istraživanja/gledanost/20210512/model_30')"
      ],
      "execution_count": null,
      "outputs": [
        {
          "output_type": "stream",
          "text": [
            "WARNING:absl:Found untraced functions such as lstm_cell_layer_call_fn, lstm_cell_layer_call_and_return_conditional_losses, lstm_cell_layer_call_fn, lstm_cell_layer_call_and_return_conditional_losses, lstm_cell_layer_call_and_return_conditional_losses while saving (showing 5 of 5). These functions will not be directly callable after loading.\n",
            "WARNING:absl:Found untraced functions such as lstm_cell_layer_call_fn, lstm_cell_layer_call_and_return_conditional_losses, lstm_cell_layer_call_fn, lstm_cell_layer_call_and_return_conditional_losses, lstm_cell_layer_call_and_return_conditional_losses while saving (showing 5 of 5). These functions will not be directly callable after loading.\n"
          ],
          "name": "stderr"
        },
        {
          "output_type": "stream",
          "text": [
            "INFO:tensorflow:Assets written to: /content/drive/MyDrive/Istraživanja/gledanost/20210512/model_30/assets\n"
          ],
          "name": "stdout"
        },
        {
          "output_type": "stream",
          "text": [
            "INFO:tensorflow:Assets written to: /content/drive/MyDrive/Istraživanja/gledanost/20210512/model_30/assets\n"
          ],
          "name": "stderr"
        }
      ]
    },
    {
      "cell_type": "code",
      "metadata": {
        "id": "3uxk1KLieW76",
        "colab": {
          "base_uri": "https://localhost:8080/"
        },
        "outputId": "ba5d7248-4802-467b-eca2-1d3436d5122e"
      },
      "source": [
        "#read\n",
        "trainX \n"
      ],
      "execution_count": null,
      "outputs": [
        {
          "output_type": "execute_result",
          "data": {
            "text/plain": [
              "array([[[0.00086827, 0.05916646, 0.05891839, ..., 0.03733565,\n",
              "         0.03745969, 0.0368395 ]],\n",
              "\n",
              "       [[0.05916646, 0.05891839, 0.05805011, ..., 0.03745969,\n",
              "         0.0368395 , 0.03584719]],\n",
              "\n",
              "       [[0.05891839, 0.05805011, 0.05631357, ..., 0.0368395 ,\n",
              "         0.03584719, 0.00024808]],\n",
              "\n",
              "       ...,\n",
              "\n",
              "       [[0.03051352, 0.03225007, 0.03026544, ..., 0.02778467,\n",
              "         0.02778467, 0.02790871]],\n",
              "\n",
              "       [[0.03225007, 0.03026544, 0.0307616 , ..., 0.02778467,\n",
              "         0.02790871, 0.02766063]],\n",
              "\n",
              "       [[0.03026544, 0.0307616 , 0.03162987, ..., 0.02790871,\n",
              "         0.02766063, 0.02927313]]], dtype=float32)"
            ]
          },
          "metadata": {
            "tags": []
          },
          "execution_count": 15
        }
      ]
    },
    {
      "cell_type": "code",
      "metadata": {
        "colab": {
          "base_uri": "https://localhost:8080/"
        },
        "id": "M1kYa96VSquW",
        "outputId": "79025cc6-203b-47cc-9c71-6667dfa24127"
      },
      "source": [
        "\n",
        "from pandas import read_csv\n",
        "import pandas as pd\n",
        "from matplotlib import pyplot\n",
        "# load dataset\n",
        "dataset=total\n",
        "#dataset['repriza'] = dataset['repriza'].map({1: 'da', 0: 'ne' })\n",
        "\n",
        "dataset = read_csv('/content/drive/MyDrive/Istraživanja/gledanost/20210512/total.csv')#read_csv('pollution.csv', header=0, index_col=0)\n",
        "dataset = pd.get_dummies(dataset, columns=['kategorija'], prefix='', prefix_sep='')\n",
        "dataset.columns"
      ],
      "execution_count": null,
      "outputs": [
        {
          "output_type": "execute_result",
          "data": {
            "text/plain": [
              "Index(['Unnamed: 0', 'channel', 'start', 'stop', 'title', 'descr', 'repriza',\n",
              "       'm_from_start', 'timestamp', 'd_x', 'h_x', 'm_x', 'Unnamed: 0.1',\n",
              "       'channel_name1', 'timestamp0', 'd_y', 'h_y', 'm_y', 'broj_gledatelja',\n",
              "       'DRUGI INFORMATIVNI SADRŽAJI', 'GLAZBA', 'IGRANI PROGRAM',\n",
              "       'OBRAZOVANJE', 'PROMOCIJA', 'RELIGIJA', 'UMJETNOST I KULTURA',\n",
              "       'VIJESTI', 'ZABAVA', 'ZNANOST'],\n",
              "      dtype='object')"
            ]
          },
          "metadata": {
            "tags": []
          },
          "execution_count": 16
        }
      ]
    },
    {
      "cell_type": "code",
      "metadata": {
        "colab": {
          "base_uri": "https://localhost:8080/"
        },
        "id": "j8VaZC1pVSy6",
        "outputId": "9012b7be-6812-4bc8-84a0-e060adfb5974"
      },
      "source": [
        "dataset['repriza']=dataset['repriza'].map({'da':1, 'ne':0 })\n",
        "dataset['repriza']"
      ],
      "execution_count": null,
      "outputs": [
        {
          "output_type": "execute_result",
          "data": {
            "text/plain": [
              "0         0.0\n",
              "1         NaN\n",
              "2         NaN\n",
              "3         NaN\n",
              "4         NaN\n",
              "         ... \n",
              "136747    0.0\n",
              "136748    0.0\n",
              "136749    0.0\n",
              "136750    0.0\n",
              "136751    0.0\n",
              "Name: repriza, Length: 136752, dtype: float64"
            ]
          },
          "metadata": {
            "tags": []
          },
          "execution_count": 17
        }
      ]
    },
    {
      "cell_type": "markdown",
      "metadata": {
        "id": "UhVZHkg9LbpC"
      },
      "source": [
        "#Lookback\n"
      ]
    },
    {
      "cell_type": "code",
      "metadata": {
        "colab": {
          "base_uri": "https://localhost:8080/",
          "height": 246
        },
        "id": "Sd6CzUqZKgSP",
        "outputId": "a30b0814-0751-4890-c161-831b7248d971"
      },
      "source": [
        "look_back=15\n",
        "#dataset['zero']=[0 for i in dataset['broj_gledatelja']]\n",
        " \n",
        "for i in range(1,look_back+1):\n",
        "  dataset['increment'+str(i)]=dataset['broj_gledatelja'].shift(periods=(i))\n",
        " \n",
        "dataset.columns"
      ],
      "execution_count": null,
      "outputs": [
        {
          "output_type": "error",
          "ename": "IndexError",
          "evalue": "ignored",
          "traceback": [
            "\u001b[0;31m---------------------------------------------------------------------------\u001b[0m",
            "\u001b[0;31mIndexError\u001b[0m                                Traceback (most recent call last)",
            "\u001b[0;32m<ipython-input-23-640c85d7afe3>\u001b[0m in \u001b[0;36m<module>\u001b[0;34m()\u001b[0m\n\u001b[1;32m      3\u001b[0m \u001b[0;34m\u001b[0m\u001b[0m\n\u001b[1;32m      4\u001b[0m \u001b[0;32mfor\u001b[0m \u001b[0mi\u001b[0m \u001b[0;32min\u001b[0m \u001b[0mrange\u001b[0m\u001b[0;34m(\u001b[0m\u001b[0;36m1\u001b[0m\u001b[0;34m,\u001b[0m\u001b[0mlook_back\u001b[0m\u001b[0;34m+\u001b[0m\u001b[0;36m1\u001b[0m\u001b[0;34m)\u001b[0m\u001b[0;34m:\u001b[0m\u001b[0;34m\u001b[0m\u001b[0;34m\u001b[0m\u001b[0m\n\u001b[0;32m----> 5\u001b[0;31m   \u001b[0mdataset\u001b[0m\u001b[0;34m[\u001b[0m\u001b[0;34m'increment'\u001b[0m\u001b[0;34m+\u001b[0m\u001b[0mstr\u001b[0m\u001b[0;34m(\u001b[0m\u001b[0mi\u001b[0m\u001b[0;34m)\u001b[0m\u001b[0;34m]\u001b[0m\u001b[0;34m=\u001b[0m\u001b[0mdataset\u001b[0m\u001b[0;34m[\u001b[0m\u001b[0;34m'broj_gledatelja'\u001b[0m\u001b[0;34m]\u001b[0m\u001b[0;34m.\u001b[0m\u001b[0mshift\u001b[0m\u001b[0;34m(\u001b[0m\u001b[0mperiods\u001b[0m\u001b[0;34m=\u001b[0m\u001b[0;34m(\u001b[0m\u001b[0mi\u001b[0m\u001b[0;34m)\u001b[0m\u001b[0;34m)\u001b[0m\u001b[0;34m\u001b[0m\u001b[0;34m\u001b[0m\u001b[0m\n\u001b[0m\u001b[1;32m      6\u001b[0m \u001b[0;34m\u001b[0m\u001b[0m\n\u001b[1;32m      7\u001b[0m \u001b[0mdataset\u001b[0m\u001b[0;34m.\u001b[0m\u001b[0mcolumns\u001b[0m\u001b[0;34m\u001b[0m\u001b[0;34m\u001b[0m\u001b[0m\n",
            "\u001b[0;31mIndexError\u001b[0m: only integers, slices (`:`), ellipsis (`...`), numpy.newaxis (`None`) and integer or boolean arrays are valid indices"
          ]
        }
      ]
    },
    {
      "cell_type": "code",
      "metadata": {
        "id": "MEWiU9j7WTXC"
      },
      "source": [
        "# # prepare data for lstm\n",
        "\n",
        "# # convert series to supervised learning\n",
        "# def series_to_supervised(data, n_in=1, n_out=1, dropnan=True):\n",
        "# \tn_vars = 1 if type(data) is list else data.shape[1]\n",
        "# \tdf = DataFrame(data)\n",
        "# \tcols, names = list(), list()\n",
        "# \t# input sequence (t-n, ... t-1)\n",
        "# \tfor i in range(n_in, 0, -1):\n",
        "# \t\tcols.append(df.shift(i))\n",
        "# \t\tnames += [('var%d(t-%d)' % (j+1, i)) for j in range(n_vars)]\n",
        "# \t# forecast sequence (t, t+1, ... t+n)\n",
        "# \tfor i in range(0, n_out):\n",
        "# \t\tcols.append(df.shift(-i))\n",
        "# \t\tif i == 0:\n",
        "# \t\t\tnames += [('var%d(t)' % (j+1)) for j in range(n_vars)]\n",
        "# \t\telse:\n",
        "# \t\t\tnames += [('var%d(t+%d)' % (j+1, i)) for j in range(n_vars)]\n",
        "# \t# put it all together\n",
        "# \tagg = concat(cols, axis=1)\n",
        "# \tagg.columns = names\n",
        "# \t# drop rows with NaN values\n",
        "# \tif dropnan:\n",
        "# \t\tagg.dropna(inplace=True)\n",
        "# \treturn agg\n",
        "\n",
        "# # load dataset\n",
        "\n",
        "# #dataset = read_csv('pollution.csv', header=0, index_col=0)\n",
        "# values = dataset.values\n",
        "# # integer encode direction\n",
        "# encoder = LabelEncoder()\n",
        "# values[:,4] = encoder.fit_transform(values[:,4])\n",
        "# # ensure all data is float\n",
        "# values = values.astype('float32')\n",
        "# # normalize features\n",
        "# scaler = MinMaxScaler(feature_range=(0, 1))\n",
        "# scaled = scaler.fit_transform(values)\n",
        "# # frame as supervised learning\n",
        "# reframed = series_to_supervised(scaled, 1, 1)\n",
        "# # drop columns we don't want to predict\n",
        "# reframed.drop(reframed.columns[[9,10,11,12,13,14,15]], axis=1, inplace=True)\n",
        "# print(reframed.head())"
      ],
      "execution_count": null,
      "outputs": []
    },
    {
      "cell_type": "code",
      "metadata": {
        "id": "JnWn-bFpXmWI"
      },
      "source": [
        "\n",
        "# values = reframed.values\n",
        "# n_train_hours = 30 * 24*60\n",
        "# train = values[:n_train_hours, :]\n",
        "# test = values[n_train_hours:, :]\n",
        "# # split into input and outputs\n",
        "# train_X, train_y = train[:, :-1], train[:, -1]\n",
        "# test_X, test_y = test[:, :-1], test[:, -1]\n",
        "# # reshape input to be 3D [samples, timesteps, features]\n",
        "# train_X = train_X.reshape((train_X.shape[0], 1, train_X.shape[1]))\n",
        "# test_X = test_X.reshape((test_X.shape[0], 1, test_X.shape[1]))\n",
        "# print(train_X.shape, train_y.shape, test_X.shape, test_y.shape)"
      ],
      "execution_count": null,
      "outputs": []
    },
    {
      "cell_type": "code",
      "metadata": {
        "id": "Ur2AvRyzdUe6"
      },
      "source": [
        "# train"
      ],
      "execution_count": null,
      "outputs": []
    },
    {
      "cell_type": "code",
      "metadata": {
        "id": "ldo6ei-VXseZ"
      },
      "source": [
        " \n",
        "# # design network\n",
        "# model = Sequential()\n",
        "# model.add(LSTM(50, input_shape=(train_X.shape[1], train_X.shape[2])))\n",
        "# model.add(Dense(1))\n",
        "# model.compile(loss='mae', optimizer='adam')\n",
        "# # fit network\n",
        "# history = model.fit(train_X, train_y, epochs=10, batch_size=72, validation_data=(test_X, test_y), verbose=2, shuffle=False)\n",
        "# # plot history\n",
        "# pyplot.plot(history.history['loss'], label='train')\n",
        "# pyplot.plot(history.history['val_loss'], label='test')\n",
        "# pyplot.legend()\n",
        "# pyplot.show()"
      ],
      "execution_count": null,
      "outputs": []
    },
    {
      "cell_type": "code",
      "metadata": {
        "id": "D7j3SslLX3yF"
      },
      "source": [
        "# # make a prediction\n",
        "\n",
        "# yhat = model.predict(test_X)\n",
        "# test_X = test_X.reshape((test_X.shape[0], test_X.shape[2]))\n",
        "\n",
        "# # invert scaling for forecast\n",
        "# inv_yhat = concatenate((yhat, test_X[:, 1:]), axis=1)\n",
        "# inv_yhat = scaler.inverse_transform(inv_yhat)\n",
        "# inv_yhat = inv_yhat[:,0]\n",
        "# # invert scaling for actual\n",
        "# test_y = test_y.reshape((len(test_y), 1))\n",
        "# inv_y = concatenate((test_y, test_X[:, 1:]), axis=1)\n",
        "# inv_y = scaler.inverse_transform(inv_y)\n",
        "# inv_y = inv_y[:,0]\n",
        "# # calculate RMSE\n",
        "# rmse = sqrt(mean_squared_error(inv_y, inv_yhat))\n",
        "# print('Test RMSE: %.3f' % rmse)"
      ],
      "execution_count": null,
      "outputs": []
    },
    {
      "cell_type": "code",
      "metadata": {
        "colab": {
          "base_uri": "https://localhost:8080/",
          "height": 1000
        },
        "id": "lsfJRg7seN0U",
        "outputId": "14e57cda-8abf-40e0-869a-c33f3661c6e6"
      },
      "source": [
        "dataset.dropna(inplace=True)\n",
        "#51468.000000\n",
        "dataset=dataset[dataset['broj_gledatelja']>5]\n",
        "#\t50884\n",
        "dataset"
      ],
      "execution_count": null,
      "outputs": [
        {
          "output_type": "stream",
          "text": [
            "/usr/local/lib/python3.7/dist-packages/ipykernel_launcher.py:1: SettingWithCopyWarning: \n",
            "A value is trying to be set on a copy of a slice from a DataFrame\n",
            "\n",
            "See the caveats in the documentation: https://pandas.pydata.org/pandas-docs/stable/user_guide/indexing.html#returning-a-view-versus-a-copy\n",
            "  \"\"\"Entry point for launching an IPython kernel.\n"
          ],
          "name": "stderr"
        },
        {
          "output_type": "execute_result",
          "data": {
            "text/html": [
              "<div>\n",
              "<style scoped>\n",
              "    .dataframe tbody tr th:only-of-type {\n",
              "        vertical-align: middle;\n",
              "    }\n",
              "\n",
              "    .dataframe tbody tr th {\n",
              "        vertical-align: top;\n",
              "    }\n",
              "\n",
              "    .dataframe thead th {\n",
              "        text-align: right;\n",
              "    }\n",
              "</style>\n",
              "<table border=\"1\" class=\"dataframe\">\n",
              "  <thead>\n",
              "    <tr style=\"text-align: right;\">\n",
              "      <th></th>\n",
              "      <th>Unnamed: 0</th>\n",
              "      <th>channel</th>\n",
              "      <th>start</th>\n",
              "      <th>stop</th>\n",
              "      <th>title</th>\n",
              "      <th>descr</th>\n",
              "      <th>repriza</th>\n",
              "      <th>m_from_start</th>\n",
              "      <th>timestamp</th>\n",
              "      <th>d_x</th>\n",
              "      <th>h_x</th>\n",
              "      <th>m_x</th>\n",
              "      <th>Unnamed: 0.1</th>\n",
              "      <th>channel_name1</th>\n",
              "      <th>timestamp0</th>\n",
              "      <th>d_y</th>\n",
              "      <th>h_y</th>\n",
              "      <th>m_y</th>\n",
              "      <th>broj_gledatelja</th>\n",
              "      <th>DRUGI INFORMATIVNI SADRŽAJI</th>\n",
              "      <th>GLAZBA</th>\n",
              "      <th>IGRANI PROGRAM</th>\n",
              "      <th>OBRAZOVANJE</th>\n",
              "      <th>PROMOCIJA</th>\n",
              "      <th>RELIGIJA</th>\n",
              "      <th>UMJETNOST I KULTURA</th>\n",
              "      <th>VIJESTI</th>\n",
              "      <th>ZABAVA</th>\n",
              "      <th>ZNANOST</th>\n",
              "      <th>increment1</th>\n",
              "      <th>increment2</th>\n",
              "      <th>increment3</th>\n",
              "      <th>increment4</th>\n",
              "      <th>increment5</th>\n",
              "      <th>increment6</th>\n",
              "      <th>increment7</th>\n",
              "      <th>increment8</th>\n",
              "      <th>increment9</th>\n",
              "      <th>increment10</th>\n",
              "      <th>increment11</th>\n",
              "      <th>increment12</th>\n",
              "      <th>increment13</th>\n",
              "      <th>increment14</th>\n",
              "      <th>increment15</th>\n",
              "    </tr>\n",
              "  </thead>\n",
              "  <tbody>\n",
              "    <tr>\n",
              "      <th>77</th>\n",
              "      <td>77</td>\n",
              "      <td>HRT3 HD</td>\n",
              "      <td>2021-02-01 01:15:00</td>\n",
              "      <td>2021-02-01 02:45:00</td>\n",
              "      <td>Kraljević i prosjak, američki film (89:37) (R)</td>\n",
              "      <td>Komedija/ drama snimljena prema klasičnoj prič...</td>\n",
              "      <td>1.0</td>\n",
              "      <td>0.0</td>\n",
              "      <td>2021-02-01 01:16:00</td>\n",
              "      <td>2021-02-01</td>\n",
              "      <td>1.0</td>\n",
              "      <td>16.0</td>\n",
              "      <td>165</td>\n",
              "      <td>hrt3</td>\n",
              "      <td>February 01 2021, 01:16</td>\n",
              "      <td>2021-02-01</td>\n",
              "      <td>1</td>\n",
              "      <td>16</td>\n",
              "      <td>224</td>\n",
              "      <td>0</td>\n",
              "      <td>0</td>\n",
              "      <td>1</td>\n",
              "      <td>0</td>\n",
              "      <td>0</td>\n",
              "      <td>0</td>\n",
              "      <td>0</td>\n",
              "      <td>0</td>\n",
              "      <td>0</td>\n",
              "      <td>0</td>\n",
              "      <td>4.0</td>\n",
              "      <td>234.0</td>\n",
              "      <td>232.0</td>\n",
              "      <td>229.0</td>\n",
              "      <td>236.0</td>\n",
              "      <td>241.0</td>\n",
              "      <td>236.0</td>\n",
              "      <td>256.0</td>\n",
              "      <td>254.0</td>\n",
              "      <td>248.0</td>\n",
              "      <td>250.0</td>\n",
              "      <td>248.0</td>\n",
              "      <td>255.0</td>\n",
              "      <td>248.0</td>\n",
              "      <td>256.0</td>\n",
              "    </tr>\n",
              "    <tr>\n",
              "      <th>78</th>\n",
              "      <td>78</td>\n",
              "      <td>HRT3 HD</td>\n",
              "      <td>2021-02-01 01:15:00</td>\n",
              "      <td>2021-02-01 02:45:00</td>\n",
              "      <td>Kraljević i prosjak, američki film (89:37) (R)</td>\n",
              "      <td>Komedija/ drama snimljena prema klasičnoj prič...</td>\n",
              "      <td>1.0</td>\n",
              "      <td>1.0</td>\n",
              "      <td>2021-02-01 01:17:00</td>\n",
              "      <td>2021-02-01</td>\n",
              "      <td>1.0</td>\n",
              "      <td>17.0</td>\n",
              "      <td>166</td>\n",
              "      <td>hrt3</td>\n",
              "      <td>February 01 2021, 01:17</td>\n",
              "      <td>2021-02-01</td>\n",
              "      <td>1</td>\n",
              "      <td>17</td>\n",
              "      <td>229</td>\n",
              "      <td>0</td>\n",
              "      <td>0</td>\n",
              "      <td>1</td>\n",
              "      <td>0</td>\n",
              "      <td>0</td>\n",
              "      <td>0</td>\n",
              "      <td>0</td>\n",
              "      <td>0</td>\n",
              "      <td>0</td>\n",
              "      <td>0</td>\n",
              "      <td>224.0</td>\n",
              "      <td>4.0</td>\n",
              "      <td>234.0</td>\n",
              "      <td>232.0</td>\n",
              "      <td>229.0</td>\n",
              "      <td>236.0</td>\n",
              "      <td>241.0</td>\n",
              "      <td>236.0</td>\n",
              "      <td>256.0</td>\n",
              "      <td>254.0</td>\n",
              "      <td>248.0</td>\n",
              "      <td>250.0</td>\n",
              "      <td>248.0</td>\n",
              "      <td>255.0</td>\n",
              "      <td>248.0</td>\n",
              "    </tr>\n",
              "    <tr>\n",
              "      <th>79</th>\n",
              "      <td>79</td>\n",
              "      <td>HRT3 HD</td>\n",
              "      <td>2021-02-01 01:15:00</td>\n",
              "      <td>2021-02-01 02:45:00</td>\n",
              "      <td>Kraljević i prosjak, američki film (89:37) (R)</td>\n",
              "      <td>Komedija/ drama snimljena prema klasičnoj prič...</td>\n",
              "      <td>1.0</td>\n",
              "      <td>2.0</td>\n",
              "      <td>2021-02-01 01:18:00</td>\n",
              "      <td>2021-02-01</td>\n",
              "      <td>1.0</td>\n",
              "      <td>18.0</td>\n",
              "      <td>168</td>\n",
              "      <td>hrt3</td>\n",
              "      <td>February 01 2021, 01:18</td>\n",
              "      <td>2021-02-01</td>\n",
              "      <td>1</td>\n",
              "      <td>18</td>\n",
              "      <td>230</td>\n",
              "      <td>0</td>\n",
              "      <td>0</td>\n",
              "      <td>1</td>\n",
              "      <td>0</td>\n",
              "      <td>0</td>\n",
              "      <td>0</td>\n",
              "      <td>0</td>\n",
              "      <td>0</td>\n",
              "      <td>0</td>\n",
              "      <td>0</td>\n",
              "      <td>229.0</td>\n",
              "      <td>224.0</td>\n",
              "      <td>4.0</td>\n",
              "      <td>234.0</td>\n",
              "      <td>232.0</td>\n",
              "      <td>229.0</td>\n",
              "      <td>236.0</td>\n",
              "      <td>241.0</td>\n",
              "      <td>236.0</td>\n",
              "      <td>256.0</td>\n",
              "      <td>254.0</td>\n",
              "      <td>248.0</td>\n",
              "      <td>250.0</td>\n",
              "      <td>248.0</td>\n",
              "      <td>255.0</td>\n",
              "    </tr>\n",
              "    <tr>\n",
              "      <th>80</th>\n",
              "      <td>80</td>\n",
              "      <td>HRT3 HD</td>\n",
              "      <td>2021-02-01 01:15:00</td>\n",
              "      <td>2021-02-01 02:45:00</td>\n",
              "      <td>Kraljević i prosjak, američki film (89:37) (R)</td>\n",
              "      <td>Komedija/ drama snimljena prema klasičnoj prič...</td>\n",
              "      <td>1.0</td>\n",
              "      <td>3.0</td>\n",
              "      <td>2021-02-01 01:19:00</td>\n",
              "      <td>2021-02-01</td>\n",
              "      <td>1.0</td>\n",
              "      <td>19.0</td>\n",
              "      <td>170</td>\n",
              "      <td>hrt3</td>\n",
              "      <td>February 01 2021, 01:19</td>\n",
              "      <td>2021-02-01</td>\n",
              "      <td>1</td>\n",
              "      <td>19</td>\n",
              "      <td>231</td>\n",
              "      <td>0</td>\n",
              "      <td>0</td>\n",
              "      <td>1</td>\n",
              "      <td>0</td>\n",
              "      <td>0</td>\n",
              "      <td>0</td>\n",
              "      <td>0</td>\n",
              "      <td>0</td>\n",
              "      <td>0</td>\n",
              "      <td>0</td>\n",
              "      <td>230.0</td>\n",
              "      <td>229.0</td>\n",
              "      <td>224.0</td>\n",
              "      <td>4.0</td>\n",
              "      <td>234.0</td>\n",
              "      <td>232.0</td>\n",
              "      <td>229.0</td>\n",
              "      <td>236.0</td>\n",
              "      <td>241.0</td>\n",
              "      <td>236.0</td>\n",
              "      <td>256.0</td>\n",
              "      <td>254.0</td>\n",
              "      <td>248.0</td>\n",
              "      <td>250.0</td>\n",
              "      <td>248.0</td>\n",
              "    </tr>\n",
              "    <tr>\n",
              "      <th>81</th>\n",
              "      <td>81</td>\n",
              "      <td>HRT3 HD</td>\n",
              "      <td>2021-02-01 01:15:00</td>\n",
              "      <td>2021-02-01 02:45:00</td>\n",
              "      <td>Kraljević i prosjak, američki film (89:37) (R)</td>\n",
              "      <td>Komedija/ drama snimljena prema klasičnoj prič...</td>\n",
              "      <td>1.0</td>\n",
              "      <td>4.0</td>\n",
              "      <td>2021-02-01 01:20:00</td>\n",
              "      <td>2021-02-01</td>\n",
              "      <td>1.0</td>\n",
              "      <td>20.0</td>\n",
              "      <td>173</td>\n",
              "      <td>hrt3</td>\n",
              "      <td>February 01 2021, 01:20</td>\n",
              "      <td>2021-02-01</td>\n",
              "      <td>1</td>\n",
              "      <td>20</td>\n",
              "      <td>236</td>\n",
              "      <td>0</td>\n",
              "      <td>0</td>\n",
              "      <td>1</td>\n",
              "      <td>0</td>\n",
              "      <td>0</td>\n",
              "      <td>0</td>\n",
              "      <td>0</td>\n",
              "      <td>0</td>\n",
              "      <td>0</td>\n",
              "      <td>0</td>\n",
              "      <td>231.0</td>\n",
              "      <td>230.0</td>\n",
              "      <td>229.0</td>\n",
              "      <td>224.0</td>\n",
              "      <td>4.0</td>\n",
              "      <td>234.0</td>\n",
              "      <td>232.0</td>\n",
              "      <td>229.0</td>\n",
              "      <td>236.0</td>\n",
              "      <td>241.0</td>\n",
              "      <td>236.0</td>\n",
              "      <td>256.0</td>\n",
              "      <td>254.0</td>\n",
              "      <td>248.0</td>\n",
              "      <td>250.0</td>\n",
              "    </tr>\n",
              "    <tr>\n",
              "      <th>...</th>\n",
              "      <td>...</td>\n",
              "      <td>...</td>\n",
              "      <td>...</td>\n",
              "      <td>...</td>\n",
              "      <td>...</td>\n",
              "      <td>...</td>\n",
              "      <td>...</td>\n",
              "      <td>...</td>\n",
              "      <td>...</td>\n",
              "      <td>...</td>\n",
              "      <td>...</td>\n",
              "      <td>...</td>\n",
              "      <td>...</td>\n",
              "      <td>...</td>\n",
              "      <td>...</td>\n",
              "      <td>...</td>\n",
              "      <td>...</td>\n",
              "      <td>...</td>\n",
              "      <td>...</td>\n",
              "      <td>...</td>\n",
              "      <td>...</td>\n",
              "      <td>...</td>\n",
              "      <td>...</td>\n",
              "      <td>...</td>\n",
              "      <td>...</td>\n",
              "      <td>...</td>\n",
              "      <td>...</td>\n",
              "      <td>...</td>\n",
              "      <td>...</td>\n",
              "      <td>...</td>\n",
              "      <td>...</td>\n",
              "      <td>...</td>\n",
              "      <td>...</td>\n",
              "      <td>...</td>\n",
              "      <td>...</td>\n",
              "      <td>...</td>\n",
              "      <td>...</td>\n",
              "      <td>...</td>\n",
              "      <td>...</td>\n",
              "      <td>...</td>\n",
              "      <td>...</td>\n",
              "      <td>...</td>\n",
              "      <td>...</td>\n",
              "      <td>...</td>\n",
              "    </tr>\n",
              "    <tr>\n",
              "      <th>136747</th>\n",
              "      <td>136747</td>\n",
              "      <td>HRT3 HD</td>\n",
              "      <td>2020-11-30 23:50:00</td>\n",
              "      <td>2020-01-12 00:45:00</td>\n",
              "      <td>Točka na A - suvremena hrvatska arhitektura (1...</td>\n",
              "      <td>Upoznajte tri arhitektonska djela nominirana z...</td>\n",
              "      <td>0.0</td>\n",
              "      <td>4.0</td>\n",
              "      <td>2020-11-30 23:55:00</td>\n",
              "      <td>2020-11-30</td>\n",
              "      <td>23.0</td>\n",
              "      <td>55.0</td>\n",
              "      <td>294477</td>\n",
              "      <td>hrt3</td>\n",
              "      <td>November 30 2020, 23:55</td>\n",
              "      <td>2020-11-30</td>\n",
              "      <td>23</td>\n",
              "      <td>55</td>\n",
              "      <td>661</td>\n",
              "      <td>0</td>\n",
              "      <td>0</td>\n",
              "      <td>0</td>\n",
              "      <td>0</td>\n",
              "      <td>0</td>\n",
              "      <td>0</td>\n",
              "      <td>1</td>\n",
              "      <td>0</td>\n",
              "      <td>0</td>\n",
              "      <td>0</td>\n",
              "      <td>686.0</td>\n",
              "      <td>678.0</td>\n",
              "      <td>649.0</td>\n",
              "      <td>609.0</td>\n",
              "      <td>645.0</td>\n",
              "      <td>616.0</td>\n",
              "      <td>661.0</td>\n",
              "      <td>693.0</td>\n",
              "      <td>702.0</td>\n",
              "      <td>706.0</td>\n",
              "      <td>741.0</td>\n",
              "      <td>767.0</td>\n",
              "      <td>816.0</td>\n",
              "      <td>885.0</td>\n",
              "      <td>972.0</td>\n",
              "    </tr>\n",
              "    <tr>\n",
              "      <th>136748</th>\n",
              "      <td>136748</td>\n",
              "      <td>HRT3 HD</td>\n",
              "      <td>2020-11-30 23:50:00</td>\n",
              "      <td>2020-01-12 00:45:00</td>\n",
              "      <td>Točka na A - suvremena hrvatska arhitektura (1...</td>\n",
              "      <td>Upoznajte tri arhitektonska djela nominirana z...</td>\n",
              "      <td>0.0</td>\n",
              "      <td>5.0</td>\n",
              "      <td>2020-11-30 23:56:00</td>\n",
              "      <td>2020-11-30</td>\n",
              "      <td>23.0</td>\n",
              "      <td>56.0</td>\n",
              "      <td>294478</td>\n",
              "      <td>hrt3</td>\n",
              "      <td>November 30 2020, 23:56</td>\n",
              "      <td>2020-11-30</td>\n",
              "      <td>23</td>\n",
              "      <td>56</td>\n",
              "      <td>692</td>\n",
              "      <td>0</td>\n",
              "      <td>0</td>\n",
              "      <td>0</td>\n",
              "      <td>0</td>\n",
              "      <td>0</td>\n",
              "      <td>0</td>\n",
              "      <td>1</td>\n",
              "      <td>0</td>\n",
              "      <td>0</td>\n",
              "      <td>0</td>\n",
              "      <td>661.0</td>\n",
              "      <td>686.0</td>\n",
              "      <td>678.0</td>\n",
              "      <td>649.0</td>\n",
              "      <td>609.0</td>\n",
              "      <td>645.0</td>\n",
              "      <td>616.0</td>\n",
              "      <td>661.0</td>\n",
              "      <td>693.0</td>\n",
              "      <td>702.0</td>\n",
              "      <td>706.0</td>\n",
              "      <td>741.0</td>\n",
              "      <td>767.0</td>\n",
              "      <td>816.0</td>\n",
              "      <td>885.0</td>\n",
              "    </tr>\n",
              "    <tr>\n",
              "      <th>136749</th>\n",
              "      <td>136749</td>\n",
              "      <td>HRT3 HD</td>\n",
              "      <td>2020-11-30 23:50:00</td>\n",
              "      <td>2020-01-12 00:45:00</td>\n",
              "      <td>Točka na A - suvremena hrvatska arhitektura (1...</td>\n",
              "      <td>Upoznajte tri arhitektonska djela nominirana z...</td>\n",
              "      <td>0.0</td>\n",
              "      <td>6.0</td>\n",
              "      <td>2020-11-30 23:57:00</td>\n",
              "      <td>2020-11-30</td>\n",
              "      <td>23.0</td>\n",
              "      <td>57.0</td>\n",
              "      <td>294480</td>\n",
              "      <td>hrt3</td>\n",
              "      <td>November 30 2020, 23:57</td>\n",
              "      <td>2020-11-30</td>\n",
              "      <td>23</td>\n",
              "      <td>57</td>\n",
              "      <td>690</td>\n",
              "      <td>0</td>\n",
              "      <td>0</td>\n",
              "      <td>0</td>\n",
              "      <td>0</td>\n",
              "      <td>0</td>\n",
              "      <td>0</td>\n",
              "      <td>1</td>\n",
              "      <td>0</td>\n",
              "      <td>0</td>\n",
              "      <td>0</td>\n",
              "      <td>692.0</td>\n",
              "      <td>661.0</td>\n",
              "      <td>686.0</td>\n",
              "      <td>678.0</td>\n",
              "      <td>649.0</td>\n",
              "      <td>609.0</td>\n",
              "      <td>645.0</td>\n",
              "      <td>616.0</td>\n",
              "      <td>661.0</td>\n",
              "      <td>693.0</td>\n",
              "      <td>702.0</td>\n",
              "      <td>706.0</td>\n",
              "      <td>741.0</td>\n",
              "      <td>767.0</td>\n",
              "      <td>816.0</td>\n",
              "    </tr>\n",
              "    <tr>\n",
              "      <th>136750</th>\n",
              "      <td>136750</td>\n",
              "      <td>HRT3 HD</td>\n",
              "      <td>2020-11-30 23:50:00</td>\n",
              "      <td>2020-01-12 00:45:00</td>\n",
              "      <td>Točka na A - suvremena hrvatska arhitektura (1...</td>\n",
              "      <td>Upoznajte tri arhitektonska djela nominirana z...</td>\n",
              "      <td>0.0</td>\n",
              "      <td>7.0</td>\n",
              "      <td>2020-11-30 23:58:00</td>\n",
              "      <td>2020-11-30</td>\n",
              "      <td>23.0</td>\n",
              "      <td>58.0</td>\n",
              "      <td>294482</td>\n",
              "      <td>hrt3</td>\n",
              "      <td>November 30 2020, 23:58</td>\n",
              "      <td>2020-11-30</td>\n",
              "      <td>23</td>\n",
              "      <td>58</td>\n",
              "      <td>667</td>\n",
              "      <td>0</td>\n",
              "      <td>0</td>\n",
              "      <td>0</td>\n",
              "      <td>0</td>\n",
              "      <td>0</td>\n",
              "      <td>0</td>\n",
              "      <td>1</td>\n",
              "      <td>0</td>\n",
              "      <td>0</td>\n",
              "      <td>0</td>\n",
              "      <td>690.0</td>\n",
              "      <td>692.0</td>\n",
              "      <td>661.0</td>\n",
              "      <td>686.0</td>\n",
              "      <td>678.0</td>\n",
              "      <td>649.0</td>\n",
              "      <td>609.0</td>\n",
              "      <td>645.0</td>\n",
              "      <td>616.0</td>\n",
              "      <td>661.0</td>\n",
              "      <td>693.0</td>\n",
              "      <td>702.0</td>\n",
              "      <td>706.0</td>\n",
              "      <td>741.0</td>\n",
              "      <td>767.0</td>\n",
              "    </tr>\n",
              "    <tr>\n",
              "      <th>136751</th>\n",
              "      <td>136751</td>\n",
              "      <td>HRT3 HD</td>\n",
              "      <td>2020-11-30 23:50:00</td>\n",
              "      <td>2020-01-12 00:45:00</td>\n",
              "      <td>Točka na A - suvremena hrvatska arhitektura (1...</td>\n",
              "      <td>Upoznajte tri arhitektonska djela nominirana z...</td>\n",
              "      <td>0.0</td>\n",
              "      <td>8.0</td>\n",
              "      <td>2020-11-30 23:59:00</td>\n",
              "      <td>2020-11-30</td>\n",
              "      <td>23.0</td>\n",
              "      <td>59.0</td>\n",
              "      <td>294485</td>\n",
              "      <td>hrt3</td>\n",
              "      <td>November 30 2020, 23:59</td>\n",
              "      <td>2020-11-30</td>\n",
              "      <td>23</td>\n",
              "      <td>59</td>\n",
              "      <td>655</td>\n",
              "      <td>0</td>\n",
              "      <td>0</td>\n",
              "      <td>0</td>\n",
              "      <td>0</td>\n",
              "      <td>0</td>\n",
              "      <td>0</td>\n",
              "      <td>1</td>\n",
              "      <td>0</td>\n",
              "      <td>0</td>\n",
              "      <td>0</td>\n",
              "      <td>667.0</td>\n",
              "      <td>690.0</td>\n",
              "      <td>692.0</td>\n",
              "      <td>661.0</td>\n",
              "      <td>686.0</td>\n",
              "      <td>678.0</td>\n",
              "      <td>649.0</td>\n",
              "      <td>609.0</td>\n",
              "      <td>645.0</td>\n",
              "      <td>616.0</td>\n",
              "      <td>661.0</td>\n",
              "      <td>693.0</td>\n",
              "      <td>702.0</td>\n",
              "      <td>706.0</td>\n",
              "      <td>741.0</td>\n",
              "    </tr>\n",
              "  </tbody>\n",
              "</table>\n",
              "<p>50884 rows × 44 columns</p>\n",
              "</div>"
            ],
            "text/plain": [
              "        Unnamed: 0  channel  ... increment14 increment15\n",
              "77              77  HRT3 HD  ...       248.0       256.0\n",
              "78              78  HRT3 HD  ...       255.0       248.0\n",
              "79              79  HRT3 HD  ...       248.0       255.0\n",
              "80              80  HRT3 HD  ...       250.0       248.0\n",
              "81              81  HRT3 HD  ...       248.0       250.0\n",
              "...            ...      ...  ...         ...         ...\n",
              "136747      136747  HRT3 HD  ...       885.0       972.0\n",
              "136748      136748  HRT3 HD  ...       816.0       885.0\n",
              "136749      136749  HRT3 HD  ...       767.0       816.0\n",
              "136750      136750  HRT3 HD  ...       741.0       767.0\n",
              "136751      136751  HRT3 HD  ...       706.0       741.0\n",
              "\n",
              "[50884 rows x 44 columns]"
            ]
          },
          "metadata": {
            "tags": []
          },
          "execution_count": 26
        }
      ]
    },
    {
      "cell_type": "code",
      "metadata": {
        "colab": {
          "base_uri": "https://localhost:8080/",
          "height": 265
        },
        "id": "YhKjoP38eXoR",
        "outputId": "0c600277-ec91-42a2-f3f9-169ba73219f0"
      },
      "source": [
        "import matplotlib.pyplot as plt\n",
        "\n",
        "x = dataset.m_from_start\n",
        "y = dataset.broj_gledatelja\n",
        "\n",
        "plt.scatter(x, y)\n",
        "plt.show()"
      ],
      "execution_count": null,
      "outputs": [
        {
          "output_type": "display_data",
          "data": {
            "image/png": "[encoded data removed]",
            "text/plain": [
              "<Figure size 432x288 with 1 Axes>"
            ]
          },
          "metadata": {
            "tags": [],
            "needs_background": "light"
          }
        }
      ]
    },
    {
      "cell_type": "code",
      "metadata": {
        "id": "q9amaYJ4hJlO"
      },
      "source": [
        "import pandas as pd \n",
        "dataset = read_csv('/content/_total3.csv')#read_csv('pollution.csv', header=0, index_col=0)\n",
        "dataset = pd.get_dummies(dataset, columns=['kategorija'], prefix='', prefix_sep='')\n",
        "dataset.columns\n",
        "dataset.dropna(inplace=True)\n",
        "#51468.000000\n",
        "#dataset=dataset[dataset['broj_gledatelja']>100]\n",
        "dataset['repriza']=dataset['repriza'].map({'da':1, 'ne':0 })\n",
        "look_back=15\n",
        "#dataset['zero']=[0 for i in dataset['broj_gledatelja']]\n",
        " \n",
        "for i in range(1,look_back+1):\n",
        "  dataset['increment'+str(i)]=dataset['broj_gledatelja'].shift(periods=(i))\n",
        " \n",
        "cols=[ 'channel', 'start', 'stop', 'title', 'descr', 'repriza',\n",
        "       'm_from_start', 'date', 'd_x',\n",
        "       'channel', 'broj_gledatelja',\n",
        "       'DRUGI INFORMATIVNI SADRŽAJI', 'GLAZBA', 'IGRANI PROGRAM',\n",
        "       'OBRAZOVANJE', 'PROMOCIJA', 'RELIGIJA', 'UMJETNOST I KULTURA',\n",
        "       'VIJESTI', 'ZABAVA', 'ZNANOST',# 'increment1', 'increment2',\n",
        "  #     'increment3', 'increment4', 'increment5', 'increment6', 'increment7',\n",
        "   #    'increment8', 'increment9', 'increment10', 'increment11', 'increment12',\n",
        "    #   'increment13', 'increment14',\n",
        "     'increment15']\n",
        "dataset.date=pd.to_datetime(dataset.date)\n",
        "dataset['dow']=dataset.date.dt.dayofweek"
      ],
      "execution_count": null,
      "outputs": []
    },
    {
      "cell_type": "code",
      "metadata": {
        "id": "MYiwAvOPmXWl",
        "colab": {
          "base_uri": "https://localhost:8080/"
        },
        "outputId": "08dad441-4c33-4cbc-c3ff-18484d5300bc"
      },
      "source": [
        " \n",
        "#dataset['pred']=pred\n",
        "dataset.columns"
      ],
      "execution_count": null,
      "outputs": [
        {
          "output_type": "execute_result",
          "data": {
            "text/plain": [
              "Index(['channel', 'title', 'descr', 'repriza', 'start', 'stop', 'date',\n",
              "       'broj_gledatelja', 'vrijeme', 'datum_ukupno',\n",
              "       'DRUGI INFORMATIVNI SADRŽAJI', 'GLAZBA', 'IGRANI PROGRAM',\n",
              "       'OBRAZOVANJE', 'PROMOCIJA', 'RELIGIJA', 'UMJETNOST I KULTURA',\n",
              "       'VIJESTI', 'ZABAVA', 'ZNANOST', 'increment1', 'increment2',\n",
              "       'increment3', 'increment4', 'increment5', 'increment6', 'increment7',\n",
              "       'increment8', 'increment9', 'increment10', 'increment11', 'increment12',\n",
              "       'increment13', 'increment14', 'increment15', 'dow'],\n",
              "      dtype='object')"
            ]
          },
          "metadata": {
            "tags": []
          },
          "execution_count": 36
        }
      ]
    },
    {
      "cell_type": "code",
      "metadata": {
        "colab": {
          "base_uri": "https://localhost:8080/",
          "height": 586
        },
        "id": "FC-9voYEihAM",
        "outputId": "0b1c4c69-edb6-4065-9dbe-d91a43af1dfe"
      },
      "source": [
        "#dataset['dif']=dataset['broj_gledatelja']-dataset['pred']\n",
        "dataset['increment1'].plot()\n",
        "dataset.describe()"
      ],
      "execution_count": null,
      "outputs": [
        {
          "output_type": "execute_result",
          "data": {
            "text/html": [
              "<div>\n",
              "<style scoped>\n",
              "    .dataframe tbody tr th:only-of-type {\n",
              "        vertical-align: middle;\n",
              "    }\n",
              "\n",
              "    .dataframe tbody tr th {\n",
              "        vertical-align: top;\n",
              "    }\n",
              "\n",
              "    .dataframe thead th {\n",
              "        text-align: right;\n",
              "    }\n",
              "</style>\n",
              "<table border=\"1\" class=\"dataframe\">\n",
              "  <thead>\n",
              "    <tr style=\"text-align: right;\">\n",
              "      <th></th>\n",
              "      <th>repriza</th>\n",
              "      <th>broj_gledatelja</th>\n",
              "      <th>DRUGI INFORMATIVNI SADRŽAJI</th>\n",
              "      <th>GLAZBA</th>\n",
              "      <th>IGRANI PROGRAM</th>\n",
              "      <th>OBRAZOVANJE</th>\n",
              "      <th>PROMOCIJA</th>\n",
              "      <th>RELIGIJA</th>\n",
              "      <th>UMJETNOST I KULTURA</th>\n",
              "      <th>VIJESTI</th>\n",
              "      <th>ZABAVA</th>\n",
              "      <th>ZNANOST</th>\n",
              "      <th>increment1</th>\n",
              "      <th>increment2</th>\n",
              "      <th>increment3</th>\n",
              "      <th>increment4</th>\n",
              "      <th>increment5</th>\n",
              "      <th>increment6</th>\n",
              "      <th>increment7</th>\n",
              "      <th>increment8</th>\n",
              "      <th>increment9</th>\n",
              "      <th>increment10</th>\n",
              "      <th>increment11</th>\n",
              "      <th>increment12</th>\n",
              "      <th>increment13</th>\n",
              "      <th>increment14</th>\n",
              "      <th>increment15</th>\n",
              "      <th>dow</th>\n",
              "    </tr>\n",
              "  </thead>\n",
              "  <tbody>\n",
              "    <tr>\n",
              "      <th>count</th>\n",
              "      <td>32960.000000</td>\n",
              "      <td>32960.000000</td>\n",
              "      <td>32960.000000</td>\n",
              "      <td>32960.000000</td>\n",
              "      <td>32960.000000</td>\n",
              "      <td>32960.000000</td>\n",
              "      <td>32960.0</td>\n",
              "      <td>32960.000000</td>\n",
              "      <td>32960.000000</td>\n",
              "      <td>32960.000000</td>\n",
              "      <td>32960.000000</td>\n",
              "      <td>32960.000000</td>\n",
              "      <td>32959.000000</td>\n",
              "      <td>32958.000000</td>\n",
              "      <td>32957.000000</td>\n",
              "      <td>32956.000000</td>\n",
              "      <td>32955.000000</td>\n",
              "      <td>32954.000000</td>\n",
              "      <td>32953.000000</td>\n",
              "      <td>32952.000000</td>\n",
              "      <td>32951.000000</td>\n",
              "      <td>32950.000000</td>\n",
              "      <td>32949.000000</td>\n",
              "      <td>32948.000000</td>\n",
              "      <td>32947.000000</td>\n",
              "      <td>32946.000000</td>\n",
              "      <td>32945.000000</td>\n",
              "      <td>32960.000000</td>\n",
              "    </tr>\n",
              "    <tr>\n",
              "      <th>mean</th>\n",
              "      <td>0.581007</td>\n",
              "      <td>665.783404</td>\n",
              "      <td>0.033252</td>\n",
              "      <td>0.079157</td>\n",
              "      <td>0.429339</td>\n",
              "      <td>0.156098</td>\n",
              "      <td>0.0</td>\n",
              "      <td>0.010407</td>\n",
              "      <td>0.218174</td>\n",
              "      <td>0.004126</td>\n",
              "      <td>0.007555</td>\n",
              "      <td>0.061893</td>\n",
              "      <td>665.796778</td>\n",
              "      <td>665.810516</td>\n",
              "      <td>665.824104</td>\n",
              "      <td>665.837207</td>\n",
              "      <td>665.850827</td>\n",
              "      <td>665.865145</td>\n",
              "      <td>665.880072</td>\n",
              "      <td>665.893208</td>\n",
              "      <td>665.906528</td>\n",
              "      <td>665.920061</td>\n",
              "      <td>665.934444</td>\n",
              "      <td>665.949011</td>\n",
              "      <td>665.963305</td>\n",
              "      <td>665.976871</td>\n",
              "      <td>665.990226</td>\n",
              "      <td>2.971996</td>\n",
              "    </tr>\n",
              "    <tr>\n",
              "      <th>std</th>\n",
              "      <td>0.493402</td>\n",
              "      <td>777.778299</td>\n",
              "      <td>0.179298</td>\n",
              "      <td>0.269987</td>\n",
              "      <td>0.494989</td>\n",
              "      <td>0.362954</td>\n",
              "      <td>0.0</td>\n",
              "      <td>0.101482</td>\n",
              "      <td>0.413012</td>\n",
              "      <td>0.064104</td>\n",
              "      <td>0.086590</td>\n",
              "      <td>0.240965</td>\n",
              "      <td>777.786309</td>\n",
              "      <td>777.794110</td>\n",
              "      <td>777.801998</td>\n",
              "      <td>777.810162</td>\n",
              "      <td>777.818033</td>\n",
              "      <td>777.825492</td>\n",
              "      <td>777.832575</td>\n",
              "      <td>777.840722</td>\n",
              "      <td>777.848767</td>\n",
              "      <td>777.856692</td>\n",
              "      <td>777.864114</td>\n",
              "      <td>777.871425</td>\n",
              "      <td>777.878903</td>\n",
              "      <td>777.886811</td>\n",
              "      <td>777.894840</td>\n",
              "      <td>2.012108</td>\n",
              "    </tr>\n",
              "    <tr>\n",
              "      <th>min</th>\n",
              "      <td>0.000000</td>\n",
              "      <td>3.000000</td>\n",
              "      <td>0.000000</td>\n",
              "      <td>0.000000</td>\n",
              "      <td>0.000000</td>\n",
              "      <td>0.000000</td>\n",
              "      <td>0.0</td>\n",
              "      <td>0.000000</td>\n",
              "      <td>0.000000</td>\n",
              "      <td>0.000000</td>\n",
              "      <td>0.000000</td>\n",
              "      <td>0.000000</td>\n",
              "      <td>3.000000</td>\n",
              "      <td>3.000000</td>\n",
              "      <td>3.000000</td>\n",
              "      <td>3.000000</td>\n",
              "      <td>3.000000</td>\n",
              "      <td>3.000000</td>\n",
              "      <td>3.000000</td>\n",
              "      <td>3.000000</td>\n",
              "      <td>3.000000</td>\n",
              "      <td>3.000000</td>\n",
              "      <td>3.000000</td>\n",
              "      <td>3.000000</td>\n",
              "      <td>3.000000</td>\n",
              "      <td>3.000000</td>\n",
              "      <td>3.000000</td>\n",
              "      <td>0.000000</td>\n",
              "    </tr>\n",
              "    <tr>\n",
              "      <th>25%</th>\n",
              "      <td>0.000000</td>\n",
              "      <td>217.000000</td>\n",
              "      <td>0.000000</td>\n",
              "      <td>0.000000</td>\n",
              "      <td>0.000000</td>\n",
              "      <td>0.000000</td>\n",
              "      <td>0.0</td>\n",
              "      <td>0.000000</td>\n",
              "      <td>0.000000</td>\n",
              "      <td>0.000000</td>\n",
              "      <td>0.000000</td>\n",
              "      <td>0.000000</td>\n",
              "      <td>217.000000</td>\n",
              "      <td>217.000000</td>\n",
              "      <td>217.000000</td>\n",
              "      <td>217.000000</td>\n",
              "      <td>217.000000</td>\n",
              "      <td>217.000000</td>\n",
              "      <td>217.000000</td>\n",
              "      <td>217.000000</td>\n",
              "      <td>217.000000</td>\n",
              "      <td>217.000000</td>\n",
              "      <td>217.000000</td>\n",
              "      <td>217.000000</td>\n",
              "      <td>217.000000</td>\n",
              "      <td>217.000000</td>\n",
              "      <td>217.000000</td>\n",
              "      <td>1.000000</td>\n",
              "    </tr>\n",
              "    <tr>\n",
              "      <th>50%</th>\n",
              "      <td>1.000000</td>\n",
              "      <td>376.000000</td>\n",
              "      <td>0.000000</td>\n",
              "      <td>0.000000</td>\n",
              "      <td>0.000000</td>\n",
              "      <td>0.000000</td>\n",
              "      <td>0.0</td>\n",
              "      <td>0.000000</td>\n",
              "      <td>0.000000</td>\n",
              "      <td>0.000000</td>\n",
              "      <td>0.000000</td>\n",
              "      <td>0.000000</td>\n",
              "      <td>376.000000</td>\n",
              "      <td>376.000000</td>\n",
              "      <td>376.000000</td>\n",
              "      <td>376.000000</td>\n",
              "      <td>376.000000</td>\n",
              "      <td>376.000000</td>\n",
              "      <td>376.000000</td>\n",
              "      <td>376.000000</td>\n",
              "      <td>376.000000</td>\n",
              "      <td>376.000000</td>\n",
              "      <td>376.000000</td>\n",
              "      <td>376.000000</td>\n",
              "      <td>376.000000</td>\n",
              "      <td>376.000000</td>\n",
              "      <td>376.000000</td>\n",
              "      <td>3.000000</td>\n",
              "    </tr>\n",
              "    <tr>\n",
              "      <th>75%</th>\n",
              "      <td>1.000000</td>\n",
              "      <td>788.000000</td>\n",
              "      <td>0.000000</td>\n",
              "      <td>0.000000</td>\n",
              "      <td>1.000000</td>\n",
              "      <td>0.000000</td>\n",
              "      <td>0.0</td>\n",
              "      <td>0.000000</td>\n",
              "      <td>0.000000</td>\n",
              "      <td>0.000000</td>\n",
              "      <td>0.000000</td>\n",
              "      <td>0.000000</td>\n",
              "      <td>788.000000</td>\n",
              "      <td>788.000000</td>\n",
              "      <td>788.000000</td>\n",
              "      <td>788.000000</td>\n",
              "      <td>788.000000</td>\n",
              "      <td>788.000000</td>\n",
              "      <td>788.000000</td>\n",
              "      <td>788.000000</td>\n",
              "      <td>788.000000</td>\n",
              "      <td>788.000000</td>\n",
              "      <td>788.000000</td>\n",
              "      <td>788.000000</td>\n",
              "      <td>788.000000</td>\n",
              "      <td>788.000000</td>\n",
              "      <td>788.000000</td>\n",
              "      <td>5.000000</td>\n",
              "    </tr>\n",
              "    <tr>\n",
              "      <th>max</th>\n",
              "      <td>1.000000</td>\n",
              "      <td>7326.000000</td>\n",
              "      <td>1.000000</td>\n",
              "      <td>1.000000</td>\n",
              "      <td>1.000000</td>\n",
              "      <td>1.000000</td>\n",
              "      <td>0.0</td>\n",
              "      <td>1.000000</td>\n",
              "      <td>1.000000</td>\n",
              "      <td>1.000000</td>\n",
              "      <td>1.000000</td>\n",
              "      <td>1.000000</td>\n",
              "      <td>7326.000000</td>\n",
              "      <td>7326.000000</td>\n",
              "      <td>7326.000000</td>\n",
              "      <td>7326.000000</td>\n",
              "      <td>7326.000000</td>\n",
              "      <td>7326.000000</td>\n",
              "      <td>7326.000000</td>\n",
              "      <td>7326.000000</td>\n",
              "      <td>7326.000000</td>\n",
              "      <td>7326.000000</td>\n",
              "      <td>7326.000000</td>\n",
              "      <td>7326.000000</td>\n",
              "      <td>7326.000000</td>\n",
              "      <td>7326.000000</td>\n",
              "      <td>7326.000000</td>\n",
              "      <td>6.000000</td>\n",
              "    </tr>\n",
              "  </tbody>\n",
              "</table>\n",
              "</div>"
            ],
            "text/plain": [
              "            repriza  broj_gledatelja  ...   increment15           dow\n",
              "count  32960.000000     32960.000000  ...  32945.000000  32960.000000\n",
              "mean       0.581007       665.783404  ...    665.990226      2.971996\n",
              "std        0.493402       777.778299  ...    777.894840      2.012108\n",
              "min        0.000000         3.000000  ...      3.000000      0.000000\n",
              "25%        0.000000       217.000000  ...    217.000000      1.000000\n",
              "50%        1.000000       376.000000  ...    376.000000      3.000000\n",
              "75%        1.000000       788.000000  ...    788.000000      5.000000\n",
              "max        1.000000      7326.000000  ...   7326.000000      6.000000\n",
              "\n",
              "[8 rows x 28 columns]"
            ]
          },
          "metadata": {
            "tags": []
          },
          "execution_count": 37
        },
        {
          "output_type": "display_data",
          "data": {
            "image/png": "[encoded data removed]",
            "text/plain": [
              "<Figure size 432x288 with 1 Axes>"
            ]
          },
          "metadata": {
            "tags": [],
            "needs_background": "light"
          }
        }
      ]
    },
    {
      "cell_type": "code",
      "metadata": {
        "colab": {
          "base_uri": "https://localhost:8080/",
          "height": 265
        },
        "id": "NuNGEYM0xlB3",
        "outputId": "f52ebeae-d6a0-474d-8c20-866eadde3629"
      },
      "source": [
        "import matplotlib.pyplot as plt\n",
        "\n",
        "x = dataset.broj_gledatelja\n",
        "y = dataset.increment2\n",
        "\n",
        "plt.scatter(x, y)\n",
        "plt.show()"
      ],
      "execution_count": null,
      "outputs": [
        {
          "output_type": "display_data",
          "data": {
            "image/png": "[encoded data removed]",
            "text/plain": [
              "<Figure size 432x288 with 1 Axes>"
            ]
          },
          "metadata": {
            "tags": [],
            "needs_background": "light"
          }
        }
      ]
    },
    {
      "cell_type": "code",
      "metadata": {
        "id": "7tyHiJN0oTKF"
      },
      "source": [
        "dataset.columns\n",
        " \n",
        "\n",
        "bcols=[  'repriza',  'm_from_start', 'dow',\n",
        "       'DRUGI INFORMATIVNI SADRŽAJI', 'GLAZBA', 'IGRANI PROGRAM',\n",
        "       'OBRAZOVANJE', 'PROMOCIJA', 'RELIGIJA', 'UMJETNOST I KULTURA',\n",
        "       'VIJESTI', 'ZABAVA', 'ZNANOST', \n",
        "       #'increment1', 'increment2', 'increment3', 'increment4' , 'increment5', 'increment6', 'increment7',\n",
        "       #'increment8', 'increment9', 'increment10', 'increment11', 'increment12',\n",
        "       #'increment13', 'increment14', \n",
        "       'increment15']\n",
        "chlcol='broj_gledatelja'\n",
        "\n"
      ],
      "execution_count": null,
      "outputs": []
    },
    {
      "cell_type": "code",
      "metadata": {
        "id": "ntUmgYBQp82u",
        "colab": {
          "base_uri": "https://localhost:8080/",
          "height": 387
        },
        "outputId": "53d5d0d2-348b-4eda-ab5e-70d8687a434c"
      },
      "source": [
        "from sklearn.model_selection import train_test_split\n",
        "import math\n",
        "dataset2=dataset.dropna()\n",
        "training_inputs=dataset2[bcols] \n",
        "training_outputs=dataset2[chlcol] \n",
        "#training_outputs_bin=[int(v) for v in training_outputs]\n",
        "#add logs of bands\n",
        "#import math\n",
        "# for b in bcols:\n",
        "#   training_inputs['log'+b]=training_inputs[b].apply(math.log)\n",
        "# for b in bcols:\n",
        "#   training_inputs['inv'+b]=training_inputs[b].apply(lambda x: 1/x)\n",
        "# for b in bcols:\n",
        "#   training_inputs['sq'+b]=training_inputs[b].apply(lambda x: x*x)\n",
        "# for b in bcols:\n",
        "#   training_inputs['exp'+b]=training_inputs[b].apply(math.exp  )\n",
        "# encoder = LabelEncoder()\n",
        "# values[:,4] = encoder.fit_transform(values[:,4])\n",
        "# # ensure all data is float\n",
        "# values = values.astype('float32')\n",
        "# # normalize features\n",
        "# scaler = MinMaxScaler(feature_range=(0, 1))\n",
        "# training_inputs_scaled = scaler.fit_transform(training_inputs)\n",
        "X_train, X_test, y_train, y_test = train_test_split(training_inputs , training_outputs ,test_size=0.4 ,shuffle=True)\n",
        " "
      ],
      "execution_count": null,
      "outputs": [
        {
          "output_type": "error",
          "ename": "KeyError",
          "evalue": "ignored",
          "traceback": [
            "\u001b[0;31m---------------------------------------------------------------------------\u001b[0m",
            "\u001b[0;31mKeyError\u001b[0m                                  Traceback (most recent call last)",
            "\u001b[0;32m<ipython-input-42-cc4cb9ba47db>\u001b[0m in \u001b[0;36m<module>\u001b[0;34m()\u001b[0m\n\u001b[1;32m      2\u001b[0m \u001b[0;32mimport\u001b[0m \u001b[0mmath\u001b[0m\u001b[0;34m\u001b[0m\u001b[0;34m\u001b[0m\u001b[0m\n\u001b[1;32m      3\u001b[0m \u001b[0mdataset2\u001b[0m\u001b[0;34m=\u001b[0m\u001b[0mdataset\u001b[0m\u001b[0;34m.\u001b[0m\u001b[0mdropna\u001b[0m\u001b[0;34m(\u001b[0m\u001b[0;34m)\u001b[0m\u001b[0;34m\u001b[0m\u001b[0;34m\u001b[0m\u001b[0m\n\u001b[0;32m----> 4\u001b[0;31m \u001b[0mtraining_inputs\u001b[0m\u001b[0;34m=\u001b[0m\u001b[0mdataset2\u001b[0m\u001b[0;34m[\u001b[0m\u001b[0mbcols\u001b[0m\u001b[0;34m]\u001b[0m\u001b[0;34m\u001b[0m\u001b[0;34m\u001b[0m\u001b[0m\n\u001b[0m\u001b[1;32m      5\u001b[0m \u001b[0mtraining_outputs\u001b[0m\u001b[0;34m=\u001b[0m\u001b[0mdataset2\u001b[0m\u001b[0;34m[\u001b[0m\u001b[0mchlcol\u001b[0m\u001b[0;34m]\u001b[0m\u001b[0;34m\u001b[0m\u001b[0;34m\u001b[0m\u001b[0m\n\u001b[1;32m      6\u001b[0m \u001b[0;31m#training_outputs_bin=[int(v) for v in training_outputs]\u001b[0m\u001b[0;34m\u001b[0m\u001b[0;34m\u001b[0m\u001b[0;34m\u001b[0m\u001b[0m\n",
            "\u001b[0;32m/usr/local/lib/python3.7/dist-packages/pandas/core/frame.py\u001b[0m in \u001b[0;36m__getitem__\u001b[0;34m(self, key)\u001b[0m\n\u001b[1;32m   2910\u001b[0m             \u001b[0;32mif\u001b[0m \u001b[0mis_iterator\u001b[0m\u001b[0;34m(\u001b[0m\u001b[0mkey\u001b[0m\u001b[0;34m)\u001b[0m\u001b[0;34m:\u001b[0m\u001b[0;34m\u001b[0m\u001b[0;34m\u001b[0m\u001b[0m\n\u001b[1;32m   2911\u001b[0m                 \u001b[0mkey\u001b[0m \u001b[0;34m=\u001b[0m \u001b[0mlist\u001b[0m\u001b[0;34m(\u001b[0m\u001b[0mkey\u001b[0m\u001b[0;34m)\u001b[0m\u001b[0;34m\u001b[0m\u001b[0;34m\u001b[0m\u001b[0m\n\u001b[0;32m-> 2912\u001b[0;31m             \u001b[0mindexer\u001b[0m \u001b[0;34m=\u001b[0m \u001b[0mself\u001b[0m\u001b[0;34m.\u001b[0m\u001b[0mloc\u001b[0m\u001b[0;34m.\u001b[0m\u001b[0m_get_listlike_indexer\u001b[0m\u001b[0;34m(\u001b[0m\u001b[0mkey\u001b[0m\u001b[0;34m,\u001b[0m \u001b[0maxis\u001b[0m\u001b[0;34m=\u001b[0m\u001b[0;36m1\u001b[0m\u001b[0;34m,\u001b[0m \u001b[0mraise_missing\u001b[0m\u001b[0;34m=\u001b[0m\u001b[0;32mTrue\u001b[0m\u001b[0;34m)\u001b[0m\u001b[0;34m[\u001b[0m\u001b[0;36m1\u001b[0m\u001b[0;34m]\u001b[0m\u001b[0;34m\u001b[0m\u001b[0;34m\u001b[0m\u001b[0m\n\u001b[0m\u001b[1;32m   2913\u001b[0m \u001b[0;34m\u001b[0m\u001b[0m\n\u001b[1;32m   2914\u001b[0m         \u001b[0;31m# take() does not accept boolean indexers\u001b[0m\u001b[0;34m\u001b[0m\u001b[0;34m\u001b[0m\u001b[0;34m\u001b[0m\u001b[0m\n",
            "\u001b[0;32m/usr/local/lib/python3.7/dist-packages/pandas/core/indexing.py\u001b[0m in \u001b[0;36m_get_listlike_indexer\u001b[0;34m(self, key, axis, raise_missing)\u001b[0m\n\u001b[1;32m   1252\u001b[0m             \u001b[0mkeyarr\u001b[0m\u001b[0;34m,\u001b[0m \u001b[0mindexer\u001b[0m\u001b[0;34m,\u001b[0m \u001b[0mnew_indexer\u001b[0m \u001b[0;34m=\u001b[0m \u001b[0max\u001b[0m\u001b[0;34m.\u001b[0m\u001b[0m_reindex_non_unique\u001b[0m\u001b[0;34m(\u001b[0m\u001b[0mkeyarr\u001b[0m\u001b[0;34m)\u001b[0m\u001b[0;34m\u001b[0m\u001b[0;34m\u001b[0m\u001b[0m\n\u001b[1;32m   1253\u001b[0m \u001b[0;34m\u001b[0m\u001b[0m\n\u001b[0;32m-> 1254\u001b[0;31m         \u001b[0mself\u001b[0m\u001b[0;34m.\u001b[0m\u001b[0m_validate_read_indexer\u001b[0m\u001b[0;34m(\u001b[0m\u001b[0mkeyarr\u001b[0m\u001b[0;34m,\u001b[0m \u001b[0mindexer\u001b[0m\u001b[0;34m,\u001b[0m \u001b[0maxis\u001b[0m\u001b[0;34m,\u001b[0m \u001b[0mraise_missing\u001b[0m\u001b[0;34m=\u001b[0m\u001b[0mraise_missing\u001b[0m\u001b[0;34m)\u001b[0m\u001b[0;34m\u001b[0m\u001b[0;34m\u001b[0m\u001b[0m\n\u001b[0m\u001b[1;32m   1255\u001b[0m         \u001b[0;32mreturn\u001b[0m \u001b[0mkeyarr\u001b[0m\u001b[0;34m,\u001b[0m \u001b[0mindexer\u001b[0m\u001b[0;34m\u001b[0m\u001b[0;34m\u001b[0m\u001b[0m\n\u001b[1;32m   1256\u001b[0m \u001b[0;34m\u001b[0m\u001b[0m\n",
            "\u001b[0;32m/usr/local/lib/python3.7/dist-packages/pandas/core/indexing.py\u001b[0m in \u001b[0;36m_validate_read_indexer\u001b[0;34m(self, key, indexer, axis, raise_missing)\u001b[0m\n\u001b[1;32m   1302\u001b[0m             \u001b[0;32mif\u001b[0m \u001b[0mraise_missing\u001b[0m\u001b[0;34m:\u001b[0m\u001b[0;34m\u001b[0m\u001b[0;34m\u001b[0m\u001b[0m\n\u001b[1;32m   1303\u001b[0m                 \u001b[0mnot_found\u001b[0m \u001b[0;34m=\u001b[0m \u001b[0mlist\u001b[0m\u001b[0;34m(\u001b[0m\u001b[0mset\u001b[0m\u001b[0;34m(\u001b[0m\u001b[0mkey\u001b[0m\u001b[0;34m)\u001b[0m \u001b[0;34m-\u001b[0m \u001b[0mset\u001b[0m\u001b[0;34m(\u001b[0m\u001b[0max\u001b[0m\u001b[0;34m)\u001b[0m\u001b[0;34m)\u001b[0m\u001b[0;34m\u001b[0m\u001b[0;34m\u001b[0m\u001b[0m\n\u001b[0;32m-> 1304\u001b[0;31m                 \u001b[0;32mraise\u001b[0m \u001b[0mKeyError\u001b[0m\u001b[0;34m(\u001b[0m\u001b[0;34mf\"{not_found} not in index\"\u001b[0m\u001b[0;34m)\u001b[0m\u001b[0;34m\u001b[0m\u001b[0;34m\u001b[0m\u001b[0m\n\u001b[0m\u001b[1;32m   1305\u001b[0m \u001b[0;34m\u001b[0m\u001b[0m\n\u001b[1;32m   1306\u001b[0m             \u001b[0;31m# we skip the warning on Categorical\u001b[0m\u001b[0;34m\u001b[0m\u001b[0;34m\u001b[0m\u001b[0;34m\u001b[0m\u001b[0m\n",
            "\u001b[0;31mKeyError\u001b[0m: \"['m_from_start'] not in index\""
          ]
        }
      ]
    },
    {
      "cell_type": "code",
      "metadata": {
        "colab": {
          "base_uri": "https://localhost:8080/"
        },
        "id": "HUp_NNu2qezH",
        "outputId": "b70ab51a-fec6-4650-c121-1516e1578fad"
      },
      "source": [
        "from sklearn.neural_network import MLPRegressor\n",
        "ann = MLPRegressor(activation='relu', solver='adam', learning_rate = 'adaptive', shuffle=True,\n",
        "                    max_iter=1000,\n",
        "                   alpha=1e-5, hidden_layer_sizes= tuple(100 for _ in range(4)))\n",
        "#ann.max_iter=1000\n",
        "ann.fit(X_train, y_train)     \n",
        "print('Train score',ann.score(X_train, y_train)    )\n",
        "print('Test score',ann.score(X_test, y_test)    )   "
      ],
      "execution_count": null,
      "outputs": [
        {
          "output_type": "stream",
          "text": [
            "Train score 0.9073565192432529\n",
            "Test score 0.8602870884813836\n"
          ],
          "name": "stdout"
        }
      ]
    },
    {
      "cell_type": "code",
      "metadata": {
        "colab": {
          "base_uri": "https://localhost:8080/",
          "height": 297
        },
        "id": "tEsSNI8bqnPe",
        "outputId": "5bd954ff-7086-49a9-8c65-cf6645f7db57"
      },
      "source": [
        "import matplotlib.pyplot as plt\n",
        "import matplotlib\n",
        "plt.plot( y_train,ann.predict(X_train),'bo',linestyle='none',label='Train predictions') \n",
        "plt.plot(y_test,ann.predict(X_test),'ro',linestyle='none',label='Test predictions') \n",
        "plt.plot(range(12),range(12),'g',linestyle='dotted') \n",
        "plt.xlabel('Observed '+chlcol)\n",
        "plt.ylabel('Prediccted ' + chlcol)\n",
        "plt.legend()"
      ],
      "execution_count": null,
      "outputs": [
        {
          "output_type": "execute_result",
          "data": {
            "text/plain": [
              "<matplotlib.legend.Legend at 0x7fc311948410>"
            ]
          },
          "metadata": {
            "tags": []
          },
          "execution_count": 21
        },
        {
          "output_type": "display_data",
          "data": {
            "image/png": "[encoded data removed]",
            "text/plain": [
              "<Figure size 432x288 with 1 Axes>"
            ]
          },
          "metadata": {
            "tags": [],
            "needs_background": "light"
          }
        }
      ]
    },
    {
      "cell_type": "code",
      "metadata": {
        "colab": {
          "base_uri": "https://localhost:8080/"
        },
        "id": "VbgXKo74qqaN",
        "outputId": "66a39b66-0506-4290-e4e2-d1a9000d8058"
      },
      "source": [
        "import numpy as np\n",
        "from sklearn.linear_model import LinearRegression\n",
        "import pickle\n",
        "reg = LinearRegression( fit_intercept=True, normalize=True)\n",
        "reg.fit(X_train, y_train)\n",
        " \n",
        "#print(X_train.columns)\n",
        "print(reg.coef_)\n",
        "\n",
        "print(reg.intercept_)\n",
        "print(\"train score\",reg.score(X_train,y_train))\n",
        "print(\"test score\",reg.score(X_test,y_test))"
      ],
      "execution_count": null,
      "outputs": [
        {
          "output_type": "stream",
          "text": [
            "[ 1.82709559e+01  1.45117335e+00  8.55137742e+00  5.89229989e-01\n",
            " -5.24956093e+14 -5.24956093e+14 -5.24956093e+14 -5.24956093e+14\n",
            " -2.49793037e+14 -5.24956093e+14 -5.24956093e+14 -5.24956093e+14\n",
            " -5.24956093e+14 -5.24956093e+14  7.95093812e-01]\n",
            "524956092719976.2\n",
            "train score 0.7706904118498015\n",
            "test score 0.7697107515096908\n"
          ],
          "name": "stdout"
        }
      ]
    },
    {
      "cell_type": "code",
      "metadata": {
        "colab": {
          "base_uri": "https://localhost:8080/",
          "height": 300
        },
        "id": "iZ5uDlu7q7ir",
        "outputId": "489611d8-9275-46b6-d369-7c718f202a54"
      },
      "source": [
        "plt.plot( y_train,reg.predict(X_train),'bo',linestyle='none',label='Train predictions') \n",
        "plt.plot(y_test,reg.predict(X_test),'ro',linestyle='none',label='Test predictions') \n",
        "plt.plot(range(12),range(12),'g',linestyle='dotted') \n",
        "plt.xlabel('Observed '+chlcol)\n",
        "plt.ylabel('Prediccted ' + chlcol)\n",
        "plt.legend()"
      ],
      "execution_count": null,
      "outputs": [
        {
          "output_type": "execute_result",
          "data": {
            "text/plain": [
              "<matplotlib.legend.Legend at 0x7f2503ff5210>"
            ]
          },
          "metadata": {
            "tags": []
          },
          "execution_count": 81
        },
        {
          "output_type": "display_data",
          "data": {
            "image/png": "[encoded data removed]",
            "text/plain": [
              "<Figure size 432x288 with 1 Axes>"
            ]
          },
          "metadata": {
            "tags": [],
            "needs_background": "light"
          }
        }
      ]
    },
    {
      "cell_type": "code",
      "metadata": {
        "colab": {
          "base_uri": "https://localhost:8080/"
        },
        "id": "D-m3npmhxMjS",
        "outputId": "427def5a-95c9-4af4-e912-7de484a6aee3"
      },
      "source": [
        "from sklearn.tree import DecisionTreeRegressor\n",
        "\n",
        "reg = DecisionTreeRegressor(random_state=0)\n",
        "reg.fit(X_train, y_train)\n",
        "print(\"train score\",reg.score(X_train,y_train))\n",
        "print(\"test score\",reg.score(X_test,y_test))"
      ],
      "execution_count": null,
      "outputs": [
        {
          "output_type": "stream",
          "text": [
            "train score 0.9999503024332055\n",
            "test score 0.9012995469960203\n"
          ],
          "name": "stdout"
        }
      ]
    },
    {
      "cell_type": "code",
      "metadata": {
        "colab": {
          "base_uri": "https://localhost:8080/",
          "height": 299
        },
        "id": "jmjiiZPQxPg_",
        "outputId": "02893ed2-34aa-4233-e429-63e34bc31598"
      },
      "source": [
        "plt.plot( y_train,reg.predict(X_train),'bo',linestyle='none',label='Train predictions') \n",
        "plt.plot(y_test,reg.predict(X_test),'ro',linestyle='none',label='Test predictions') \n",
        "plt.plot(range(12),range(12),'g',linestyle='dotted') \n",
        "plt.xlabel('Observed '+chlcol)\n",
        "plt.ylabel('Prediccted ' + chlcol)\n",
        "plt.legend()"
      ],
      "execution_count": null,
      "outputs": [
        {
          "output_type": "execute_result",
          "data": {
            "text/plain": [
              "<matplotlib.legend.Legend at 0x7f250339ba50>"
            ]
          },
          "metadata": {
            "tags": []
          },
          "execution_count": 83
        },
        {
          "output_type": "display_data",
          "data": {
            "image/png": "[encoded data removed]",
            "text/plain": [
              "<Figure size 432x288 with 1 Axes>"
            ]
          },
          "metadata": {
            "tags": [],
            "needs_background": "light"
          }
        }
      ]
    },
    {
      "cell_type": "code",
      "metadata": {
        "colab": {
          "base_uri": "https://localhost:8080/",
          "height": 464
        },
        "id": "hfuRLK3TrBEO",
        "outputId": "ce6ec96d-108d-4ebf-ec8d-0a7536a2d4d2"
      },
      "source": [
        "X_test"
      ],
      "execution_count": null,
      "outputs": [
        {
          "output_type": "execute_result",
          "data": {
            "text/html": [
              "<div>\n",
              "<style scoped>\n",
              "    .dataframe tbody tr th:only-of-type {\n",
              "        vertical-align: middle;\n",
              "    }\n",
              "\n",
              "    .dataframe tbody tr th {\n",
              "        vertical-align: top;\n",
              "    }\n",
              "\n",
              "    .dataframe thead th {\n",
              "        text-align: right;\n",
              "    }\n",
              "</style>\n",
              "<table border=\"1\" class=\"dataframe\">\n",
              "  <thead>\n",
              "    <tr style=\"text-align: right;\">\n",
              "      <th></th>\n",
              "      <th>repriza</th>\n",
              "      <th>m_from_start</th>\n",
              "      <th>h_x</th>\n",
              "      <th>m_x</th>\n",
              "      <th>DRUGI INFORMATIVNI SADRŽAJI</th>\n",
              "      <th>GLAZBA</th>\n",
              "      <th>IGRANI PROGRAM</th>\n",
              "      <th>OBRAZOVANJE</th>\n",
              "      <th>PROMOCIJA</th>\n",
              "      <th>RELIGIJA</th>\n",
              "      <th>UMJETNOST I KULTURA</th>\n",
              "      <th>VIJESTI</th>\n",
              "      <th>ZABAVA</th>\n",
              "      <th>ZNANOST</th>\n",
              "      <th>increment15</th>\n",
              "    </tr>\n",
              "  </thead>\n",
              "  <tbody>\n",
              "    <tr>\n",
              "      <th>4045</th>\n",
              "      <td>0</td>\n",
              "      <td>9.0</td>\n",
              "      <td>19.0</td>\n",
              "      <td>25.0</td>\n",
              "      <td>0</td>\n",
              "      <td>0</td>\n",
              "      <td>0</td>\n",
              "      <td>0</td>\n",
              "      <td>0</td>\n",
              "      <td>0</td>\n",
              "      <td>1</td>\n",
              "      <td>0</td>\n",
              "      <td>0</td>\n",
              "      <td>0</td>\n",
              "      <td>1276.0</td>\n",
              "    </tr>\n",
              "    <tr>\n",
              "      <th>16638</th>\n",
              "      <td>0</td>\n",
              "      <td>43.0</td>\n",
              "      <td>7.0</td>\n",
              "      <td>54.0</td>\n",
              "      <td>0</td>\n",
              "      <td>0</td>\n",
              "      <td>0</td>\n",
              "      <td>1</td>\n",
              "      <td>0</td>\n",
              "      <td>0</td>\n",
              "      <td>0</td>\n",
              "      <td>0</td>\n",
              "      <td>0</td>\n",
              "      <td>0</td>\n",
              "      <td>1368.0</td>\n",
              "    </tr>\n",
              "    <tr>\n",
              "      <th>133093</th>\n",
              "      <td>1</td>\n",
              "      <td>58.0</td>\n",
              "      <td>11.0</td>\n",
              "      <td>1.0</td>\n",
              "      <td>0</td>\n",
              "      <td>0</td>\n",
              "      <td>1</td>\n",
              "      <td>0</td>\n",
              "      <td>0</td>\n",
              "      <td>0</td>\n",
              "      <td>0</td>\n",
              "      <td>0</td>\n",
              "      <td>0</td>\n",
              "      <td>0</td>\n",
              "      <td>746.0</td>\n",
              "    </tr>\n",
              "    <tr>\n",
              "      <th>112792</th>\n",
              "      <td>0</td>\n",
              "      <td>24.0</td>\n",
              "      <td>8.0</td>\n",
              "      <td>40.0</td>\n",
              "      <td>1</td>\n",
              "      <td>0</td>\n",
              "      <td>0</td>\n",
              "      <td>0</td>\n",
              "      <td>0</td>\n",
              "      <td>0</td>\n",
              "      <td>0</td>\n",
              "      <td>0</td>\n",
              "      <td>0</td>\n",
              "      <td>0</td>\n",
              "      <td>901.0</td>\n",
              "    </tr>\n",
              "    <tr>\n",
              "      <th>59250</th>\n",
              "      <td>0</td>\n",
              "      <td>25.0</td>\n",
              "      <td>22.0</td>\n",
              "      <td>26.0</td>\n",
              "      <td>0</td>\n",
              "      <td>0</td>\n",
              "      <td>1</td>\n",
              "      <td>0</td>\n",
              "      <td>0</td>\n",
              "      <td>0</td>\n",
              "      <td>0</td>\n",
              "      <td>0</td>\n",
              "      <td>0</td>\n",
              "      <td>0</td>\n",
              "      <td>990.0</td>\n",
              "    </tr>\n",
              "    <tr>\n",
              "      <th>...</th>\n",
              "      <td>...</td>\n",
              "      <td>...</td>\n",
              "      <td>...</td>\n",
              "      <td>...</td>\n",
              "      <td>...</td>\n",
              "      <td>...</td>\n",
              "      <td>...</td>\n",
              "      <td>...</td>\n",
              "      <td>...</td>\n",
              "      <td>...</td>\n",
              "      <td>...</td>\n",
              "      <td>...</td>\n",
              "      <td>...</td>\n",
              "      <td>...</td>\n",
              "      <td>...</td>\n",
              "    </tr>\n",
              "    <tr>\n",
              "      <th>25819</th>\n",
              "      <td>1</td>\n",
              "      <td>35.0</td>\n",
              "      <td>16.0</td>\n",
              "      <td>54.0</td>\n",
              "      <td>0</td>\n",
              "      <td>0</td>\n",
              "      <td>0</td>\n",
              "      <td>0</td>\n",
              "      <td>0</td>\n",
              "      <td>0</td>\n",
              "      <td>1</td>\n",
              "      <td>0</td>\n",
              "      <td>0</td>\n",
              "      <td>0</td>\n",
              "      <td>1044.0</td>\n",
              "    </tr>\n",
              "    <tr>\n",
              "      <th>40963</th>\n",
              "      <td>1</td>\n",
              "      <td>11.0</td>\n",
              "      <td>5.0</td>\n",
              "      <td>32.0</td>\n",
              "      <td>0</td>\n",
              "      <td>0</td>\n",
              "      <td>1</td>\n",
              "      <td>0</td>\n",
              "      <td>0</td>\n",
              "      <td>0</td>\n",
              "      <td>0</td>\n",
              "      <td>0</td>\n",
              "      <td>0</td>\n",
              "      <td>0</td>\n",
              "      <td>446.0</td>\n",
              "    </tr>\n",
              "    <tr>\n",
              "      <th>41105</th>\n",
              "      <td>0</td>\n",
              "      <td>68.0</td>\n",
              "      <td>7.0</td>\n",
              "      <td>54.0</td>\n",
              "      <td>0</td>\n",
              "      <td>0</td>\n",
              "      <td>1</td>\n",
              "      <td>0</td>\n",
              "      <td>0</td>\n",
              "      <td>0</td>\n",
              "      <td>0</td>\n",
              "      <td>0</td>\n",
              "      <td>0</td>\n",
              "      <td>0</td>\n",
              "      <td>502.0</td>\n",
              "    </tr>\n",
              "    <tr>\n",
              "      <th>82499</th>\n",
              "      <td>1</td>\n",
              "      <td>22.0</td>\n",
              "      <td>7.0</td>\n",
              "      <td>33.0</td>\n",
              "      <td>0</td>\n",
              "      <td>0</td>\n",
              "      <td>0</td>\n",
              "      <td>1</td>\n",
              "      <td>0</td>\n",
              "      <td>0</td>\n",
              "      <td>0</td>\n",
              "      <td>0</td>\n",
              "      <td>0</td>\n",
              "      <td>0</td>\n",
              "      <td>369.0</td>\n",
              "    </tr>\n",
              "    <tr>\n",
              "      <th>79430</th>\n",
              "      <td>1</td>\n",
              "      <td>79.0</td>\n",
              "      <td>4.0</td>\n",
              "      <td>10.0</td>\n",
              "      <td>0</td>\n",
              "      <td>0</td>\n",
              "      <td>1</td>\n",
              "      <td>0</td>\n",
              "      <td>0</td>\n",
              "      <td>0</td>\n",
              "      <td>0</td>\n",
              "      <td>0</td>\n",
              "      <td>0</td>\n",
              "      <td>0</td>\n",
              "      <td>159.0</td>\n",
              "    </tr>\n",
              "  </tbody>\n",
              "</table>\n",
              "<p>19701 rows × 15 columns</p>\n",
              "</div>"
            ],
            "text/plain": [
              "        repriza  m_from_start   h_x  ...  ZABAVA  ZNANOST  increment15\n",
              "4045          0           9.0  19.0  ...       0        0       1276.0\n",
              "16638         0          43.0   7.0  ...       0        0       1368.0\n",
              "133093        1          58.0  11.0  ...       0        0        746.0\n",
              "112792        0          24.0   8.0  ...       0        0        901.0\n",
              "59250         0          25.0  22.0  ...       0        0        990.0\n",
              "...         ...           ...   ...  ...     ...      ...          ...\n",
              "25819         1          35.0  16.0  ...       0        0       1044.0\n",
              "40963         1          11.0   5.0  ...       0        0        446.0\n",
              "41105         0          68.0   7.0  ...       0        0        502.0\n",
              "82499         1          22.0   7.0  ...       0        0        369.0\n",
              "79430         1          79.0   4.0  ...       0        0        159.0\n",
              "\n",
              "[19701 rows x 15 columns]"
            ]
          },
          "metadata": {
            "tags": []
          },
          "execution_count": 84
        }
      ]
    },
    {
      "cell_type": "code",
      "metadata": {
        "colab": {
          "base_uri": "https://localhost:8080/"
        },
        "id": "ipt3e_OXXvCU",
        "outputId": "772e542d-8631-401a-9bac-87739b0ebbec"
      },
      "source": [
        "from sklearn import linear_model\n",
        "reg = linear_model.BayesianRidge()\n",
        "reg.fit(X_train, y_train)\n",
        "print(\"train score\",reg.score(X_train,y_train))\n",
        "print(\"test score\",reg.score(X_test,y_test))"
      ],
      "execution_count": null,
      "outputs": [
        {
          "output_type": "stream",
          "text": [
            "train score 0.7706893887104314\n",
            "test score 0.7697200073814232\n"
          ],
          "name": "stdout"
        }
      ]
    },
    {
      "cell_type": "code",
      "metadata": {
        "colab": {
          "base_uri": "https://localhost:8080/",
          "height": 300
        },
        "id": "U_nEKRpXXx94",
        "outputId": "e6639991-9549-4c71-fa6d-a039c1a24c8d"
      },
      "source": [
        "plt.plot( y_train,reg.predict(X_train),'bo',linestyle='none',label='Train predictions') \n",
        "plt.plot(y_test,reg.predict(X_test),'ro',linestyle='none',label='Test predictions') \n",
        "plt.plot(range(12),range(12),'g',linestyle='dotted') \n",
        "plt.xlabel('Observed '+chlcol)\n",
        "plt.ylabel('Prediccted ' + chlcol)\n",
        "plt.legend()"
      ],
      "execution_count": null,
      "outputs": [
        {
          "output_type": "execute_result",
          "data": {
            "text/plain": [
              "<matplotlib.legend.Legend at 0x7f2503797850>"
            ]
          },
          "metadata": {
            "tags": []
          },
          "execution_count": 86
        },
        {
          "output_type": "display_data",
          "data": {
            "image/png": "[encoded data removed]",
            "text/plain": [
              "<Figure size 432x288 with 1 Axes>"
            ]
          },
          "metadata": {
            "tags": [],
            "needs_background": "light"
          }
        }
      ]
    },
    {
      "cell_type": "code",
      "metadata": {
        "colab": {
          "base_uri": "https://localhost:8080/"
        },
        "id": "WLRFznaYXzpg",
        "outputId": "64c6ee75-3baa-451c-d316-8546bbd8ff89"
      },
      "source": [
        "from sklearn.linear_model import Ridge\n",
        "#reg = Ridge(alpha=0.2,normalize=True,solver='auto',fit_intercept=True)\n",
        "reg = Ridge(alpha=.00000010,normalize=True,solver='svd',fit_intercept=True)\n",
        "\n",
        "reg.fit(X_train, y_train)\n",
        "print(\"train score\",reg.score(X_train,y_train))\n",
        "print(\"test score\",reg.score(X_test,y_test))"
      ],
      "execution_count": null,
      "outputs": [
        {
          "output_type": "stream",
          "text": [
            "train score 0.770690685510801\n",
            "test score 0.7697130911906924\n"
          ],
          "name": "stdout"
        }
      ]
    },
    {
      "cell_type": "code",
      "metadata": {
        "colab": {
          "base_uri": "https://localhost:8080/"
        },
        "id": "WfyGYviiZt_b",
        "outputId": "1068843c-4de3-4517-af71-370a915d6528"
      },
      "source": [
        "from sklearn.linear_model import ElasticNet\n",
        "#from sklearn.datasets import make_regression\n",
        "#X, y = make_regression(n_features=2, random_state=0)\n",
        "#n_samples=100, n_features=100, n_informative=10, n_targets=1, bias=0.0, effective_rank=None, tail_strength=0.5, noise=0.0, shuffle=True, coef=False, random_state=Non\n",
        "reg = ElasticNet(random_state=1,normalize=True)\n",
        "reg.fit(X_train, y_train)\n",
        "\n",
        "print(\"train score\",reg.score(X_train,y_train))\n",
        "print(\"test score\",reg.score(X_test,y_test))"
      ],
      "execution_count": null,
      "outputs": [
        {
          "output_type": "stream",
          "text": [
            "train score 0.00010658731031143454\n",
            "test score 0.00010507407826376713\n"
          ],
          "name": "stdout"
        }
      ]
    },
    {
      "cell_type": "code",
      "metadata": {
        "colab": {
          "base_uri": "https://localhost:8080/"
        },
        "id": "pABANksiaUcM",
        "outputId": "436a6943-ce13-48f2-eea8-1900c0412cd6"
      },
      "source": [
        "from sklearn.model_selection import GridSearchCV\n",
        "from sklearn.neural_network import MLPRegressor\n",
        "\n",
        "mlpr = MLPRegressor(max_iter=1000)#,hidden_layer_sizes= tuple(10 for _ in range(4)))\n",
        "\n",
        "param_list = {\"activation\": [\"identity\", \"logistic\", \"tanh\", \"relu\"], \"solver\": [ \"adam\"], \"alpha\": [0.00005,0.05]}\n",
        "\n",
        "param_list = {\n",
        "    'hidden_layer_sizes': [(50,50,50), (50,100,50), (100,100,100)],\n",
        "    'activation': ['identity',  'relu'],\n",
        "    'solver': [ 'adam'],\n",
        "    'alpha': [0.0001, 0.05],\n",
        "    'learning_rate': ['constant','adaptive'],\n",
        "}\n",
        "\n",
        "gridCV = GridSearchCV(estimator=mlpr, param_grid=param_list,verbose=3)\n",
        "#\"hidden_layer_sizes\": [(1,),(50,)], \"lbfgs\", \n",
        "#splits = TimeSeriesSplit(n_splits=3)\n",
        "\n",
        "#pyplot.figure(1)\n",
        "#index = 1\n",
        " \n",
        "gridCV.fit(X_train, y_train)\n",
        "predicted = gridCV.predict(X_test)\n",
        "parameters = mlpr.get_params()\n",
        "test_mse = mean_squared_error(y_test, predicted)\n",
        "print(parameters)\n",
        "print(test_mse)\n",
        "sorted(gridCV.cv_results_.keys())"
      ],
      "execution_count": null,
      "outputs": [
        {
          "output_type": "stream",
          "text": [
            "Fitting 5 folds for each of 24 candidates, totalling 120 fits\n",
            "[CV] activation=identity, alpha=0.0001, hidden_layer_sizes=(50, 50, 50), learning_rate=constant, solver=adam \n"
          ],
          "name": "stdout"
        },
        {
          "output_type": "stream",
          "text": [
            "[Parallel(n_jobs=1)]: Using backend SequentialBackend with 1 concurrent workers.\n"
          ],
          "name": "stderr"
        },
        {
          "output_type": "stream",
          "text": [
            "[CV]  activation=identity, alpha=0.0001, hidden_layer_sizes=(50, 50, 50), learning_rate=constant, solver=adam, score=0.736, total=  19.4s\n",
            "[CV] activation=identity, alpha=0.0001, hidden_layer_sizes=(50, 50, 50), learning_rate=constant, solver=adam \n"
          ],
          "name": "stdout"
        },
        {
          "output_type": "stream",
          "text": [
            "[Parallel(n_jobs=1)]: Done   1 out of   1 | elapsed:   19.4s remaining:    0.0s\n"
          ],
          "name": "stderr"
        },
        {
          "output_type": "stream",
          "text": [
            "[CV]  activation=identity, alpha=0.0001, hidden_layer_sizes=(50, 50, 50), learning_rate=constant, solver=adam, score=0.777, total=  15.5s\n",
            "[CV] activation=identity, alpha=0.0001, hidden_layer_sizes=(50, 50, 50), learning_rate=constant, solver=adam \n"
          ],
          "name": "stdout"
        },
        {
          "output_type": "stream",
          "text": [
            "[Parallel(n_jobs=1)]: Done   2 out of   2 | elapsed:   34.9s remaining:    0.0s\n"
          ],
          "name": "stderr"
        },
        {
          "output_type": "stream",
          "text": [
            "[CV]  activation=identity, alpha=0.0001, hidden_layer_sizes=(50, 50, 50), learning_rate=constant, solver=adam, score=0.764, total=  22.1s\n",
            "[CV] activation=identity, alpha=0.0001, hidden_layer_sizes=(50, 50, 50), learning_rate=constant, solver=adam \n",
            "[CV]  activation=identity, alpha=0.0001, hidden_layer_sizes=(50, 50, 50), learning_rate=constant, solver=adam, score=0.767, total=  20.6s\n",
            "[CV] activation=identity, alpha=0.0001, hidden_layer_sizes=(50, 50, 50), learning_rate=constant, solver=adam \n",
            "[CV]  activation=identity, alpha=0.0001, hidden_layer_sizes=(50, 50, 50), learning_rate=constant, solver=adam, score=0.749, total=  10.9s\n",
            "[CV] activation=identity, alpha=0.0001, hidden_layer_sizes=(50, 50, 50), learning_rate=adaptive, solver=adam \n",
            "[CV]  activation=identity, alpha=0.0001, hidden_layer_sizes=(50, 50, 50), learning_rate=adaptive, solver=adam, score=0.741, total=  25.1s\n",
            "[CV] activation=identity, alpha=0.0001, hidden_layer_sizes=(50, 50, 50), learning_rate=adaptive, solver=adam \n",
            "[CV]  activation=identity, alpha=0.0001, hidden_layer_sizes=(50, 50, 50), learning_rate=adaptive, solver=adam, score=0.791, total=  21.2s\n",
            "[CV] activation=identity, alpha=0.0001, hidden_layer_sizes=(50, 50, 50), learning_rate=adaptive, solver=adam \n",
            "[CV]  activation=identity, alpha=0.0001, hidden_layer_sizes=(50, 50, 50), learning_rate=adaptive, solver=adam, score=0.763, total=  18.3s\n",
            "[CV] activation=identity, alpha=0.0001, hidden_layer_sizes=(50, 50, 50), learning_rate=adaptive, solver=adam \n",
            "[CV]  activation=identity, alpha=0.0001, hidden_layer_sizes=(50, 50, 50), learning_rate=adaptive, solver=adam, score=0.770, total=  17.4s\n",
            "[CV] activation=identity, alpha=0.0001, hidden_layer_sizes=(50, 50, 50), learning_rate=adaptive, solver=adam \n",
            "[CV]  activation=identity, alpha=0.0001, hidden_layer_sizes=(50, 50, 50), learning_rate=adaptive, solver=adam, score=0.729, total=  23.8s\n",
            "[CV] activation=identity, alpha=0.0001, hidden_layer_sizes=(50, 100, 50), learning_rate=constant, solver=adam \n",
            "[CV]  activation=identity, alpha=0.0001, hidden_layer_sizes=(50, 100, 50), learning_rate=constant, solver=adam, score=0.735, total=  17.2s\n",
            "[CV] activation=identity, alpha=0.0001, hidden_layer_sizes=(50, 100, 50), learning_rate=constant, solver=adam \n",
            "[CV]  activation=identity, alpha=0.0001, hidden_layer_sizes=(50, 100, 50), learning_rate=constant, solver=adam, score=0.793, total=  31.2s\n",
            "[CV] activation=identity, alpha=0.0001, hidden_layer_sizes=(50, 100, 50), learning_rate=constant, solver=adam \n",
            "[CV]  activation=identity, alpha=0.0001, hidden_layer_sizes=(50, 100, 50), learning_rate=constant, solver=adam, score=0.766, total=  17.3s\n",
            "[CV] activation=identity, alpha=0.0001, hidden_layer_sizes=(50, 100, 50), learning_rate=constant, solver=adam \n",
            "[CV]  activation=identity, alpha=0.0001, hidden_layer_sizes=(50, 100, 50), learning_rate=constant, solver=adam, score=0.773, total=  23.2s\n",
            "[CV] activation=identity, alpha=0.0001, hidden_layer_sizes=(50, 100, 50), learning_rate=constant, solver=adam \n",
            "[CV]  activation=identity, alpha=0.0001, hidden_layer_sizes=(50, 100, 50), learning_rate=constant, solver=adam, score=0.761, total=  30.0s\n",
            "[CV] activation=identity, alpha=0.0001, hidden_layer_sizes=(50, 100, 50), learning_rate=adaptive, solver=adam \n",
            "[CV]  activation=identity, alpha=0.0001, hidden_layer_sizes=(50, 100, 50), learning_rate=adaptive, solver=adam, score=0.738, total=  24.1s\n",
            "[CV] activation=identity, alpha=0.0001, hidden_layer_sizes=(50, 100, 50), learning_rate=adaptive, solver=adam \n",
            "[CV]  activation=identity, alpha=0.0001, hidden_layer_sizes=(50, 100, 50), learning_rate=adaptive, solver=adam, score=0.785, total=  18.1s\n",
            "[CV] activation=identity, alpha=0.0001, hidden_layer_sizes=(50, 100, 50), learning_rate=adaptive, solver=adam \n",
            "[CV]  activation=identity, alpha=0.0001, hidden_layer_sizes=(50, 100, 50), learning_rate=adaptive, solver=adam, score=0.761, total=  20.0s\n",
            "[CV] activation=identity, alpha=0.0001, hidden_layer_sizes=(50, 100, 50), learning_rate=adaptive, solver=adam \n",
            "[CV]  activation=identity, alpha=0.0001, hidden_layer_sizes=(50, 100, 50), learning_rate=adaptive, solver=adam, score=0.776, total=  31.2s\n",
            "[CV] activation=identity, alpha=0.0001, hidden_layer_sizes=(50, 100, 50), learning_rate=adaptive, solver=adam \n",
            "[CV]  activation=identity, alpha=0.0001, hidden_layer_sizes=(50, 100, 50), learning_rate=adaptive, solver=adam, score=0.761, total=  28.7s\n",
            "[CV] activation=identity, alpha=0.0001, hidden_layer_sizes=(100, 100, 100), learning_rate=constant, solver=adam \n",
            "[CV]  activation=identity, alpha=0.0001, hidden_layer_sizes=(100, 100, 100), learning_rate=constant, solver=adam, score=0.736, total=  29.8s\n",
            "[CV] activation=identity, alpha=0.0001, hidden_layer_sizes=(100, 100, 100), learning_rate=constant, solver=adam \n",
            "[CV]  activation=identity, alpha=0.0001, hidden_layer_sizes=(100, 100, 100), learning_rate=constant, solver=adam, score=0.790, total=  30.7s\n",
            "[CV] activation=identity, alpha=0.0001, hidden_layer_sizes=(100, 100, 100), learning_rate=constant, solver=adam \n",
            "[CV]  activation=identity, alpha=0.0001, hidden_layer_sizes=(100, 100, 100), learning_rate=constant, solver=adam, score=0.769, total=  28.9s\n",
            "[CV] activation=identity, alpha=0.0001, hidden_layer_sizes=(100, 100, 100), learning_rate=constant, solver=adam \n",
            "[CV]  activation=identity, alpha=0.0001, hidden_layer_sizes=(100, 100, 100), learning_rate=constant, solver=adam, score=0.775, total=  35.8s\n",
            "[CV] activation=identity, alpha=0.0001, hidden_layer_sizes=(100, 100, 100), learning_rate=constant, solver=adam \n",
            "[CV]  activation=identity, alpha=0.0001, hidden_layer_sizes=(100, 100, 100), learning_rate=constant, solver=adam, score=0.760, total=  31.8s\n",
            "[CV] activation=identity, alpha=0.0001, hidden_layer_sizes=(100, 100, 100), learning_rate=adaptive, solver=adam \n",
            "[CV]  activation=identity, alpha=0.0001, hidden_layer_sizes=(100, 100, 100), learning_rate=adaptive, solver=adam, score=0.739, total=  27.4s\n",
            "[CV] activation=identity, alpha=0.0001, hidden_layer_sizes=(100, 100, 100), learning_rate=adaptive, solver=adam \n",
            "[CV]  activation=identity, alpha=0.0001, hidden_layer_sizes=(100, 100, 100), learning_rate=adaptive, solver=adam, score=0.792, total=  22.2s\n",
            "[CV] activation=identity, alpha=0.0001, hidden_layer_sizes=(100, 100, 100), learning_rate=adaptive, solver=adam \n",
            "[CV]  activation=identity, alpha=0.0001, hidden_layer_sizes=(100, 100, 100), learning_rate=adaptive, solver=adam, score=0.769, total=  33.0s\n",
            "[CV] activation=identity, alpha=0.0001, hidden_layer_sizes=(100, 100, 100), learning_rate=adaptive, solver=adam \n",
            "[CV]  activation=identity, alpha=0.0001, hidden_layer_sizes=(100, 100, 100), learning_rate=adaptive, solver=adam, score=0.774, total=  35.7s\n",
            "[CV] activation=identity, alpha=0.0001, hidden_layer_sizes=(100, 100, 100), learning_rate=adaptive, solver=adam \n",
            "[CV]  activation=identity, alpha=0.0001, hidden_layer_sizes=(100, 100, 100), learning_rate=adaptive, solver=adam, score=0.758, total=  41.3s\n",
            "[CV] activation=identity, alpha=0.05, hidden_layer_sizes=(50, 50, 50), learning_rate=constant, solver=adam \n",
            "[CV]  activation=identity, alpha=0.05, hidden_layer_sizes=(50, 50, 50), learning_rate=constant, solver=adam, score=0.738, total=  14.7s\n",
            "[CV] activation=identity, alpha=0.05, hidden_layer_sizes=(50, 50, 50), learning_rate=constant, solver=adam \n",
            "[CV]  activation=identity, alpha=0.05, hidden_layer_sizes=(50, 50, 50), learning_rate=constant, solver=adam, score=0.791, total=  14.3s\n",
            "[CV] activation=identity, alpha=0.05, hidden_layer_sizes=(50, 50, 50), learning_rate=constant, solver=adam \n",
            "[CV]  activation=identity, alpha=0.05, hidden_layer_sizes=(50, 50, 50), learning_rate=constant, solver=adam, score=0.769, total=  17.6s\n",
            "[CV] activation=identity, alpha=0.05, hidden_layer_sizes=(50, 50, 50), learning_rate=constant, solver=adam \n",
            "[CV]  activation=identity, alpha=0.05, hidden_layer_sizes=(50, 50, 50), learning_rate=constant, solver=adam, score=0.767, total=  17.2s\n",
            "[CV] activation=identity, alpha=0.05, hidden_layer_sizes=(50, 50, 50), learning_rate=constant, solver=adam \n",
            "[CV]  activation=identity, alpha=0.05, hidden_layer_sizes=(50, 50, 50), learning_rate=constant, solver=adam, score=0.759, total=  17.3s\n",
            "[CV] activation=identity, alpha=0.05, hidden_layer_sizes=(50, 50, 50), learning_rate=adaptive, solver=adam \n",
            "[CV]  activation=identity, alpha=0.05, hidden_layer_sizes=(50, 50, 50), learning_rate=adaptive, solver=adam, score=0.732, total=  16.0s\n",
            "[CV] activation=identity, alpha=0.05, hidden_layer_sizes=(50, 50, 50), learning_rate=adaptive, solver=adam \n",
            "[CV]  activation=identity, alpha=0.05, hidden_layer_sizes=(50, 50, 50), learning_rate=adaptive, solver=adam, score=0.790, total=  13.4s\n",
            "[CV] activation=identity, alpha=0.05, hidden_layer_sizes=(50, 50, 50), learning_rate=adaptive, solver=adam \n",
            "[CV]  activation=identity, alpha=0.05, hidden_layer_sizes=(50, 50, 50), learning_rate=adaptive, solver=adam, score=0.757, total=  13.3s\n",
            "[CV] activation=identity, alpha=0.05, hidden_layer_sizes=(50, 50, 50), learning_rate=adaptive, solver=adam \n",
            "[CV]  activation=identity, alpha=0.05, hidden_layer_sizes=(50, 50, 50), learning_rate=adaptive, solver=adam, score=0.767, total=  13.3s\n",
            "[CV] activation=identity, alpha=0.05, hidden_layer_sizes=(50, 50, 50), learning_rate=adaptive, solver=adam \n",
            "[CV]  activation=identity, alpha=0.05, hidden_layer_sizes=(50, 50, 50), learning_rate=adaptive, solver=adam, score=0.727, total=  19.0s\n",
            "[CV] activation=identity, alpha=0.05, hidden_layer_sizes=(50, 100, 50), learning_rate=constant, solver=adam \n",
            "[CV]  activation=identity, alpha=0.05, hidden_layer_sizes=(50, 100, 50), learning_rate=constant, solver=adam, score=0.735, total=  19.9s\n",
            "[CV] activation=identity, alpha=0.05, hidden_layer_sizes=(50, 100, 50), learning_rate=constant, solver=adam \n",
            "[CV]  activation=identity, alpha=0.05, hidden_layer_sizes=(50, 100, 50), learning_rate=constant, solver=adam, score=0.792, total=  20.9s\n",
            "[CV] activation=identity, alpha=0.05, hidden_layer_sizes=(50, 100, 50), learning_rate=constant, solver=adam \n",
            "[CV]  activation=identity, alpha=0.05, hidden_layer_sizes=(50, 100, 50), learning_rate=constant, solver=adam, score=0.756, total=  19.8s\n",
            "[CV] activation=identity, alpha=0.05, hidden_layer_sizes=(50, 100, 50), learning_rate=constant, solver=adam \n",
            "[CV]  activation=identity, alpha=0.05, hidden_layer_sizes=(50, 100, 50), learning_rate=constant, solver=adam, score=0.771, total=  18.9s\n",
            "[CV] activation=identity, alpha=0.05, hidden_layer_sizes=(50, 100, 50), learning_rate=constant, solver=adam \n",
            "[CV]  activation=identity, alpha=0.05, hidden_layer_sizes=(50, 100, 50), learning_rate=constant, solver=adam, score=0.755, total=  18.5s\n",
            "[CV] activation=identity, alpha=0.05, hidden_layer_sizes=(50, 100, 50), learning_rate=adaptive, solver=adam \n",
            "[CV]  activation=identity, alpha=0.05, hidden_layer_sizes=(50, 100, 50), learning_rate=adaptive, solver=adam, score=0.736, total=  22.3s\n",
            "[CV] activation=identity, alpha=0.05, hidden_layer_sizes=(50, 100, 50), learning_rate=adaptive, solver=adam \n",
            "[CV]  activation=identity, alpha=0.05, hidden_layer_sizes=(50, 100, 50), learning_rate=adaptive, solver=adam, score=0.792, total=  18.6s\n",
            "[CV] activation=identity, alpha=0.05, hidden_layer_sizes=(50, 100, 50), learning_rate=adaptive, solver=adam \n",
            "[CV]  activation=identity, alpha=0.05, hidden_layer_sizes=(50, 100, 50), learning_rate=adaptive, solver=adam, score=0.763, total=  15.9s\n",
            "[CV] activation=identity, alpha=0.05, hidden_layer_sizes=(50, 100, 50), learning_rate=adaptive, solver=adam \n",
            "[CV]  activation=identity, alpha=0.05, hidden_layer_sizes=(50, 100, 50), learning_rate=adaptive, solver=adam, score=0.774, total=  26.5s\n",
            "[CV] activation=identity, alpha=0.05, hidden_layer_sizes=(50, 100, 50), learning_rate=adaptive, solver=adam \n",
            "[CV]  activation=identity, alpha=0.05, hidden_layer_sizes=(50, 100, 50), learning_rate=adaptive, solver=adam, score=0.735, total=  25.0s\n",
            "[CV] activation=identity, alpha=0.05, hidden_layer_sizes=(100, 100, 100), learning_rate=constant, solver=adam \n",
            "[CV]  activation=identity, alpha=0.05, hidden_layer_sizes=(100, 100, 100), learning_rate=constant, solver=adam, score=0.734, total=  18.8s\n",
            "[CV] activation=identity, alpha=0.05, hidden_layer_sizes=(100, 100, 100), learning_rate=constant, solver=adam \n",
            "[CV]  activation=identity, alpha=0.05, hidden_layer_sizes=(100, 100, 100), learning_rate=constant, solver=adam, score=0.791, total=  24.7s\n",
            "[CV] activation=identity, alpha=0.05, hidden_layer_sizes=(100, 100, 100), learning_rate=constant, solver=adam \n",
            "[CV]  activation=identity, alpha=0.05, hidden_layer_sizes=(100, 100, 100), learning_rate=constant, solver=adam, score=0.758, total=  20.7s\n",
            "[CV] activation=identity, alpha=0.05, hidden_layer_sizes=(100, 100, 100), learning_rate=constant, solver=adam \n",
            "[CV]  activation=identity, alpha=0.05, hidden_layer_sizes=(100, 100, 100), learning_rate=constant, solver=adam, score=0.775, total=  38.7s\n",
            "[CV] activation=identity, alpha=0.05, hidden_layer_sizes=(100, 100, 100), learning_rate=constant, solver=adam \n",
            "[CV]  activation=identity, alpha=0.05, hidden_layer_sizes=(100, 100, 100), learning_rate=constant, solver=adam, score=0.760, total=  30.0s\n",
            "[CV] activation=identity, alpha=0.05, hidden_layer_sizes=(100, 100, 100), learning_rate=adaptive, solver=adam \n",
            "[CV]  activation=identity, alpha=0.05, hidden_layer_sizes=(100, 100, 100), learning_rate=adaptive, solver=adam, score=0.712, total=  18.9s\n",
            "[CV] activation=identity, alpha=0.05, hidden_layer_sizes=(100, 100, 100), learning_rate=adaptive, solver=adam \n",
            "[CV]  activation=identity, alpha=0.05, hidden_layer_sizes=(100, 100, 100), learning_rate=adaptive, solver=adam, score=0.790, total=  30.1s\n",
            "[CV] activation=identity, alpha=0.05, hidden_layer_sizes=(100, 100, 100), learning_rate=adaptive, solver=adam \n",
            "[CV]  activation=identity, alpha=0.05, hidden_layer_sizes=(100, 100, 100), learning_rate=adaptive, solver=adam, score=0.770, total=  33.3s\n",
            "[CV] activation=identity, alpha=0.05, hidden_layer_sizes=(100, 100, 100), learning_rate=adaptive, solver=adam \n",
            "[CV]  activation=identity, alpha=0.05, hidden_layer_sizes=(100, 100, 100), learning_rate=adaptive, solver=adam, score=0.760, total=  34.5s\n",
            "[CV] activation=identity, alpha=0.05, hidden_layer_sizes=(100, 100, 100), learning_rate=adaptive, solver=adam \n",
            "[CV]  activation=identity, alpha=0.05, hidden_layer_sizes=(100, 100, 100), learning_rate=adaptive, solver=adam, score=0.754, total=  19.2s\n",
            "[CV] activation=relu, alpha=0.0001, hidden_layer_sizes=(50, 50, 50), learning_rate=constant, solver=adam \n",
            "[CV]  activation=relu, alpha=0.0001, hidden_layer_sizes=(50, 50, 50), learning_rate=constant, solver=adam, score=0.866, total=  29.5s\n",
            "[CV] activation=relu, alpha=0.0001, hidden_layer_sizes=(50, 50, 50), learning_rate=constant, solver=adam \n",
            "[CV]  activation=relu, alpha=0.0001, hidden_layer_sizes=(50, 50, 50), learning_rate=constant, solver=adam, score=0.884, total=  27.0s\n",
            "[CV] activation=relu, alpha=0.0001, hidden_layer_sizes=(50, 50, 50), learning_rate=constant, solver=adam \n",
            "[CV]  activation=relu, alpha=0.0001, hidden_layer_sizes=(50, 50, 50), learning_rate=constant, solver=adam, score=0.873, total=  57.9s\n",
            "[CV] activation=relu, alpha=0.0001, hidden_layer_sizes=(50, 50, 50), learning_rate=constant, solver=adam \n",
            "[CV]  activation=relu, alpha=0.0001, hidden_layer_sizes=(50, 50, 50), learning_rate=constant, solver=adam, score=0.868, total=  31.8s\n",
            "[CV] activation=relu, alpha=0.0001, hidden_layer_sizes=(50, 50, 50), learning_rate=constant, solver=adam \n",
            "[CV]  activation=relu, alpha=0.0001, hidden_layer_sizes=(50, 50, 50), learning_rate=constant, solver=adam, score=0.877, total=  49.8s\n",
            "[CV] activation=relu, alpha=0.0001, hidden_layer_sizes=(50, 50, 50), learning_rate=adaptive, solver=adam \n",
            "[CV]  activation=relu, alpha=0.0001, hidden_layer_sizes=(50, 50, 50), learning_rate=adaptive, solver=adam, score=0.876, total= 2.1min\n",
            "[CV] activation=relu, alpha=0.0001, hidden_layer_sizes=(50, 50, 50), learning_rate=adaptive, solver=adam \n",
            "[CV]  activation=relu, alpha=0.0001, hidden_layer_sizes=(50, 50, 50), learning_rate=adaptive, solver=adam, score=0.899, total= 2.4min\n",
            "[CV] activation=relu, alpha=0.0001, hidden_layer_sizes=(50, 50, 50), learning_rate=adaptive, solver=adam \n",
            "[CV]  activation=relu, alpha=0.0001, hidden_layer_sizes=(50, 50, 50), learning_rate=adaptive, solver=adam, score=0.882, total=  46.4s\n",
            "[CV] activation=relu, alpha=0.0001, hidden_layer_sizes=(50, 50, 50), learning_rate=adaptive, solver=adam \n",
            "[CV]  activation=relu, alpha=0.0001, hidden_layer_sizes=(50, 50, 50), learning_rate=adaptive, solver=adam, score=0.865, total= 1.1min\n",
            "[CV] activation=relu, alpha=0.0001, hidden_layer_sizes=(50, 50, 50), learning_rate=adaptive, solver=adam \n",
            "[CV]  activation=relu, alpha=0.0001, hidden_layer_sizes=(50, 50, 50), learning_rate=adaptive, solver=adam, score=0.871, total=  24.6s\n",
            "[CV] activation=relu, alpha=0.0001, hidden_layer_sizes=(50, 100, 50), learning_rate=constant, solver=adam \n",
            "[CV]  activation=relu, alpha=0.0001, hidden_layer_sizes=(50, 100, 50), learning_rate=constant, solver=adam, score=0.879, total=  52.9s\n",
            "[CV] activation=relu, alpha=0.0001, hidden_layer_sizes=(50, 100, 50), learning_rate=constant, solver=adam \n",
            "[CV]  activation=relu, alpha=0.0001, hidden_layer_sizes=(50, 100, 50), learning_rate=constant, solver=adam, score=0.888, total=  34.6s\n",
            "[CV] activation=relu, alpha=0.0001, hidden_layer_sizes=(50, 100, 50), learning_rate=constant, solver=adam \n",
            "[CV]  activation=relu, alpha=0.0001, hidden_layer_sizes=(50, 100, 50), learning_rate=constant, solver=adam, score=0.875, total=  32.1s\n",
            "[CV] activation=relu, alpha=0.0001, hidden_layer_sizes=(50, 100, 50), learning_rate=constant, solver=adam \n",
            "[CV]  activation=relu, alpha=0.0001, hidden_layer_sizes=(50, 100, 50), learning_rate=constant, solver=adam, score=0.869, total=  26.1s\n",
            "[CV] activation=relu, alpha=0.0001, hidden_layer_sizes=(50, 100, 50), learning_rate=constant, solver=adam \n",
            "[CV]  activation=relu, alpha=0.0001, hidden_layer_sizes=(50, 100, 50), learning_rate=constant, solver=adam, score=0.875, total=  52.2s\n",
            "[CV] activation=relu, alpha=0.0001, hidden_layer_sizes=(50, 100, 50), learning_rate=adaptive, solver=adam \n",
            "[CV]  activation=relu, alpha=0.0001, hidden_layer_sizes=(50, 100, 50), learning_rate=adaptive, solver=adam, score=0.882, total= 1.8min\n",
            "[CV] activation=relu, alpha=0.0001, hidden_layer_sizes=(50, 100, 50), learning_rate=adaptive, solver=adam \n",
            "[CV]  activation=relu, alpha=0.0001, hidden_layer_sizes=(50, 100, 50), learning_rate=adaptive, solver=adam, score=0.881, total=  38.0s\n",
            "[CV] activation=relu, alpha=0.0001, hidden_layer_sizes=(50, 100, 50), learning_rate=adaptive, solver=adam \n",
            "[CV]  activation=relu, alpha=0.0001, hidden_layer_sizes=(50, 100, 50), learning_rate=adaptive, solver=adam, score=0.881, total= 1.1min\n",
            "[CV] activation=relu, alpha=0.0001, hidden_layer_sizes=(50, 100, 50), learning_rate=adaptive, solver=adam \n",
            "[CV]  activation=relu, alpha=0.0001, hidden_layer_sizes=(50, 100, 50), learning_rate=adaptive, solver=adam, score=0.875, total=  42.5s\n",
            "[CV] activation=relu, alpha=0.0001, hidden_layer_sizes=(50, 100, 50), learning_rate=adaptive, solver=adam \n",
            "[CV]  activation=relu, alpha=0.0001, hidden_layer_sizes=(50, 100, 50), learning_rate=adaptive, solver=adam, score=0.884, total= 1.2min\n",
            "[CV] activation=relu, alpha=0.0001, hidden_layer_sizes=(100, 100, 100), learning_rate=constant, solver=adam \n",
            "[CV]  activation=relu, alpha=0.0001, hidden_layer_sizes=(100, 100, 100), learning_rate=constant, solver=adam, score=0.871, total=  49.7s\n",
            "[CV] activation=relu, alpha=0.0001, hidden_layer_sizes=(100, 100, 100), learning_rate=constant, solver=adam \n",
            "[CV]  activation=relu, alpha=0.0001, hidden_layer_sizes=(100, 100, 100), learning_rate=constant, solver=adam, score=0.901, total= 2.9min\n",
            "[CV] activation=relu, alpha=0.0001, hidden_layer_sizes=(100, 100, 100), learning_rate=constant, solver=adam \n",
            "[CV]  activation=relu, alpha=0.0001, hidden_layer_sizes=(100, 100, 100), learning_rate=constant, solver=adam, score=0.874, total=  35.1s\n",
            "[CV] activation=relu, alpha=0.0001, hidden_layer_sizes=(100, 100, 100), learning_rate=constant, solver=adam \n",
            "[CV]  activation=relu, alpha=0.0001, hidden_layer_sizes=(100, 100, 100), learning_rate=constant, solver=adam, score=0.885, total= 2.3min\n",
            "[CV] activation=relu, alpha=0.0001, hidden_layer_sizes=(100, 100, 100), learning_rate=constant, solver=adam \n",
            "[CV]  activation=relu, alpha=0.0001, hidden_layer_sizes=(100, 100, 100), learning_rate=constant, solver=adam, score=0.884, total= 3.1min\n",
            "[CV] activation=relu, alpha=0.0001, hidden_layer_sizes=(100, 100, 100), learning_rate=adaptive, solver=adam \n",
            "[CV]  activation=relu, alpha=0.0001, hidden_layer_sizes=(100, 100, 100), learning_rate=adaptive, solver=adam, score=0.896, total= 6.6min\n",
            "[CV] activation=relu, alpha=0.0001, hidden_layer_sizes=(100, 100, 100), learning_rate=adaptive, solver=adam \n",
            "[CV]  activation=relu, alpha=0.0001, hidden_layer_sizes=(100, 100, 100), learning_rate=adaptive, solver=adam, score=0.901, total= 2.4min\n",
            "[CV] activation=relu, alpha=0.0001, hidden_layer_sizes=(100, 100, 100), learning_rate=adaptive, solver=adam \n",
            "[CV]  activation=relu, alpha=0.0001, hidden_layer_sizes=(100, 100, 100), learning_rate=adaptive, solver=adam, score=0.864, total=  51.9s\n",
            "[CV] activation=relu, alpha=0.0001, hidden_layer_sizes=(100, 100, 100), learning_rate=adaptive, solver=adam \n",
            "[CV]  activation=relu, alpha=0.0001, hidden_layer_sizes=(100, 100, 100), learning_rate=adaptive, solver=adam, score=0.878, total= 1.7min\n",
            "[CV] activation=relu, alpha=0.0001, hidden_layer_sizes=(100, 100, 100), learning_rate=adaptive, solver=adam \n",
            "[CV]  activation=relu, alpha=0.0001, hidden_layer_sizes=(100, 100, 100), learning_rate=adaptive, solver=adam, score=0.873, total= 1.7min\n",
            "[CV] activation=relu, alpha=0.05, hidden_layer_sizes=(50, 50, 50), learning_rate=constant, solver=adam \n",
            "[CV]  activation=relu, alpha=0.05, hidden_layer_sizes=(50, 50, 50), learning_rate=constant, solver=adam, score=0.861, total=  27.6s\n",
            "[CV] activation=relu, alpha=0.05, hidden_layer_sizes=(50, 50, 50), learning_rate=constant, solver=adam \n",
            "[CV]  activation=relu, alpha=0.05, hidden_layer_sizes=(50, 50, 50), learning_rate=constant, solver=adam, score=0.891, total= 1.1min\n",
            "[CV] activation=relu, alpha=0.05, hidden_layer_sizes=(50, 50, 50), learning_rate=constant, solver=adam \n",
            "[CV]  activation=relu, alpha=0.05, hidden_layer_sizes=(50, 50, 50), learning_rate=constant, solver=adam, score=0.872, total=  53.6s\n",
            "[CV] activation=relu, alpha=0.05, hidden_layer_sizes=(50, 50, 50), learning_rate=constant, solver=adam \n",
            "[CV]  activation=relu, alpha=0.05, hidden_layer_sizes=(50, 50, 50), learning_rate=constant, solver=adam, score=0.876, total=  48.1s\n",
            "[CV] activation=relu, alpha=0.05, hidden_layer_sizes=(50, 50, 50), learning_rate=constant, solver=adam \n",
            "[CV]  activation=relu, alpha=0.05, hidden_layer_sizes=(50, 50, 50), learning_rate=constant, solver=adam, score=0.850, total=  26.5s\n",
            "[CV] activation=relu, alpha=0.05, hidden_layer_sizes=(50, 50, 50), learning_rate=adaptive, solver=adam \n",
            "[CV]  activation=relu, alpha=0.05, hidden_layer_sizes=(50, 50, 50), learning_rate=adaptive, solver=adam, score=0.875, total=  49.0s\n",
            "[CV] activation=relu, alpha=0.05, hidden_layer_sizes=(50, 50, 50), learning_rate=adaptive, solver=adam \n",
            "[CV]  activation=relu, alpha=0.05, hidden_layer_sizes=(50, 50, 50), learning_rate=adaptive, solver=adam, score=0.892, total= 1.2min\n",
            "[CV] activation=relu, alpha=0.05, hidden_layer_sizes=(50, 50, 50), learning_rate=adaptive, solver=adam \n",
            "[CV]  activation=relu, alpha=0.05, hidden_layer_sizes=(50, 50, 50), learning_rate=adaptive, solver=adam, score=0.884, total=  54.7s\n",
            "[CV] activation=relu, alpha=0.05, hidden_layer_sizes=(50, 50, 50), learning_rate=adaptive, solver=adam \n",
            "[CV]  activation=relu, alpha=0.05, hidden_layer_sizes=(50, 50, 50), learning_rate=adaptive, solver=adam, score=0.880, total= 1.3min\n",
            "[CV] activation=relu, alpha=0.05, hidden_layer_sizes=(50, 50, 50), learning_rate=adaptive, solver=adam \n",
            "[CV]  activation=relu, alpha=0.05, hidden_layer_sizes=(50, 50, 50), learning_rate=adaptive, solver=adam, score=0.870, total=  26.9s\n",
            "[CV] activation=relu, alpha=0.05, hidden_layer_sizes=(50, 100, 50), learning_rate=constant, solver=adam \n",
            "[CV]  activation=relu, alpha=0.05, hidden_layer_sizes=(50, 100, 50), learning_rate=constant, solver=adam, score=0.881, total=  57.5s\n",
            "[CV] activation=relu, alpha=0.05, hidden_layer_sizes=(50, 100, 50), learning_rate=constant, solver=adam \n",
            "[CV]  activation=relu, alpha=0.05, hidden_layer_sizes=(50, 100, 50), learning_rate=constant, solver=adam, score=0.896, total= 1.3min\n",
            "[CV] activation=relu, alpha=0.05, hidden_layer_sizes=(50, 100, 50), learning_rate=constant, solver=adam \n",
            "[CV]  activation=relu, alpha=0.05, hidden_layer_sizes=(50, 100, 50), learning_rate=constant, solver=adam, score=0.876, total=  34.4s\n",
            "[CV] activation=relu, alpha=0.05, hidden_layer_sizes=(50, 100, 50), learning_rate=constant, solver=adam \n",
            "[CV]  activation=relu, alpha=0.05, hidden_layer_sizes=(50, 100, 50), learning_rate=constant, solver=adam, score=0.870, total=  33.3s\n",
            "[CV] activation=relu, alpha=0.05, hidden_layer_sizes=(50, 100, 50), learning_rate=constant, solver=adam \n",
            "[CV]  activation=relu, alpha=0.05, hidden_layer_sizes=(50, 100, 50), learning_rate=constant, solver=adam, score=0.873, total=  33.9s\n",
            "[CV] activation=relu, alpha=0.05, hidden_layer_sizes=(50, 100, 50), learning_rate=adaptive, solver=adam \n",
            "[CV]  activation=relu, alpha=0.05, hidden_layer_sizes=(50, 100, 50), learning_rate=adaptive, solver=adam, score=0.878, total= 1.5min\n",
            "[CV] activation=relu, alpha=0.05, hidden_layer_sizes=(50, 100, 50), learning_rate=adaptive, solver=adam \n",
            "[CV]  activation=relu, alpha=0.05, hidden_layer_sizes=(50, 100, 50), learning_rate=adaptive, solver=adam, score=0.890, total=  33.9s\n",
            "[CV] activation=relu, alpha=0.05, hidden_layer_sizes=(50, 100, 50), learning_rate=adaptive, solver=adam \n",
            "[CV]  activation=relu, alpha=0.05, hidden_layer_sizes=(50, 100, 50), learning_rate=adaptive, solver=adam, score=0.881, total=  55.4s\n",
            "[CV] activation=relu, alpha=0.05, hidden_layer_sizes=(50, 100, 50), learning_rate=adaptive, solver=adam \n",
            "[CV]  activation=relu, alpha=0.05, hidden_layer_sizes=(50, 100, 50), learning_rate=adaptive, solver=adam, score=0.874, total= 1.1min\n",
            "[CV] activation=relu, alpha=0.05, hidden_layer_sizes=(50, 100, 50), learning_rate=adaptive, solver=adam \n",
            "[CV]  activation=relu, alpha=0.05, hidden_layer_sizes=(50, 100, 50), learning_rate=adaptive, solver=adam, score=0.879, total=  41.2s\n",
            "[CV] activation=relu, alpha=0.05, hidden_layer_sizes=(100, 100, 100), learning_rate=constant, solver=adam \n",
            "[CV]  activation=relu, alpha=0.05, hidden_layer_sizes=(100, 100, 100), learning_rate=constant, solver=adam, score=0.878, total= 1.2min\n",
            "[CV] activation=relu, alpha=0.05, hidden_layer_sizes=(100, 100, 100), learning_rate=constant, solver=adam \n",
            "[CV]  activation=relu, alpha=0.05, hidden_layer_sizes=(100, 100, 100), learning_rate=constant, solver=adam, score=0.899, total= 2.9min\n",
            "[CV] activation=relu, alpha=0.05, hidden_layer_sizes=(100, 100, 100), learning_rate=constant, solver=adam \n",
            "[CV]  activation=relu, alpha=0.05, hidden_layer_sizes=(100, 100, 100), learning_rate=constant, solver=adam, score=0.887, total= 3.1min\n",
            "[CV] activation=relu, alpha=0.05, hidden_layer_sizes=(100, 100, 100), learning_rate=constant, solver=adam \n",
            "[CV]  activation=relu, alpha=0.05, hidden_layer_sizes=(100, 100, 100), learning_rate=constant, solver=adam, score=0.900, total= 4.2min\n",
            "[CV] activation=relu, alpha=0.05, hidden_layer_sizes=(100, 100, 100), learning_rate=constant, solver=adam \n",
            "[CV]  activation=relu, alpha=0.05, hidden_layer_sizes=(100, 100, 100), learning_rate=constant, solver=adam, score=0.896, total= 3.4min\n",
            "[CV] activation=relu, alpha=0.05, hidden_layer_sizes=(100, 100, 100), learning_rate=adaptive, solver=adam \n",
            "[CV]  activation=relu, alpha=0.05, hidden_layer_sizes=(100, 100, 100), learning_rate=adaptive, solver=adam, score=0.874, total= 1.3min\n",
            "[CV] activation=relu, alpha=0.05, hidden_layer_sizes=(100, 100, 100), learning_rate=adaptive, solver=adam \n",
            "[CV]  activation=relu, alpha=0.05, hidden_layer_sizes=(100, 100, 100), learning_rate=adaptive, solver=adam, score=0.909, total= 7.4min\n",
            "[CV] activation=relu, alpha=0.05, hidden_layer_sizes=(100, 100, 100), learning_rate=adaptive, solver=adam \n",
            "[CV]  activation=relu, alpha=0.05, hidden_layer_sizes=(100, 100, 100), learning_rate=adaptive, solver=adam, score=0.870, total=  42.0s\n",
            "[CV] activation=relu, alpha=0.05, hidden_layer_sizes=(100, 100, 100), learning_rate=adaptive, solver=adam \n",
            "[CV]  activation=relu, alpha=0.05, hidden_layer_sizes=(100, 100, 100), learning_rate=adaptive, solver=adam, score=0.869, total=  39.9s\n",
            "[CV] activation=relu, alpha=0.05, hidden_layer_sizes=(100, 100, 100), learning_rate=adaptive, solver=adam \n",
            "[CV]  activation=relu, alpha=0.05, hidden_layer_sizes=(100, 100, 100), learning_rate=adaptive, solver=adam, score=0.895, total= 3.9min\n"
          ],
          "name": "stdout"
        },
        {
          "output_type": "stream",
          "text": [
            "[Parallel(n_jobs=1)]: Done 120 out of 120 | elapsed: 110.5min finished\n"
          ],
          "name": "stderr"
        },
        {
          "output_type": "stream",
          "text": [
            "{'activation': 'relu', 'alpha': 0.0001, 'batch_size': 'auto', 'beta_1': 0.9, 'beta_2': 0.999, 'early_stopping': False, 'epsilon': 1e-08, 'hidden_layer_sizes': (100,), 'learning_rate': 'constant', 'learning_rate_init': 0.001, 'max_fun': 15000, 'max_iter': 1000, 'momentum': 0.9, 'n_iter_no_change': 10, 'nesterovs_momentum': True, 'power_t': 0.5, 'random_state': None, 'shuffle': True, 'solver': 'adam', 'tol': 0.0001, 'validation_fraction': 0.1, 'verbose': False, 'warm_start': False}\n",
            "63815.349053529695\n"
          ],
          "name": "stdout"
        },
        {
          "output_type": "execute_result",
          "data": {
            "text/plain": [
              "['mean_fit_time',\n",
              " 'mean_score_time',\n",
              " 'mean_test_score',\n",
              " 'param_activation',\n",
              " 'param_alpha',\n",
              " 'param_hidden_layer_sizes',\n",
              " 'param_learning_rate',\n",
              " 'param_solver',\n",
              " 'params',\n",
              " 'rank_test_score',\n",
              " 'split0_test_score',\n",
              " 'split1_test_score',\n",
              " 'split2_test_score',\n",
              " 'split3_test_score',\n",
              " 'split4_test_score',\n",
              " 'std_fit_time',\n",
              " 'std_score_time',\n",
              " 'std_test_score']"
            ]
          },
          "metadata": {
            "tags": []
          },
          "execution_count": 90
        }
      ]
    },
    {
      "cell_type": "code",
      "metadata": {
        "colab": {
          "base_uri": "https://localhost:8080/"
        },
        "id": "WP6WvqwoS6wr",
        "outputId": "f197c63c-e4cf-4d07-be74-1e19a58854ca"
      },
      "source": [
        "#predicted = gridCV.predict(X_test)\n",
        "parameters = mlpr.get_params()\n",
        "test_mse = mean_squared_error(y_test, predicted)\n",
        "print(parameters)\n",
        "print(test_mse)\n",
        "sorted(gridCV.cv_results_.keys())\n",
        "mlpr.fit(X_train,y_train)\n",
        "print(mlpr.score(X_test,y_test))"
      ],
      "execution_count": null,
      "outputs": [
        {
          "output_type": "stream",
          "text": [
            "{'activation': 'relu', 'alpha': 0.0001, 'batch_size': 'auto', 'beta_1': 0.9, 'beta_2': 0.999, 'early_stopping': False, 'epsilon': 1e-08, 'hidden_layer_sizes': (100,), 'learning_rate': 'constant', 'learning_rate_init': 0.001, 'max_fun': 15000, 'max_iter': 1000, 'momentum': 0.9, 'n_iter_no_change': 10, 'nesterovs_momentum': True, 'power_t': 0.5, 'random_state': None, 'shuffle': True, 'solver': 'adam', 'tol': 0.0001, 'validation_fraction': 0.1, 'verbose': False, 'warm_start': False}\n",
            "63815.349053529695\n",
            "0.8718517824526519\n"
          ],
          "name": "stdout"
        }
      ]
    },
    {
      "cell_type": "markdown",
      "metadata": {
        "id": "SAdKJjVP9y9Y"
      },
      "source": [
        "\n",
        "{'activation': 'relu', 'alpha': 0.0001, 'batch_size': 'auto', 'beta_1': 0.9, 'beta_2': 0.999, 'early_stopping': False, 'epsilon': 1e-08, 'hidden_layer_sizes': (10, 10, 10, 10), 'learning_rate': 'constant', 'learning_rate_init': 0.001, 'max_fun': 15000, 'max_iter': 1000, 'momentum': 0.9, 'n_iter_no_change': 10, 'nesterovs_momentum': True, 'power_t': 0.5, 'random_state': None, 'shuffle': True, 'solver': 'adam', 'tol': 0.0001, 'validation_fraction': 0.1, 'verbose': False, 'warm_start': False}\n",
        "40618.0693256819\n",
        "['mean_fit_time',\n",
        " 'mean_score_time',\n",
        " 'mean_test_score',\n",
        " 'param_activation',\n",
        " 'param_alpha',\n",
        " 'param_solver',\n",
        " 'params',\n",
        " 'rank_test_score',\n",
        " 'split0_test_score',\n",
        " 'split1_test_score',\n",
        " 'split2_test_score',\n",
        " 'split3_test_score',\n",
        " 'split4_test_score',\n",
        " 'std_fit_time',\n",
        " 'std_score_time',\n",
        " 'std_test_score']\n",
        "\n",
        "\n",
        "\n",
        "\n",
        " {'activation': 'relu', 'alpha': 0.0001, 'batch_size': 'auto', 'beta_1': 0.9, 'beta_2': 0.999, 'early_stopping': False, 'epsilon': 1e-08, 'hidden_layer_sizes': (100,), 'learning_rate': 'constant', 'learning_rate_init': 0.001, 'max_fun': 15000, 'max_iter': 1000, 'momentum': 0.9, 'n_iter_no_change': 10, 'nesterovs_momentum': True, 'power_t': 0.5, 'random_state': None, 'shuffle': True, 'solver': 'adam', 'tol': 0.0001, 'validation_fraction': 0.1, 'verbose': False, 'warm_start': False}\n",
        "63815.349053529695\n",
        "['mean_fit_time',\n",
        " 'mean_score_time',\n",
        " 'mean_test_score',\n",
        " 'param_activation',\n",
        " 'param_alpha',\n",
        " 'param_hidden_layer_sizes',\n",
        " 'param_learning_rate',\n",
        " 'param_solver',\n",
        " 'params',\n",
        " 'rank_test_score',\n",
        " 'split0_test_score',\n",
        " 'split1_test_score',\n",
        " 'split2_test_score',\n",
        " 'split3_test_score',\n",
        " 'split4_test_score',\n",
        " 'std_fit_time',\n",
        " 'std_score_time',\n",
        " 'std_test_score']\n"
      ]
    },
    {
      "cell_type": "code",
      "metadata": {
        "id": "HuYWBYf9hMN7",
        "colab": {
          "base_uri": "https://localhost:8080/"
        },
        "outputId": "503d35bc-53a7-4ad7-e460-3bd9c007dd73"
      },
      "source": [
        "from sklearn.ensemble import RandomForestRegressor\n",
        "reg = RandomForestRegressor(max_depth=2, random_state=0)\n",
        "reg.fit(X_train, y_train)\n",
        "print(\"train score\",reg.score(X_train,y_train))\n",
        "print(\"test score\",reg.score(X_test,y_test))\n"
      ],
      "execution_count": null,
      "outputs": [
        {
          "output_type": "stream",
          "text": [
            "train score 0.6989952225525036\n",
            "test score 0.6908902632608829\n"
          ],
          "name": "stdout"
        }
      ]
    },
    {
      "cell_type": "markdown",
      "metadata": {
        "id": "n1Xs2Kb5tMBd"
      },
      "source": [
        "KERAS\n"
      ]
    },
    {
      "cell_type": "code",
      "metadata": {
        "id": "UD26HcxQtNmT",
        "colab": {
          "base_uri": "https://localhost:8080/",
          "height": 237
        },
        "outputId": "467faf17-ee81-49a3-cd05-94a0d623662b"
      },
      "source": [
        "import numpy\n",
        "import matplotlib.pyplot as plt\n",
        "from pandas import read_csv\n",
        "import math\n",
        "from keras.models import Sequential\n",
        "from keras.layers import Dense\n",
        "from keras.layers import LSTM\n",
        "from keras.layers.core import Dense, Activation, Dropout\n",
        "from sklearn.preprocessing import MinMaxScaler\n",
        "from sklearn.metrics import mean_squared_error\n",
        "\n",
        " \n",
        "model = Sequential()\n",
        "model.add(Dense(100, input_dim=X_train.shape[1], activation='relu'))\n",
        "for i in range(10):\n",
        "  model.add(Dense(100, activation='relu'))\n",
        " \n",
        " \n",
        " \n",
        "model.add(Dense(1, activation='sigmoid'))\n",
        "# model.add(LSTM(4, input_shape=(1, X_train.shape[0])))#look_back)))\n",
        "# model.add(Dropout(0.2))\n",
        "# #model.add(Dense(units=output_labels))\n",
        "# model.add(Dense(4, activation=\"relu\"))\n",
        "# #odel.add(LSTM(4))#, input_shape=(1,50)))\n",
        "# #model.add(Dropout(0.2))\n",
        "# model.add(Dense(4, activation=\"relu\"))\n",
        "# model.add(Dense(1))\n",
        "model.compile(loss='mean_squared_error', optimizer='adam')\n",
        "model.fit(X_train, y_train, epochs=10, batch_size=5, verbose=2)\n",
        "# make predictions\n",
        "trainPredict = model.predict(X_train)\n",
        "testPredict = model.predict(X_test)\n",
        "\n",
        " "
      ],
      "execution_count": null,
      "outputs": [
        {
          "output_type": "error",
          "ename": "NameError",
          "evalue": "ignored",
          "traceback": [
            "\u001b[0;31m---------------------------------------------------------------------------\u001b[0m",
            "\u001b[0;31mNameError\u001b[0m                                 Traceback (most recent call last)",
            "\u001b[0;32m<ipython-input-7-9acba8d85a34>\u001b[0m in \u001b[0;36m<module>\u001b[0;34m()\u001b[0m\n\u001b[1;32m     12\u001b[0m \u001b[0;34m\u001b[0m\u001b[0m\n\u001b[1;32m     13\u001b[0m \u001b[0mmodel\u001b[0m \u001b[0;34m=\u001b[0m \u001b[0mSequential\u001b[0m\u001b[0;34m(\u001b[0m\u001b[0;34m)\u001b[0m\u001b[0;34m\u001b[0m\u001b[0;34m\u001b[0m\u001b[0m\n\u001b[0;32m---> 14\u001b[0;31m \u001b[0mmodel\u001b[0m\u001b[0;34m.\u001b[0m\u001b[0madd\u001b[0m\u001b[0;34m(\u001b[0m\u001b[0mDense\u001b[0m\u001b[0;34m(\u001b[0m\u001b[0;36m100\u001b[0m\u001b[0;34m,\u001b[0m \u001b[0minput_dim\u001b[0m\u001b[0;34m=\u001b[0m\u001b[0mX_train\u001b[0m\u001b[0;34m.\u001b[0m\u001b[0mshape\u001b[0m\u001b[0;34m[\u001b[0m\u001b[0;36m1\u001b[0m\u001b[0;34m]\u001b[0m\u001b[0;34m,\u001b[0m \u001b[0mactivation\u001b[0m\u001b[0;34m=\u001b[0m\u001b[0;34m'relu'\u001b[0m\u001b[0;34m)\u001b[0m\u001b[0;34m)\u001b[0m\u001b[0;34m\u001b[0m\u001b[0;34m\u001b[0m\u001b[0m\n\u001b[0m\u001b[1;32m     15\u001b[0m \u001b[0;32mfor\u001b[0m \u001b[0mi\u001b[0m \u001b[0;32min\u001b[0m \u001b[0mrange\u001b[0m\u001b[0;34m(\u001b[0m\u001b[0;36m10\u001b[0m\u001b[0;34m)\u001b[0m\u001b[0;34m:\u001b[0m\u001b[0;34m\u001b[0m\u001b[0;34m\u001b[0m\u001b[0m\n\u001b[1;32m     16\u001b[0m   \u001b[0mmodel\u001b[0m\u001b[0;34m.\u001b[0m\u001b[0madd\u001b[0m\u001b[0;34m(\u001b[0m\u001b[0mDense\u001b[0m\u001b[0;34m(\u001b[0m\u001b[0;36m100\u001b[0m\u001b[0;34m,\u001b[0m \u001b[0mactivation\u001b[0m\u001b[0;34m=\u001b[0m\u001b[0;34m'relu'\u001b[0m\u001b[0;34m)\u001b[0m\u001b[0;34m)\u001b[0m\u001b[0;34m\u001b[0m\u001b[0;34m\u001b[0m\u001b[0m\n",
            "\u001b[0;31mNameError\u001b[0m: name 'X_train' is not defined"
          ]
        }
      ]
    }
  ]
}