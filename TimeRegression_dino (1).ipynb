{
  "nbformat": 4,
  "nbformat_minor": 0,
  "metadata": {
    "colab": {
      "name": "TimeRegression_dino.ipynb",
      "provenance": [],
      "collapsed_sections": []
    },
    "kernelspec": {
      "display_name": "Python 3",
      "name": "python3"
    },
    "language_info": {
      "name": "python"
    }
  },
  "cells": [
    {
      "cell_type": "markdown",
      "metadata": {
        "id": "mIdgolHP85Nn"
      },
      "source": [
        "#Read"
      ]
    },
    {
      "cell_type": "code",
      "metadata": {
        "id": "EbMlAoVMiMMO"
      },
      "source": [
        "import matplotlib.pyplot as plt"
      ],
      "execution_count": 1,
      "outputs": []
    },
    {
      "cell_type": "code",
      "metadata": {
        "id": "WBVXeM88oaag"
      },
      "source": [
        "from math import sqrt\n",
        "from numpy import concatenate\n",
        "from matplotlib import pyplot\n",
        "from pandas import read_csv\n",
        "from pandas import DataFrame\n",
        "from pandas import concat\n",
        "from sklearn.preprocessing import MinMaxScaler\n",
        "from sklearn.preprocessing import LabelEncoder\n",
        "from sklearn.metrics import mean_squared_error\n",
        "from keras.models import Sequential\n",
        "from keras.layers import Dense\n",
        "from keras.layers import LSTM\n",
        "import numpy\n",
        "import pandas as pd\n",
        "\n",
        "#total=read_csv('/content/drive/MyDrive/Istraživanja/gledanost/20210512/total.csv')\n",
        "total=read_csv('/content/_total4.csv')\n",
        "  "
      ],
      "execution_count": 24,
      "outputs": []
    },
    {
      "cell_type": "code",
      "metadata": {
        "id": "CbC77Xakh0ic"
      },
      "source": [
        "total=pd.DataFrame(total)"
      ],
      "execution_count": 25,
      "outputs": []
    },
    {
      "cell_type": "code",
      "metadata": {
        "id": "P82GUP3sNOor"
      },
      "source": [
        "total.date = pd.to_datetime(total.date)"
      ],
      "execution_count": 26,
      "outputs": []
    },
    {
      "cell_type": "code",
      "metadata": {
        "id": "L875R2lGxu0m"
      },
      "source": [
        "total.vrijeme = pd.to_datetime(total.vrijeme)"
      ],
      "execution_count": 27,
      "outputs": []
    },
    {
      "cell_type": "code",
      "metadata": {
        "id": "gqAjuIF5NPdk"
      },
      "source": [
        "total.start = pd.to_datetime(total.start)\n",
        "total.stop = pd.to_datetime(total.stop)"
      ],
      "execution_count": 28,
      "outputs": []
    },
    {
      "cell_type": "code",
      "metadata": {
        "id": "ZNd6z2pwznsb"
      },
      "source": [
        "total.sort_values(by=['date'], inplace=True)"
      ],
      "execution_count": 29,
      "outputs": []
    },
    {
      "cell_type": "code",
      "metadata": {
        "id": "rBQgCwnorWp6"
      },
      "source": [
        "r2=[]\n",
        "from datetime import  timedelta\n",
        "for i,row in total.iterrows():\n",
        "    t=row.start\n",
        "   # for m in row.length.m:\n",
        "    #print(row.deltalength.seconds//60)\n",
        "    row.deltalength = row.date - row.start\n",
        "    \n",
        "    r2.append({\n",
        "        'channel':row.channel,\n",
        "        'start':row.start,\n",
        "        'stop':row.stop,\n",
        "        'title':row.title,\n",
        "        'kategorija':row.kategorija,\n",
        "        'descr':row.descr,\n",
        "        'repriza':row.repriza,\n",
        "        'm_from_start':row.deltalength.seconds//60,\n",
        "        'timestamp':row.vrijeme,\n",
        "        'd':row.vrijeme.day,\n",
        "        'h':row.vrijeme.hour,\n",
        "        'm':row.vrijeme.minute,\n",
        "        'date': row.date,\n",
        "        'broj_gledatelja':row.broj_gledatelja,\n",
        "        'vrijeme':row.vrijeme,\n",
        "        'datum_ukupno':row.datum_ukupno,\n",
        "        'h_x':row.date.hour,\n",
        "        'dow':row.date.dayofweek\n",
        "    })\n",
        "        \n",
        "\n",
        "r2_df=pd.DataFrame(r2)\n",
        "#r2_df"
      ],
      "execution_count": 30,
      "outputs": []
    },
    {
      "cell_type": "code",
      "metadata": {
        "id": "oYJjmZsQeK5w"
      },
      "source": [
        "r2_df.to_csv(r'/content/\\total4_p.csv', index=False)"
      ],
      "execution_count": null,
      "outputs": []
    },
    {
      "cell_type": "code",
      "metadata": {
        "id": "YxSnyb6OgPzS"
      },
      "source": [
        "#total.date=pd.to_datetime(total.date)\n",
        "#total['dow']=total.date.dt.dayofweek\n",
        "dataset=r2_df.copy()#.columns\n",
        "dataset = pd.get_dummies(dataset, columns=['kategorija'], prefix='', prefix_sep='')\n",
        "\n",
        "dataset.dropna(inplace=True)\n",
        "#51468.000000\n",
        "#dataset=dataset[dataset['broj_gledatelja']>100]\n",
        "dataset['repriza']=dataset['repriza'].map({'da':1, 'ne':0 })\n",
        "look_back=30\n",
        "for i in range(1,look_back+1):\n",
        "  dataset['increment'+str(i)]=dataset['broj_gledatelja'].shift(periods=(i))"
      ],
      "execution_count": 31,
      "outputs": []
    },
    {
      "cell_type": "code",
      "metadata": {
        "id": "-IIpLGdD_W_y"
      },
      "source": [
        "# Za hrt4 maknut 'IGRANI PROGRAM', ide prije 'OBRAZOVANJE'"
      ],
      "execution_count": null,
      "outputs": []
    },
    {
      "cell_type": "code",
      "metadata": {
        "id": "63p3sUcHd7RR"
      },
      "source": [
        "dataset"
      ],
      "execution_count": null,
      "outputs": []
    },
    {
      "cell_type": "code",
      "metadata": {
        "id": "F0VE5OYowp8I",
        "colab": {
          "base_uri": "https://localhost:8080/"
        },
        "outputId": "5bcff5c4-fd3d-4f0e-f80a-e96b5775dd37"
      },
      "source": [
        "from sklearn.model_selection import train_test_split\n",
        "import math\n",
        "\n",
        "\n",
        "bcols=['repriza', 'h_x','dow',\n",
        "       'DRUGI INFORMATIVNI SADRŽAJI', 'GLAZBA',\n",
        "       'OBRAZOVANJE', 'RELIGIJA', 'UMJETNOST I KULTURA',\n",
        "       'VIJESTI', 'ZABAVA', 'ZNANOST' ,'increment30','increment29','increment28',\n",
        "       'increment27', 'increment26', 'increment25', 'increment24', 'increment23',\n",
        "       'increment22', 'increment21', 'increment20', 'increment19',\n",
        "       'increment18', 'increment17', 'increment16', 'increment15',\n",
        "       'increment14', 'increment13', 'increment12', 'increment11', 'increment10',\n",
        "       'increment9', 'increment8', 'increment7'] #, 'increment6', 'increment5']\n",
        "       #'increment4', 'increment3', 'increment2', 'increment1']#,'increment50', \n",
        "       #'increment45', 'increment40', 'increment35','increment30', 'increment25', \n",
        "       #'increment20', 'increment15', 'increment10', 'increment9', 'increment8', \n",
        "       #'increment7', 'increment6', 'increment5', 'increment4', 'increment3']\n",
        "      \n",
        "chlcol='broj_gledatelja'\n",
        "dataset2=dataset.dropna()\n",
        "dataset2.sort_values(by=['datum_ukupno'], inplace=True)\n",
        "training_inputs=dataset2[bcols] \n",
        "training_outputs=dataset2[chlcol] \n",
        " \n",
        " \n",
        "X_train, X_test, y_train, y_test = train_test_split(training_inputs , training_outputs ,test_size=0.3 ,shuffle=True)\n",
        " "
      ],
      "execution_count": 33,
      "outputs": [
        {
          "output_type": "stream",
          "text": [
            "/usr/local/lib/python3.7/dist-packages/ipykernel_launcher.py:21: SettingWithCopyWarning: \n",
            "A value is trying to be set on a copy of a slice from a DataFrame\n",
            "\n",
            "See the caveats in the documentation: https://pandas.pydata.org/pandas-docs/stable/user_guide/indexing.html#returning-a-view-versus-a-copy\n"
          ],
          "name": "stderr"
        }
      ]
    },
    {
      "cell_type": "code",
      "metadata": {
        "id": "QerrNfGlddnv"
      },
      "source": [
        "X_train"
      ],
      "execution_count": null,
      "outputs": []
    },
    {
      "cell_type": "code",
      "metadata": {
        "id": "qcCY9zdioCZW"
      },
      "source": [
        "dataset2"
      ],
      "execution_count": null,
      "outputs": []
    },
    {
      "cell_type": "markdown",
      "metadata": {
        "id": "YfxrDqDGg2ce"
      },
      "source": [
        "#plot"
      ]
    },
    {
      "cell_type": "code",
      "metadata": {
        "colab": {
          "base_uri": "https://localhost:8080/",
          "height": 444
        },
        "id": "_d5z70gxokNL",
        "outputId": "7b0a1db9-1eca-4828-e520-3141695be12f"
      },
      "source": [
        "total.groupby('kategorija')['broj_gledatelja'].agg(['mean','std']).plot(rot=90)"
      ],
      "execution_count": null,
      "outputs": [
        {
          "output_type": "execute_result",
          "data": {
            "text/plain": [
              "<matplotlib.axes._subplots.AxesSubplot at 0x7f5acdb6bc50>"
            ]
          },
          "metadata": {
            "tags": []
          },
          "execution_count": 50
        },
        {
          "output_type": "display_data",
          "data": {
            "image/png": "[encoded data removed]",
            "text/plain": [
              "<Figure size 432x288 with 1 Axes>"
            ]
          },
          "metadata": {
            "tags": [],
            "needs_background": "light"
          }
        }
      ]
    },
    {
      "cell_type": "code",
      "metadata": {
        "colab": {
          "base_uri": "https://localhost:8080/",
          "height": 563
        },
        "id": "kMvW4LvAopoe",
        "outputId": "526595a3-ea66-4b9e-a5dd-4cce899e9b5b"
      },
      "source": [
        "total['broj_gledatelja'].plot()\n",
        "total.groupby('start')['broj_gledatelja'].agg(['mean','std']).plot()\n"
      ],
      "execution_count": null,
      "outputs": [
        {
          "output_type": "execute_result",
          "data": {
            "text/plain": [
              "<matplotlib.axes._subplots.AxesSubplot at 0x7f5acda9ffd0>"
            ]
          },
          "metadata": {
            "tags": []
          },
          "execution_count": 51
        },
        {
          "output_type": "display_data",
          "data": {
            "image/png": "[encoded data removed]",
            "text/plain": [
              "<Figure size 432x288 with 1 Axes>"
            ]
          },
          "metadata": {
            "tags": [],
            "needs_background": "light"
          }
        },
        {
          "output_type": "display_data",
          "data": {
            "image/png": "[encoded data removed]",
            "text/plain": [
              "<Figure size 432x288 with 1 Axes>"
            ]
          },
          "metadata": {
            "tags": [],
            "needs_background": "light"
          }
        }
      ]
    },
    {
      "cell_type": "code",
      "metadata": {
        "id": "4F5vk0mnvECS"
      },
      "source": [
        "import seaborn as sns\n",
        "   \n",
        "# sns.pairplot(dataset[[ 'm_from_start',  'repriza',\n",
        "#        'IGRANI PROGRAM', 'OBRAZOVANJE', \n",
        "#        'VIJESTI', 'ZABAVA', 'ZNANOST','broj_gledatelja']], kind='kde')\n",
        "sns.pairplot(dataset[['increment45','increment40','increment35', 'increment30','increment25','increment20','increment15',\n",
        "                      'increment5','broj_gledatelja']], diag_kind='kde')"
      ],
      "execution_count": null,
      "outputs": []
    },
    {
      "cell_type": "markdown",
      "metadata": {
        "id": "pEjpu_uhhGK4"
      },
      "source": [
        "#by show"
      ]
    },
    {
      "cell_type": "markdown",
      "metadata": {
        "id": "ctOZBRpuhD1N"
      },
      "source": [
        ""
      ]
    },
    {
      "cell_type": "code",
      "metadata": {
        "id": "8r1O_Pl1vHSP"
      },
      "source": [
        "\n",
        "#dataset=total.groupby(['channel', 'start', 'stop', 'title', 'descr','kategorija',  'repriza',   'd_x' ,'h_x','dow' ]).agg('mean')['broj_gledatelja'].reset_index()\n",
        "#dataset\n",
        "\n",
        "\n",
        "dataset=total.groupby(['channel', 'start', 'stop', 'title', 'kategorija',  'repriza', 'dow' ]).agg('mean')['broj_gledatelja'].reset_index()\n",
        "dataset"
      ],
      "execution_count": null,
      "outputs": []
    },
    {
      "cell_type": "code",
      "metadata": {
        "id": "k7VwghJZwK9p"
      },
      "source": [
        "import pandas as pd\n",
        "#dataset=dataset[dataset['broj_gledatelja']>100]\n",
        "dataset = pd.get_dummies(dataset, columns=['kategorija'], prefix='', prefix_sep='')\n",
        "dataset['repriza']=dataset['repriza'].map({'da':1, 'ne':0 })\n",
        "i=1\n",
        "\n",
        "dataset['increment'+str(i)]=dataset['broj_gledatelja'].shift(periods=(i))\n"
      ],
      "execution_count": null,
      "outputs": []
    },
    {
      "cell_type": "code",
      "metadata": {
        "id": "gkP2Jgjwb94U"
      },
      "source": [
        "dataset.drop_duplicates(subset=['start', 'stop', 'title'] ,keep='first', inplace=True)"
      ],
      "execution_count": null,
      "outputs": []
    },
    {
      "cell_type": "code",
      "metadata": {
        "id": "Rh3b9c-zTsHT"
      },
      "source": [
        "\n",
        "dataset.describe()"
      ],
      "execution_count": null,
      "outputs": []
    },
    {
      "cell_type": "code",
      "metadata": {
        "id": "U3OW2pBfTY99"
      },
      "source": [
        "from sklearn.model_selection import train_test_split\n",
        "import math\n",
        "\n",
        "\n",
        "bcols=[ 'repriza','dow',\n",
        "        'DRUGI INFORMATIVNI SADRŽAJI', 'GLAZBA',\n",
        "       'IGRANI PROGRAM', 'OBRAZOVANJE', 'RELIGIJA', 'UMJETNOST I KULTURA',\n",
        "       'VIJESTI', 'ZABAVA', 'ZNANOST' ,'increment1','increment45', 'increment40', 'increment35',\n",
        "       'increment30','increment25','increment20','increment15','increment5']\n",
        "chlcol='broj_gledatelja'\n",
        "dataset2=dataset.dropna()\n",
        "training_inputs=dataset2[bcols] \n",
        "training_outputs=dataset2[chlcol] \n",
        " \n",
        " \n",
        "X_train, X_test, y_train, y_test = train_test_split(training_inputs , training_outputs ,test_size=0.3 ,shuffle=True)\n"
      ],
      "execution_count": null,
      "outputs": []
    },
    {
      "cell_type": "code",
      "metadata": {
        "colab": {
          "base_uri": "https://localhost:8080/",
          "height": 265
        },
        "id": "TVGI6l0Yvap7",
        "outputId": "3e5c620d-768a-4149-d631-0626aa04a8ce"
      },
      "source": [
        "import matplotlib.pyplot as plt\n",
        "\n",
        "x = dataset.broj_gledatelja\n",
        "y = dataset.increment5\n",
        "\n",
        "plt.scatter(x, y)\n",
        "plt.show()"
      ],
      "execution_count": null,
      "outputs": [
        {
          "output_type": "display_data",
          "data": {
            "image/png": "[encoded data removed]",
            "text/plain": [
              "<Figure size 432x288 with 1 Axes>"
            ]
          },
          "metadata": {
            "tags": [],
            "needs_background": "light"
          }
        }
      ]
    },
    {
      "cell_type": "markdown",
      "metadata": {
        "id": "ooN9DHKthmy4"
      },
      "source": [
        "#LinearRegression"
      ]
    },
    {
      "cell_type": "code",
      "metadata": {
        "colab": {
          "base_uri": "https://localhost:8080/"
        },
        "id": "QuVQ81ncwxHX",
        "outputId": "d1187c07-9000-4127-f737-7732e10d27ce"
      },
      "source": [
        "import numpy as np\n",
        "from sklearn.linear_model import LinearRegression\n",
        "import pickle\n",
        "reg = LinearRegression( fit_intercept=True, normalize=True)\n",
        "reg.fit(X_train, y_train)\n",
        " \n",
        "#print(X_train.columns)\n",
        "print(reg.coef_)\n",
        "\n",
        "print(reg.intercept_)\n",
        "print(\"train score\",reg.score(X_train,y_train))\n",
        "print(\"test score\",reg.score(X_test,y_test))"
      ],
      "execution_count": 34,
      "outputs": [
        {
          "output_type": "stream",
          "text": [
            "[ 2.17953955e+01  2.22103935e+00  2.53458927e+00 -9.33383492e+13\n",
            " -9.33383492e+13 -9.33383492e+13 -9.33383492e+13 -9.33383492e+13\n",
            " -9.33383492e+13 -9.33383492e+13 -9.33383492e+13  5.18741720e-02\n",
            " -2.99836955e-02  5.42527518e-02 -5.28942671e-02 -2.55462515e-03\n",
            "  4.39454870e-02 -6.98199468e-02  1.24920639e-03  9.27199437e-03\n",
            " -1.73751867e-02  2.36004841e-02  2.50793720e-02 -2.35059039e-02\n",
            " -7.69168203e-03  1.48378342e-02  1.57271682e-02 -4.33428331e-02\n",
            "  6.08969043e-03 -5.17168934e-03  3.93618465e-03  1.57642580e-02\n",
            " -5.79693735e-02 -8.08393141e-02  1.01667062e+00]\n",
            "93338349217420.66\n",
            "train score 0.8114523083451928\n",
            "test score 0.8074115304556185\n"
          ],
          "name": "stdout"
        }
      ]
    },
    {
      "cell_type": "code",
      "metadata": {
        "colab": {
          "base_uri": "https://localhost:8080/",
          "height": 402
        },
        "id": "R9InoYRUJX0a",
        "outputId": "884381e6-6d02-4320-a41e-e4b8c1d7c7e0"
      },
      "source": [
        "df = pd.DataFrame({'Real Values':y_test, 'Predicted Values':reg.predict(X_test)})\n",
        "df"
      ],
      "execution_count": 35,
      "outputs": [
        {
          "output_type": "execute_result",
          "data": {
            "text/html": [
              "<div>\n",
              "<style scoped>\n",
              "    .dataframe tbody tr th:only-of-type {\n",
              "        vertical-align: middle;\n",
              "    }\n",
              "\n",
              "    .dataframe tbody tr th {\n",
              "        vertical-align: top;\n",
              "    }\n",
              "\n",
              "    .dataframe thead th {\n",
              "        text-align: right;\n",
              "    }\n",
              "</style>\n",
              "<table border=\"1\" class=\"dataframe\">\n",
              "  <thead>\n",
              "    <tr style=\"text-align: right;\">\n",
              "      <th></th>\n",
              "      <th>Real Values</th>\n",
              "      <th>Predicted Values</th>\n",
              "    </tr>\n",
              "  </thead>\n",
              "  <tbody>\n",
              "    <tr>\n",
              "      <th>95242</th>\n",
              "      <td>890</td>\n",
              "      <td>830.078125</td>\n",
              "    </tr>\n",
              "    <tr>\n",
              "      <th>95162</th>\n",
              "      <td>319</td>\n",
              "      <td>390.265625</td>\n",
              "    </tr>\n",
              "    <tr>\n",
              "      <th>98731</th>\n",
              "      <td>872</td>\n",
              "      <td>835.140625</td>\n",
              "    </tr>\n",
              "    <tr>\n",
              "      <th>113223</th>\n",
              "      <td>1086</td>\n",
              "      <td>1199.468750</td>\n",
              "    </tr>\n",
              "    <tr>\n",
              "      <th>45683</th>\n",
              "      <td>711</td>\n",
              "      <td>864.546875</td>\n",
              "    </tr>\n",
              "    <tr>\n",
              "      <th>...</th>\n",
              "      <td>...</td>\n",
              "      <td>...</td>\n",
              "    </tr>\n",
              "    <tr>\n",
              "      <th>114683</th>\n",
              "      <td>292</td>\n",
              "      <td>306.109375</td>\n",
              "    </tr>\n",
              "    <tr>\n",
              "      <th>96327</th>\n",
              "      <td>2044</td>\n",
              "      <td>2157.375000</td>\n",
              "    </tr>\n",
              "    <tr>\n",
              "      <th>102394</th>\n",
              "      <td>328</td>\n",
              "      <td>372.140625</td>\n",
              "    </tr>\n",
              "    <tr>\n",
              "      <th>82479</th>\n",
              "      <td>898</td>\n",
              "      <td>1304.796875</td>\n",
              "    </tr>\n",
              "    <tr>\n",
              "      <th>23079</th>\n",
              "      <td>549</td>\n",
              "      <td>538.500000</td>\n",
              "    </tr>\n",
              "  </tbody>\n",
              "</table>\n",
              "<p>15829 rows × 2 columns</p>\n",
              "</div>"
            ],
            "text/plain": [
              "        Real Values  Predicted Values\n",
              "95242           890        830.078125\n",
              "95162           319        390.265625\n",
              "98731           872        835.140625\n",
              "113223         1086       1199.468750\n",
              "45683           711        864.546875\n",
              "...             ...               ...\n",
              "114683          292        306.109375\n",
              "96327          2044       2157.375000\n",
              "102394          328        372.140625\n",
              "82479           898       1304.796875\n",
              "23079           549        538.500000\n",
              "\n",
              "[15829 rows x 2 columns]"
            ]
          },
          "metadata": {
            "tags": []
          },
          "execution_count": 35
        }
      ]
    },
    {
      "cell_type": "code",
      "metadata": {
        "colab": {
          "base_uri": "https://localhost:8080/",
          "height": 297
        },
        "id": "p2tDxVGyVOmi",
        "outputId": "4d8f43c5-a3e5-44d5-a936-34fb4ed37239"
      },
      "source": [
        "import matplotlib.pyplot as plt\n",
        "import matplotlib\n",
        "plt.plot( y_train,reg.predict(X_train),'bo',linestyle='none',label='Train predictions') \n",
        "plt.plot(y_test,reg.predict(X_test),'ro',linestyle='none',label='Test predictions') \n",
        "plt.plot(range(12),range(12),'g',linestyle='dotted') \n",
        "plt.xlabel('Observed '+chlcol)\n",
        "plt.ylabel('Predicted ' + chlcol)\n",
        "plt.legend()"
      ],
      "execution_count": null,
      "outputs": [
        {
          "output_type": "execute_result",
          "data": {
            "text/plain": [
              "<matplotlib.legend.Legend at 0x7f41e4934110>"
            ]
          },
          "metadata": {
            "tags": []
          },
          "execution_count": 143
        },
        {
          "output_type": "display_data",
          "data": {
            "image/png": "[encoded data removed]",
            "text/plain": [
              "<Figure size 432x288 with 1 Axes>"
            ]
          },
          "metadata": {
            "tags": [],
            "needs_background": "light"
          }
        }
      ]
    },
    {
      "cell_type": "markdown",
      "metadata": {
        "id": "nZtqamOhhQFy"
      },
      "source": [
        "MLP Regressor"
      ]
    },
    {
      "cell_type": "code",
      "metadata": {
        "colab": {
          "base_uri": "https://localhost:8080/"
        },
        "id": "4O82VkLqwYN0",
        "outputId": "5432e7ec-2545-4bff-f6cb-14f6bcac0fad"
      },
      "source": [
        "from sklearn.neural_network import MLPRegressor\n",
        "ann = MLPRegressor(activation='relu', solver='adam', learning_rate = 'constant', shuffle=True,\n",
        "                    max_iter=100,   \n",
        "                   alpha=0.0001, hidden_layer_sizes= tuple(100 for _ in range(10)))\n",
        "#ann.max_iter=1000\n",
        "ann.fit(X_train, y_train)     \n",
        "print('Train score',ann.score(X_train, y_train)    )\n",
        "print('Test score',ann.score(X_test, y_test)    )   "
      ],
      "execution_count": 38,
      "outputs": [
        {
          "output_type": "stream",
          "text": [
            "Train score 0.8248179492036416\n",
            "Test score 0.8149052685359686\n"
          ],
          "name": "stdout"
        }
      ]
    },
    {
      "cell_type": "code",
      "metadata": {
        "colab": {
          "base_uri": "https://localhost:8080/",
          "height": 402
        },
        "id": "fIFgXG4GJg4p",
        "outputId": "b3098268-ec46-4b0e-ff66-9f3204a18668"
      },
      "source": [
        "df = pd.DataFrame({'Real Values':y_test, 'Predicted Values':reg.predict(X_test)})\n",
        "df"
      ],
      "execution_count": 39,
      "outputs": [
        {
          "output_type": "execute_result",
          "data": {
            "text/html": [
              "<div>\n",
              "<style scoped>\n",
              "    .dataframe tbody tr th:only-of-type {\n",
              "        vertical-align: middle;\n",
              "    }\n",
              "\n",
              "    .dataframe tbody tr th {\n",
              "        vertical-align: top;\n",
              "    }\n",
              "\n",
              "    .dataframe thead th {\n",
              "        text-align: right;\n",
              "    }\n",
              "</style>\n",
              "<table border=\"1\" class=\"dataframe\">\n",
              "  <thead>\n",
              "    <tr style=\"text-align: right;\">\n",
              "      <th></th>\n",
              "      <th>Real Values</th>\n",
              "      <th>Predicted Values</th>\n",
              "    </tr>\n",
              "  </thead>\n",
              "  <tbody>\n",
              "    <tr>\n",
              "      <th>95242</th>\n",
              "      <td>890</td>\n",
              "      <td>882.250732</td>\n",
              "    </tr>\n",
              "    <tr>\n",
              "      <th>95162</th>\n",
              "      <td>319</td>\n",
              "      <td>406.363037</td>\n",
              "    </tr>\n",
              "    <tr>\n",
              "      <th>98731</th>\n",
              "      <td>872</td>\n",
              "      <td>911.639648</td>\n",
              "    </tr>\n",
              "    <tr>\n",
              "      <th>113223</th>\n",
              "      <td>1086</td>\n",
              "      <td>1232.533936</td>\n",
              "    </tr>\n",
              "    <tr>\n",
              "      <th>45683</th>\n",
              "      <td>711</td>\n",
              "      <td>845.240723</td>\n",
              "    </tr>\n",
              "    <tr>\n",
              "      <th>...</th>\n",
              "      <td>...</td>\n",
              "      <td>...</td>\n",
              "    </tr>\n",
              "    <tr>\n",
              "      <th>114683</th>\n",
              "      <td>292</td>\n",
              "      <td>261.263916</td>\n",
              "    </tr>\n",
              "    <tr>\n",
              "      <th>96327</th>\n",
              "      <td>2044</td>\n",
              "      <td>2225.287842</td>\n",
              "    </tr>\n",
              "    <tr>\n",
              "      <th>102394</th>\n",
              "      <td>328</td>\n",
              "      <td>383.960693</td>\n",
              "    </tr>\n",
              "    <tr>\n",
              "      <th>82479</th>\n",
              "      <td>898</td>\n",
              "      <td>1288.189209</td>\n",
              "    </tr>\n",
              "    <tr>\n",
              "      <th>23079</th>\n",
              "      <td>549</td>\n",
              "      <td>504.745605</td>\n",
              "    </tr>\n",
              "  </tbody>\n",
              "</table>\n",
              "<p>15829 rows × 2 columns</p>\n",
              "</div>"
            ],
            "text/plain": [
              "        Real Values  Predicted Values\n",
              "95242           890        882.250732\n",
              "95162           319        406.363037\n",
              "98731           872        911.639648\n",
              "113223         1086       1232.533936\n",
              "45683           711        845.240723\n",
              "...             ...               ...\n",
              "114683          292        261.263916\n",
              "96327          2044       2225.287842\n",
              "102394          328        383.960693\n",
              "82479           898       1288.189209\n",
              "23079           549        504.745605\n",
              "\n",
              "[15829 rows x 2 columns]"
            ]
          },
          "metadata": {
            "tags": []
          },
          "execution_count": 39
        }
      ]
    },
    {
      "cell_type": "code",
      "metadata": {
        "colab": {
          "base_uri": "https://localhost:8080/",
          "height": 297
        },
        "id": "OQQZbiKPwWnW",
        "outputId": "e6f26291-d55a-40cc-d036-1790378d6b9f"
      },
      "source": [
        "import matplotlib.pyplot as plt\n",
        "import matplotlib\n",
        "plt.plot( y_train,ann.predict(X_train),'bo',linestyle='none',label='Train predictions') \n",
        "plt.plot(y_test,ann.predict(X_test),'ro',linestyle='none',label='Test predictions') \n",
        "plt.plot(range(12),range(12),'g',linestyle='dotted') \n",
        "plt.xlabel('Observed '+chlcol)\n",
        "plt.ylabel('Predicted ' + chlcol)\n",
        "plt.legend()"
      ],
      "execution_count": null,
      "outputs": [
        {
          "output_type": "execute_result",
          "data": {
            "text/plain": [
              "<matplotlib.legend.Legend at 0x7f41e2565610>"
            ]
          },
          "metadata": {
            "tags": []
          },
          "execution_count": 165
        },
        {
          "output_type": "display_data",
          "data": {
            "image/png": "[encoded data removed]",
            "text/plain": [
              "<Figure size 432x288 with 1 Axes>"
            ]
          },
          "metadata": {
            "tags": [],
            "needs_background": "light"
          }
        }
      ]
    },
    {
      "cell_type": "code",
      "metadata": {
        "id": "rwgxoTk7T8Ry"
      },
      "source": [
        ""
      ],
      "execution_count": null,
      "outputs": []
    },
    {
      "cell_type": "code",
      "metadata": {
        "id": "b-qZVkSbv_Sl"
      },
      "source": [
        "# from sklearn.model_selection import GridSearchCV\n",
        "# from sklearn.neural_network import MLPRegressor\n",
        "\n",
        "# mlpr = MLPRegressor(max_iter=1000)#,hidden_layer_sizes= tuple(10 for _ in range(4)))\n",
        "\n",
        "# param_list = {\"activation\": [\"identity\", \"logistic\", \"tanh\", \"relu\"], \"solver\": [ \"adam\"], \"alpha\": [0.00005,0.05]}\n",
        "\n",
        "# param_list = {\n",
        "#     'hidden_layer_sizes': [(100,100,100),   (10,10,10,10,10,10)],\n",
        "#     'activation': ['identity',  'relu'],\n",
        "#     'solver': [ 'adam'],\n",
        "#     'alpha': [0.0001, 0.05],\n",
        "#     'learning_rate': ['constant','adaptive'],\n",
        "# }\n",
        "\n",
        "# gridCV = GridSearchCV(estimator=mlpr, param_grid=param_list,verbose=3)\n",
        "# #\"hidden_layer_sizes\": [(1,),(50,)], \"lbfgs\", \n",
        "# #splits = TimeSeriesSplit(n_splits=3)\n",
        "\n",
        "# #pyplot.figure(1)\n",
        "# #index = 1\n",
        " \n",
        "# gridCV.fit(X_train, y_train)\n",
        "# predicted = gridCV.predict(X_test)\n",
        "# parameters = mlpr.get_params()\n",
        "# test_mse = mean_squared_error(y_test, predicted)\n",
        "# print(parameters)\n",
        "# print(test_mse)\n",
        "# sorted(gridCV.cv_results_.keys())"
      ],
      "execution_count": null,
      "outputs": []
    },
    {
      "cell_type": "code",
      "metadata": {
        "id": "KN5D0LOQUpki"
      },
      "source": [
        "#gridCV.best_params_"
      ],
      "execution_count": null,
      "outputs": []
    },
    {
      "cell_type": "markdown",
      "metadata": {
        "id": "Wh1hkCqvRb90"
      },
      "source": [
        "{'activation': 'relu', 'alpha': 0.0001, 'batch_size': 'auto', 'beta_1': 0.9, 'beta_2': 0.999, 'early_stopping': False, 'epsilon': 1e-08, 'hidden_layer_sizes': (100,), 'learning_rate': 'constant', 'learning_rate_init': 0.001, 'max_fun': 15000, 'max_iter': 1000, 'momentum': 0.9, 'n_iter_no_change': 10, 'nesterovs_momentum': True, 'power_t': 0.5, 'random_state': None, 'shuffle': True, 'solver': 'adam', 'tol': 0.0001, 'validation_fraction': 0.1, 'verbose': False, 'warm_start': False}\n",
        "317278.0780391359\n",
        "['mean_fit_time',\n",
        " 'mean_score_time',\n",
        " 'mean_test_score',\n",
        " 'param_activation',\n",
        " 'param_alpha',\n",
        " 'param_hidden_layer_sizes',\n",
        " 'param_learning_rate',\n",
        " 'param_solver',\n",
        " 'params',\n",
        " 'rank_test_score',\n",
        " 'split0_test_score',\n",
        " 'split1_test_score',\n",
        " 'split2_test_score',\n",
        " 'split3_test_score',\n",
        " 'split4_test_score',\n",
        " 'std_fit_time',\n",
        " 'std_score_time',\n",
        " 'std_test_score']\n",
        " "
      ]
    },
    {
      "cell_type": "markdown",
      "metadata": {
        "id": "AMAYRQEuhYJt"
      },
      "source": [
        "\n",
        "#random forest regressor\n",
        "\n",
        "\n",
        "\n"
      ]
    },
    {
      "cell_type": "code",
      "metadata": {
        "colab": {
          "base_uri": "https://localhost:8080/"
        },
        "id": "gf0KqgAOV3pv",
        "outputId": "d43556a2-6287-4f53-d80d-e876fb6cd2af"
      },
      "source": [
        "from sklearn.ensemble import RandomForestRegressor\n",
        "reg = RandomForestRegressor(max_depth=2, random_state=0)\n",
        "reg.fit(X_train, y_train)\n",
        "print(\"train score\",reg.score(X_train,y_train))\n",
        "print(\"test score\",reg.score(X_test,y_test))"
      ],
      "execution_count": 40,
      "outputs": [
        {
          "output_type": "stream",
          "text": [
            "train score 0.7483599756434922\n",
            "test score 0.7523031067896575\n"
          ],
          "name": "stdout"
        }
      ]
    },
    {
      "cell_type": "code",
      "metadata": {
        "colab": {
          "base_uri": "https://localhost:8080/",
          "height": 402
        },
        "id": "OEtYEZJVJviL",
        "outputId": "602a2c69-167a-42c6-f91a-7bdd004404bf"
      },
      "source": [
        "df = pd.DataFrame({'Real Values':y_test, 'Predicted Values':reg.predict(X_test)})\n",
        "df"
      ],
      "execution_count": 41,
      "outputs": [
        {
          "output_type": "execute_result",
          "data": {
            "text/html": [
              "<div>\n",
              "<style scoped>\n",
              "    .dataframe tbody tr th:only-of-type {\n",
              "        vertical-align: middle;\n",
              "    }\n",
              "\n",
              "    .dataframe tbody tr th {\n",
              "        vertical-align: top;\n",
              "    }\n",
              "\n",
              "    .dataframe thead th {\n",
              "        text-align: right;\n",
              "    }\n",
              "</style>\n",
              "<table border=\"1\" class=\"dataframe\">\n",
              "  <thead>\n",
              "    <tr style=\"text-align: right;\">\n",
              "      <th></th>\n",
              "      <th>Real Values</th>\n",
              "      <th>Predicted Values</th>\n",
              "    </tr>\n",
              "  </thead>\n",
              "  <tbody>\n",
              "    <tr>\n",
              "      <th>95242</th>\n",
              "      <td>890</td>\n",
              "      <td>732.170678</td>\n",
              "    </tr>\n",
              "    <tr>\n",
              "      <th>95162</th>\n",
              "      <td>319</td>\n",
              "      <td>340.620967</td>\n",
              "    </tr>\n",
              "    <tr>\n",
              "      <th>98731</th>\n",
              "      <td>872</td>\n",
              "      <td>732.170678</td>\n",
              "    </tr>\n",
              "    <tr>\n",
              "      <th>113223</th>\n",
              "      <td>1086</td>\n",
              "      <td>1257.757212</td>\n",
              "    </tr>\n",
              "    <tr>\n",
              "      <th>45683</th>\n",
              "      <td>711</td>\n",
              "      <td>732.170678</td>\n",
              "    </tr>\n",
              "    <tr>\n",
              "      <th>...</th>\n",
              "      <td>...</td>\n",
              "      <td>...</td>\n",
              "    </tr>\n",
              "    <tr>\n",
              "      <th>114683</th>\n",
              "      <td>292</td>\n",
              "      <td>340.620967</td>\n",
              "    </tr>\n",
              "    <tr>\n",
              "      <th>96327</th>\n",
              "      <td>2044</td>\n",
              "      <td>1967.956708</td>\n",
              "    </tr>\n",
              "    <tr>\n",
              "      <th>102394</th>\n",
              "      <td>328</td>\n",
              "      <td>340.620967</td>\n",
              "    </tr>\n",
              "    <tr>\n",
              "      <th>82479</th>\n",
              "      <td>898</td>\n",
              "      <td>1257.757212</td>\n",
              "    </tr>\n",
              "    <tr>\n",
              "      <th>23079</th>\n",
              "      <td>549</td>\n",
              "      <td>340.620967</td>\n",
              "    </tr>\n",
              "  </tbody>\n",
              "</table>\n",
              "<p>15829 rows × 2 columns</p>\n",
              "</div>"
            ],
            "text/plain": [
              "        Real Values  Predicted Values\n",
              "95242           890        732.170678\n",
              "95162           319        340.620967\n",
              "98731           872        732.170678\n",
              "113223         1086       1257.757212\n",
              "45683           711        732.170678\n",
              "...             ...               ...\n",
              "114683          292        340.620967\n",
              "96327          2044       1967.956708\n",
              "102394          328        340.620967\n",
              "82479           898       1257.757212\n",
              "23079           549        340.620967\n",
              "\n",
              "[15829 rows x 2 columns]"
            ]
          },
          "metadata": {
            "tags": []
          },
          "execution_count": 41
        }
      ]
    },
    {
      "cell_type": "code",
      "metadata": {
        "colab": {
          "base_uri": "https://localhost:8080/",
          "height": 297
        },
        "id": "pTHecHLUV4LT",
        "outputId": "a2dce796-6296-43ff-c47d-e21dd4fbf1ed"
      },
      "source": [
        "plt.plot( y_train,reg.predict(X_train),'bo',linestyle='none',label='Train predictions') \n",
        "plt.plot(y_test,reg.predict(X_test),'ro',linestyle='none',label='Test predictions') \n",
        "plt.plot(range(12),range(12),'g',linestyle='dotted') \n",
        "plt.xlabel('Observed '+chlcol)\n",
        "plt.ylabel('Predicted ' + chlcol)\n",
        "plt.legend()"
      ],
      "execution_count": null,
      "outputs": [
        {
          "output_type": "execute_result",
          "data": {
            "text/plain": [
              "<matplotlib.legend.Legend at 0x7f41e4123610>"
            ]
          },
          "metadata": {
            "tags": []
          },
          "execution_count": 145
        },
        {
          "output_type": "display_data",
          "data": {
            "image/png": "[encoded data removed]",
            "text/plain": [
              "<Figure size 432x288 with 1 Axes>"
            ]
          },
          "metadata": {
            "tags": [],
            "needs_background": "light"
          }
        }
      ]
    },
    {
      "cell_type": "markdown",
      "metadata": {
        "id": "NJKn3BUFhkOY"
      },
      "source": [
        "#DecisionTreeRegressor\n"
      ]
    },
    {
      "cell_type": "code",
      "metadata": {
        "colab": {
          "base_uri": "https://localhost:8080/"
        },
        "id": "OTYN_TFLV94G",
        "outputId": "b1611ab3-b199-4528-de45-ed92d3546b35"
      },
      "source": [
        "from sklearn.tree import DecisionTreeRegressor\n",
        "reg = DecisionTreeRegressor(max_depth=3, random_state=0)\n",
        "reg.fit(X_train, y_train)\n",
        "print(\"train score\",reg.score(X_train,y_train))\n",
        "print(\"test score\",reg.score(X_test,y_test))"
      ],
      "execution_count": 42,
      "outputs": [
        {
          "output_type": "stream",
          "text": [
            "train score 0.7917149425850303\n",
            "test score 0.7979619958254561\n"
          ],
          "name": "stdout"
        }
      ]
    },
    {
      "cell_type": "code",
      "metadata": {
        "colab": {
          "base_uri": "https://localhost:8080/",
          "height": 402
        },
        "id": "PRm_XlKkJ_gs",
        "outputId": "49805141-cbe9-4bda-f766-326a073cf5eb"
      },
      "source": [
        "df = pd.DataFrame({'Real Values':y_test, 'Predicted Values':reg.predict(X_test)})\n",
        "df"
      ],
      "execution_count": 43,
      "outputs": [
        {
          "output_type": "execute_result",
          "data": {
            "text/html": [
              "<div>\n",
              "<style scoped>\n",
              "    .dataframe tbody tr th:only-of-type {\n",
              "        vertical-align: middle;\n",
              "    }\n",
              "\n",
              "    .dataframe tbody tr th {\n",
              "        vertical-align: top;\n",
              "    }\n",
              "\n",
              "    .dataframe thead th {\n",
              "        text-align: right;\n",
              "    }\n",
              "</style>\n",
              "<table border=\"1\" class=\"dataframe\">\n",
              "  <thead>\n",
              "    <tr style=\"text-align: right;\">\n",
              "      <th></th>\n",
              "      <th>Real Values</th>\n",
              "      <th>Predicted Values</th>\n",
              "    </tr>\n",
              "  </thead>\n",
              "  <tbody>\n",
              "    <tr>\n",
              "      <th>95242</th>\n",
              "      <td>890</td>\n",
              "      <td>852.735198</td>\n",
              "    </tr>\n",
              "    <tr>\n",
              "      <th>95162</th>\n",
              "      <td>319</td>\n",
              "      <td>275.093109</td>\n",
              "    </tr>\n",
              "    <tr>\n",
              "      <th>98731</th>\n",
              "      <td>872</td>\n",
              "      <td>852.735198</td>\n",
              "    </tr>\n",
              "    <tr>\n",
              "      <th>113223</th>\n",
              "      <td>1086</td>\n",
              "      <td>1118.499836</td>\n",
              "    </tr>\n",
              "    <tr>\n",
              "      <th>45683</th>\n",
              "      <td>711</td>\n",
              "      <td>852.735198</td>\n",
              "    </tr>\n",
              "    <tr>\n",
              "      <th>...</th>\n",
              "      <td>...</td>\n",
              "      <td>...</td>\n",
              "    </tr>\n",
              "    <tr>\n",
              "      <th>114683</th>\n",
              "      <td>292</td>\n",
              "      <td>275.093109</td>\n",
              "    </tr>\n",
              "    <tr>\n",
              "      <th>96327</th>\n",
              "      <td>2044</td>\n",
              "      <td>2265.132106</td>\n",
              "    </tr>\n",
              "    <tr>\n",
              "      <th>102394</th>\n",
              "      <td>328</td>\n",
              "      <td>275.093109</td>\n",
              "    </tr>\n",
              "    <tr>\n",
              "      <th>82479</th>\n",
              "      <td>898</td>\n",
              "      <td>1390.780042</td>\n",
              "    </tr>\n",
              "    <tr>\n",
              "      <th>23079</th>\n",
              "      <td>549</td>\n",
              "      <td>482.771821</td>\n",
              "    </tr>\n",
              "  </tbody>\n",
              "</table>\n",
              "<p>15829 rows × 2 columns</p>\n",
              "</div>"
            ],
            "text/plain": [
              "        Real Values  Predicted Values\n",
              "95242           890        852.735198\n",
              "95162           319        275.093109\n",
              "98731           872        852.735198\n",
              "113223         1086       1118.499836\n",
              "45683           711        852.735198\n",
              "...             ...               ...\n",
              "114683          292        275.093109\n",
              "96327          2044       2265.132106\n",
              "102394          328        275.093109\n",
              "82479           898       1390.780042\n",
              "23079           549        482.771821\n",
              "\n",
              "[15829 rows x 2 columns]"
            ]
          },
          "metadata": {
            "tags": []
          },
          "execution_count": 43
        }
      ]
    },
    {
      "cell_type": "code",
      "metadata": {
        "colab": {
          "base_uri": "https://localhost:8080/",
          "height": 297
        },
        "id": "pzbheWhCWEMb",
        "outputId": "0abf03c7-79f0-434e-d126-aefe34cb470e"
      },
      "source": [
        "plt.plot( y_train,reg.predict(X_train),'bo',linestyle='none',label='Train predictions') \n",
        "plt.plot(y_test,reg.predict(X_test),'ro',linestyle='none',label='Test predictions') \n",
        "plt.plot(range(12),range(12),'g',linestyle='dotted') \n",
        "plt.xlabel('Observed '+chlcol)\n",
        "plt.ylabel('Predicted ' + chlcol)\n",
        "plt.legend()"
      ],
      "execution_count": null,
      "outputs": [
        {
          "output_type": "execute_result",
          "data": {
            "text/plain": [
              "<matplotlib.legend.Legend at 0x7f41e4940a50>"
            ]
          },
          "metadata": {
            "tags": []
          },
          "execution_count": 147
        },
        {
          "output_type": "display_data",
          "data": {
            "image/png": "[encoded data removed]",
            "text/plain": [
              "<Figure size 432x288 with 1 Axes>"
            ]
          },
          "metadata": {
            "tags": [],
            "needs_background": "light"
          }
        }
      ]
    },
    {
      "cell_type": "markdown",
      "metadata": {
        "id": "gwioQkSQvNgf"
      },
      "source": [
        "#Polynomial regresson"
      ]
    },
    {
      "cell_type": "code",
      "metadata": {
        "colab": {
          "base_uri": "https://localhost:8080/"
        },
        "id": "qpy7P3hZvKxi",
        "outputId": "07d04a7c-0c28-4571-ca60-381740ddd512"
      },
      "source": [
        "from sklearn.pipeline import Pipeline\n",
        "from sklearn.preprocessing import PolynomialFeatures\n",
        "from sklearn.linear_model import LinearRegression\n",
        "\n",
        "\n",
        "from sklearn.preprocessing import StandardScaler\n",
        "#from sklearn.model_selection import cross_val_scor\n",
        "# X=podaci[cols]\n",
        "# y=podaci['speed_2d_[m/s]']\n",
        "#X_train, X_test, y_train, y_test = train_test_split(X, y ,test_size=0.3, random_state=64)\n",
        "scaler = StandardScaler()\n",
        "polynomial_features = PolynomialFeatures(degree=2)#, include_bias=True\n",
        "linear_regression = LinearRegression()# fit_intercept=True, normalize=False)\n",
        "\n",
        "reg = Pipeline([('scaler',scaler),(\"polynomial_features\", polynomial_features),\n",
        "                         (\"linear_regression\", linear_regression)])\n",
        "reg.fit(X_train, y_train)\n",
        "reg.score(X_test, y_test)\n",
        "print('train score',reg.score(X_train, y_train))\n",
        "print('test score',reg.score(X_test, y_test))"
      ],
      "execution_count": 36,
      "outputs": [
        {
          "output_type": "stream",
          "text": [
            "train score 0.840584704163467\n",
            "test score 0.8121481205255924\n"
          ],
          "name": "stdout"
        }
      ]
    },
    {
      "cell_type": "code",
      "metadata": {
        "colab": {
          "base_uri": "https://localhost:8080/",
          "height": 402
        },
        "id": "c2EaAzXqIqK3",
        "outputId": "e9a103b2-82a5-4dcb-8baa-b12becc0a455"
      },
      "source": [
        "df = pd.DataFrame({'Real Values':y_test, 'Predicted Values':reg.predict(X_test)})\n",
        "df"
      ],
      "execution_count": 37,
      "outputs": [
        {
          "output_type": "execute_result",
          "data": {
            "text/html": [
              "<div>\n",
              "<style scoped>\n",
              "    .dataframe tbody tr th:only-of-type {\n",
              "        vertical-align: middle;\n",
              "    }\n",
              "\n",
              "    .dataframe tbody tr th {\n",
              "        vertical-align: top;\n",
              "    }\n",
              "\n",
              "    .dataframe thead th {\n",
              "        text-align: right;\n",
              "    }\n",
              "</style>\n",
              "<table border=\"1\" class=\"dataframe\">\n",
              "  <thead>\n",
              "    <tr style=\"text-align: right;\">\n",
              "      <th></th>\n",
              "      <th>Real Values</th>\n",
              "      <th>Predicted Values</th>\n",
              "    </tr>\n",
              "  </thead>\n",
              "  <tbody>\n",
              "    <tr>\n",
              "      <th>95242</th>\n",
              "      <td>890</td>\n",
              "      <td>882.250732</td>\n",
              "    </tr>\n",
              "    <tr>\n",
              "      <th>95162</th>\n",
              "      <td>319</td>\n",
              "      <td>406.363037</td>\n",
              "    </tr>\n",
              "    <tr>\n",
              "      <th>98731</th>\n",
              "      <td>872</td>\n",
              "      <td>911.639648</td>\n",
              "    </tr>\n",
              "    <tr>\n",
              "      <th>113223</th>\n",
              "      <td>1086</td>\n",
              "      <td>1232.533936</td>\n",
              "    </tr>\n",
              "    <tr>\n",
              "      <th>45683</th>\n",
              "      <td>711</td>\n",
              "      <td>845.240723</td>\n",
              "    </tr>\n",
              "    <tr>\n",
              "      <th>...</th>\n",
              "      <td>...</td>\n",
              "      <td>...</td>\n",
              "    </tr>\n",
              "    <tr>\n",
              "      <th>114683</th>\n",
              "      <td>292</td>\n",
              "      <td>261.263916</td>\n",
              "    </tr>\n",
              "    <tr>\n",
              "      <th>96327</th>\n",
              "      <td>2044</td>\n",
              "      <td>2225.287842</td>\n",
              "    </tr>\n",
              "    <tr>\n",
              "      <th>102394</th>\n",
              "      <td>328</td>\n",
              "      <td>383.960693</td>\n",
              "    </tr>\n",
              "    <tr>\n",
              "      <th>82479</th>\n",
              "      <td>898</td>\n",
              "      <td>1288.189209</td>\n",
              "    </tr>\n",
              "    <tr>\n",
              "      <th>23079</th>\n",
              "      <td>549</td>\n",
              "      <td>504.745605</td>\n",
              "    </tr>\n",
              "  </tbody>\n",
              "</table>\n",
              "<p>15829 rows × 2 columns</p>\n",
              "</div>"
            ],
            "text/plain": [
              "        Real Values  Predicted Values\n",
              "95242           890        882.250732\n",
              "95162           319        406.363037\n",
              "98731           872        911.639648\n",
              "113223         1086       1232.533936\n",
              "45683           711        845.240723\n",
              "...             ...               ...\n",
              "114683          292        261.263916\n",
              "96327          2044       2225.287842\n",
              "102394          328        383.960693\n",
              "82479           898       1288.189209\n",
              "23079           549        504.745605\n",
              "\n",
              "[15829 rows x 2 columns]"
            ]
          },
          "metadata": {
            "tags": []
          },
          "execution_count": 37
        }
      ]
    },
    {
      "cell_type": "code",
      "metadata": {
        "colab": {
          "base_uri": "https://localhost:8080/",
          "height": 297
        },
        "id": "09aAHX0QeFn5",
        "outputId": "b58fab2b-5458-4328-b515-77be41207b0b"
      },
      "source": [
        "plt.plot( y_train,reg.predict(X_train),'bo',linestyle='none',label='Train predictions') \n",
        "plt.plot(y_test,reg.predict(X_test),'ro',linestyle='none',label='Test predictions') \n",
        "plt.plot(range(12),range(12),'g',linestyle='dotted') \n",
        "plt.xlabel('Observed '+chlcol)\n",
        "plt.ylabel('Predicted ' + chlcol)\n",
        "plt.legend()"
      ],
      "execution_count": null,
      "outputs": [
        {
          "output_type": "execute_result",
          "data": {
            "text/plain": [
              "<matplotlib.legend.Legend at 0x7f41e216a810>"
            ]
          },
          "metadata": {
            "tags": []
          },
          "execution_count": 149
        },
        {
          "output_type": "display_data",
          "data": {
            "image/png": "[encoded data removed]",
            "text/plain": [
              "<Figure size 432x288 with 1 Axes>"
            ]
          },
          "metadata": {
            "tags": [],
            "needs_background": "light"
          }
        }
      ]
    },
    {
      "cell_type": "code",
      "metadata": {
        "id": "GDUXBeBQW2UC"
      },
      "source": [
        ""
      ],
      "execution_count": null,
      "outputs": []
    },
    {
      "cell_type": "markdown",
      "metadata": {
        "id": "43uS-QdUk53J"
      },
      "source": [
        "#Ridge regressor"
      ]
    },
    {
      "cell_type": "code",
      "metadata": {
        "colab": {
          "base_uri": "https://localhost:8080/"
        },
        "id": "ZMNbuFLTk4oq",
        "outputId": "b301a1a9-4c34-40b8-b4b5-b232b0d06a51"
      },
      "source": [
        "from sklearn.linear_model import Ridge\n",
        "#reg = Ridge(alpha=0.2,normalize=True,solver='auto',fit_intercept=True)\n",
        "reg = Ridge(alpha=0.2,normalize=True,solver='svd',fit_intercept=False)\n",
        "\n",
        "reg.fit(X_train, y_train)\n",
        "print(\"train score\",reg.score(X_train,y_train))\n",
        "print(\"test score\",reg.score(X_test,y_test))"
      ],
      "execution_count": 45,
      "outputs": [
        {
          "output_type": "stream",
          "text": [
            "train score 0.81145247566622\n",
            "test score 0.8074112050213226\n"
          ],
          "name": "stdout"
        }
      ]
    },
    {
      "cell_type": "code",
      "metadata": {
        "colab": {
          "base_uri": "https://localhost:8080/",
          "height": 402
        },
        "id": "Q2034lcuKN5h",
        "outputId": "c91cd1a8-f673-416e-f980-e74b28ae9484"
      },
      "source": [
        "df = pd.DataFrame({'Real Values':y_test, 'Predicted Values':reg.predict(X_test)})\n",
        "df"
      ],
      "execution_count": 46,
      "outputs": [
        {
          "output_type": "execute_result",
          "data": {
            "text/html": [
              "<div>\n",
              "<style scoped>\n",
              "    .dataframe tbody tr th:only-of-type {\n",
              "        vertical-align: middle;\n",
              "    }\n",
              "\n",
              "    .dataframe tbody tr th {\n",
              "        vertical-align: top;\n",
              "    }\n",
              "\n",
              "    .dataframe thead th {\n",
              "        text-align: right;\n",
              "    }\n",
              "</style>\n",
              "<table border=\"1\" class=\"dataframe\">\n",
              "  <thead>\n",
              "    <tr style=\"text-align: right;\">\n",
              "      <th></th>\n",
              "      <th>Real Values</th>\n",
              "      <th>Predicted Values</th>\n",
              "    </tr>\n",
              "  </thead>\n",
              "  <tbody>\n",
              "    <tr>\n",
              "      <th>95242</th>\n",
              "      <td>890</td>\n",
              "      <td>830.066614</td>\n",
              "    </tr>\n",
              "    <tr>\n",
              "      <th>95162</th>\n",
              "      <td>319</td>\n",
              "      <td>390.279336</td>\n",
              "    </tr>\n",
              "    <tr>\n",
              "      <th>98731</th>\n",
              "      <td>872</td>\n",
              "      <td>835.133526</td>\n",
              "    </tr>\n",
              "    <tr>\n",
              "      <th>113223</th>\n",
              "      <td>1086</td>\n",
              "      <td>1199.496951</td>\n",
              "    </tr>\n",
              "    <tr>\n",
              "      <th>45683</th>\n",
              "      <td>711</td>\n",
              "      <td>864.479749</td>\n",
              "    </tr>\n",
              "    <tr>\n",
              "      <th>...</th>\n",
              "      <td>...</td>\n",
              "      <td>...</td>\n",
              "    </tr>\n",
              "    <tr>\n",
              "      <th>114683</th>\n",
              "      <td>292</td>\n",
              "      <td>306.091872</td>\n",
              "    </tr>\n",
              "    <tr>\n",
              "      <th>96327</th>\n",
              "      <td>2044</td>\n",
              "      <td>2157.446487</td>\n",
              "    </tr>\n",
              "    <tr>\n",
              "      <th>102394</th>\n",
              "      <td>328</td>\n",
              "      <td>372.128718</td>\n",
              "    </tr>\n",
              "    <tr>\n",
              "      <th>82479</th>\n",
              "      <td>898</td>\n",
              "      <td>1304.783138</td>\n",
              "    </tr>\n",
              "    <tr>\n",
              "      <th>23079</th>\n",
              "      <td>549</td>\n",
              "      <td>538.460120</td>\n",
              "    </tr>\n",
              "  </tbody>\n",
              "</table>\n",
              "<p>15829 rows × 2 columns</p>\n",
              "</div>"
            ],
            "text/plain": [
              "        Real Values  Predicted Values\n",
              "95242           890        830.066614\n",
              "95162           319        390.279336\n",
              "98731           872        835.133526\n",
              "113223         1086       1199.496951\n",
              "45683           711        864.479749\n",
              "...             ...               ...\n",
              "114683          292        306.091872\n",
              "96327          2044       2157.446487\n",
              "102394          328        372.128718\n",
              "82479           898       1304.783138\n",
              "23079           549        538.460120\n",
              "\n",
              "[15829 rows x 2 columns]"
            ]
          },
          "metadata": {
            "tags": []
          },
          "execution_count": 46
        }
      ]
    },
    {
      "cell_type": "code",
      "metadata": {
        "colab": {
          "base_uri": "https://localhost:8080/",
          "height": 297
        },
        "id": "8lFFROXuW6K7",
        "outputId": "855cd961-ddd5-4f02-c0aa-4dabef1b7b87"
      },
      "source": [
        "plt.plot( y_train,reg.predict(X_train),'bo',linestyle='none',label='Train predictions') \n",
        "plt.plot(y_test,reg.predict(X_test),'ro',linestyle='none',label='Test predictions') \n",
        "plt.plot(range(12),range(12),'g',linestyle='dotted') \n",
        "plt.xlabel('Observed '+chlcol)\n",
        "plt.ylabel('Predicted ' + chlcol)\n",
        "plt.legend()"
      ],
      "execution_count": null,
      "outputs": [
        {
          "output_type": "execute_result",
          "data": {
            "text/plain": [
              "<matplotlib.legend.Legend at 0x7f41e2557050>"
            ]
          },
          "metadata": {
            "tags": []
          },
          "execution_count": 151
        },
        {
          "output_type": "display_data",
          "data": {
            "image/png": "[encoded data removed]",
            "text/plain": [
              "<Figure size 432x288 with 1 Axes>"
            ]
          },
          "metadata": {
            "tags": [],
            "needs_background": "light"
          }
        }
      ]
    },
    {
      "cell_type": "markdown",
      "metadata": {
        "id": "hG7ERfs8lCa0"
      },
      "source": [
        "#Elastic net"
      ]
    },
    {
      "cell_type": "code",
      "metadata": {
        "colab": {
          "base_uri": "https://localhost:8080/"
        },
        "id": "0aIR80FClCOy",
        "outputId": "b84f59c8-d50c-421c-837c-5d37feac41b7"
      },
      "source": [
        "from sklearn.linear_model import ElasticNet\n",
        "#from sklearn.datasets import make_regression\n",
        "#X, y = make_regression(n_features=2, random_state=0)\n",
        "#n_samples=100, n_features=100, n_informative=10, n_targets=1, bias=0.0, effective_rank=None, tail_strength=0.5, noise=0.0, shuffle=True, coef=False, random_state=Non\n",
        "reg = ElasticNet(random_state=0,normalize=True)\n",
        "reg.fit(X_train, y_train)\n",
        "\n",
        "print(\"train score\",reg.score(X_train,y_train))\n",
        "print(\"test score\",reg.score(X_test,y_test))"
      ],
      "execution_count": null,
      "outputs": [
        {
          "output_type": "stream",
          "text": [
            "train score 6.331341248833056e-06\n",
            "test score 3.4384970724055104e-06\n"
          ],
          "name": "stdout"
        }
      ]
    },
    {
      "cell_type": "code",
      "metadata": {
        "colab": {
          "base_uri": "https://localhost:8080/",
          "height": 297
        },
        "id": "fQmgNt-nXExF",
        "outputId": "5c98de0f-a626-4cc7-e603-ee1cc4704bce"
      },
      "source": [
        "plt.plot( y_train,reg.predict(X_train),'bo',linestyle='none',label='Train predictions') \n",
        "plt.plot(y_test,reg.predict(X_test),'ro',linestyle='none',label='Test predictions') \n",
        "plt.plot(range(12),range(12),'g',linestyle='dotted') \n",
        "plt.xlabel('Observed '+chlcol)\n",
        "plt.ylabel('Predicted ' + chlcol)\n",
        "plt.legend()"
      ],
      "execution_count": null,
      "outputs": [
        {
          "output_type": "execute_result",
          "data": {
            "text/plain": [
              "<matplotlib.legend.Legend at 0x7f4572666710>"
            ]
          },
          "metadata": {
            "tags": []
          },
          "execution_count": 45
        },
        {
          "output_type": "display_data",
          "data": {
            "image/png": "[encoded data removed]",
            "text/plain": [
              "<Figure size 432x288 with 1 Axes>"
            ]
          },
          "metadata": {
            "tags": [],
            "needs_background": "light"
          }
        }
      ]
    },
    {
      "cell_type": "code",
      "metadata": {
        "id": "2MbokJ8R9uOw"
      },
      "source": [
        "dataset=total.copy()#.columns\n",
        "dataset = pd.get_dummies(dataset, columns=['kategorija'], prefix='', prefix_sep='')\n",
        "\n",
        "dataset.dropna(inplace=True)\n",
        "#51468.000000\n",
        "dataset=dataset[dataset['broj_gledatelja']>100]\n",
        "dataset['repriza']=dataset['repriza'].map({'da':1, 'ne':0 })\n",
        "look_back=15\n",
        "#dataset['zero']=[0 for i in dataset['broj_gledatelja']]\n",
        " \n",
        "for i in range(1,look_back+1):\n",
        "  dataset['increment'+str(i)]=dataset['broj_gledatelja'].shift(periods=(i))\n",
        " "
      ],
      "execution_count": null,
      "outputs": []
    },
    {
      "cell_type": "code",
      "metadata": {
        "id": "hNuzAM2i98E3"
      },
      "source": [
        "dataset.dropna(inplace=True)\n",
        "dataset"
      ],
      "execution_count": null,
      "outputs": []
    },
    {
      "cell_type": "markdown",
      "metadata": {
        "id": "5bhwp4-Mhtx0"
      },
      "source": [
        "#LSTM"
      ]
    },
    {
      "cell_type": "code",
      "metadata": {
        "colab": {
          "base_uri": "https://localhost:8080/",
          "height": 488
        },
        "id": "vYZ1lWAJ99Ba",
        "outputId": "fc3100f5-e1e5-4c77-cd29-b39977e4a89c"
      },
      "source": [
        "import numpy\n",
        "import matplotlib.pyplot as plt\n",
        "from pandas import read_csv\n",
        "import math\n",
        "from keras.models import Sequential\n",
        "from keras.layers import Dense\n",
        "from keras.layers import LSTM\n",
        "from keras.layers.core import Dense, Activation, Dropout\n",
        "from sklearn.preprocessing import MinMaxScaler\n",
        "from sklearn.metrics import mean_squared_error\n",
        "bcols=[  'repriza',  'm_from_start',  'h_x', 'm_x',   'dow',\n",
        "       'DRUGI INFORMATIVNI SADRŽAJI', 'GLAZBA', 'IGRANI PROGRAM',\n",
        "       'OBRAZOVANJE',  'RELIGIJA', 'UMJETNOST I KULTURA',\n",
        "       'VIJESTI', 'ZABAVA', 'ZNANOST','broj_gledatelja' #, 'PROMOCIJA',\n",
        "       #'increment1', 'increment2', 'increment3', 'increment4' , 'increment5', 'increment6', 'increment7',\n",
        "       #'increment8', 'increment9', 'increment10', 'increment11', 'increment12',  'increment13', 'increment14',  'increment15'\n",
        "       ]\n",
        "dataset=total.copy()#.columns\n",
        "dataset = pd.get_dummies(dataset, columns=['kategorija'], prefix='', prefix_sep='')\n",
        "\n",
        "dataset.dropna(inplace=True)\n",
        "#51468.000000\n",
        "dataset=dataset[dataset['broj_gledatelja']>100]\n",
        "dataset['repriza']=dataset['repriza'].map({'da':1, 'ne':0 })\n",
        "print(dataset.columns)\n",
        "dataset=dataset[bcols]\n",
        "\n",
        "#dataset2=dataset[bcols]\n",
        "scaler = MinMaxScaler(feature_range=(0, 1))\n",
        "\n",
        "# split into train and test sets\n",
        "train_size = int(len(dataset) * 0.67)\n",
        "test_size = len(dataset) - train_size\n",
        "train, test = dataset[0:train_size], dataset[train_size:len(dataset)]\n",
        "# reshape into X=t and Y=t+1\n",
        "look_back =  15\n",
        "\n",
        "#trainX, trainY = #create_dataset(train, look_back)\n",
        "#testX, testY = #create_dataset(test, look_back)\n",
        "# reshape input to be [samples, time steps, features]\n",
        "trainX=train[bcols]\n",
        "trainY=train['broj_gledatelja'].values\n",
        "testX=test[bcols]\n",
        "testY=test['broj_gledatelja'].values\n",
        "print(trainX.shape)\n",
        "trainX = scaler.fit_transform(trainX)\n",
        "testX=scaler.transform(testX)\n",
        "trainX =  numpy.reshape(trainX, (trainX.shape[0], 1, trainX.shape[1]))\n",
        "testX = numpy.reshape(testX, (testX.shape[0], 1, testX.shape[1]))\n",
        "# create and fit the LSTM network\n",
        "model = Sequential()\n",
        "model.add(LSTM(4, input_shape=(1, len(bcols))))#look_back)))\n",
        "model.add(Dropout(0.2))\n",
        "#model.add(Dense(units=output_labels))\n",
        "model.add(Dense(4, activation=\"relu\", input_dim=look_back))\n",
        "#odel.add(LSTM(4))#, input_shape=(1,50)))\n",
        "#model.add(Dropout(0.2))\n",
        "model.add(Dense(4, activation=\"relu\"))\n",
        "model.add(Dense(1))\n",
        "model.compile(loss='mean_squared_error', optimizer='adam')\n",
        "model.fit(trainX, trainY, epochs=5, batch_size=1, verbose=2)\n",
        "# make predictions\n",
        "trainPredict = model.predict(trainX)\n",
        "testPredict = model.predict(testX)\n",
        "\n",
        "\n"
      ],
      "execution_count": null,
      "outputs": [
        {
          "output_type": "stream",
          "text": [
            "Index(['channel', 'title', 'descr', 'repriza', 'start', 'stop', 'date',\n",
            "       'broj_gledatelja', 'vrijeme', 'datum_ukupno',\n",
            "       'DRUGI INFORMATIVNI SADRŽAJI', 'GLAZBA', 'IGRANI PROGRAM',\n",
            "       'OBRAZOVANJE', 'PROMOCIJA', 'RELIGIJA', 'UMJETNOST I KULTURA',\n",
            "       'VIJESTI', 'ZABAVA', 'ZNANOST'],\n",
            "      dtype='object')\n"
          ],
          "name": "stdout"
        },
        {
          "output_type": "error",
          "ename": "KeyError",
          "evalue": "ignored",
          "traceback": [
            "\u001b[0;31m---------------------------------------------------------------------------\u001b[0m",
            "\u001b[0;31mKeyError\u001b[0m                                  Traceback (most recent call last)",
            "\u001b[0;32m<ipython-input-93-94d4c6d35904>\u001b[0m in \u001b[0;36m<module>\u001b[0;34m()\u001b[0m\n\u001b[1;32m     24\u001b[0m \u001b[0mdataset\u001b[0m\u001b[0;34m[\u001b[0m\u001b[0;34m'repriza'\u001b[0m\u001b[0;34m]\u001b[0m\u001b[0;34m=\u001b[0m\u001b[0mdataset\u001b[0m\u001b[0;34m[\u001b[0m\u001b[0;34m'repriza'\u001b[0m\u001b[0;34m]\u001b[0m\u001b[0;34m.\u001b[0m\u001b[0mmap\u001b[0m\u001b[0;34m(\u001b[0m\u001b[0;34m{\u001b[0m\u001b[0;34m'da'\u001b[0m\u001b[0;34m:\u001b[0m\u001b[0;36m1\u001b[0m\u001b[0;34m,\u001b[0m \u001b[0;34m'ne'\u001b[0m\u001b[0;34m:\u001b[0m\u001b[0;36m0\u001b[0m \u001b[0;34m}\u001b[0m\u001b[0;34m)\u001b[0m\u001b[0;34m\u001b[0m\u001b[0;34m\u001b[0m\u001b[0m\n\u001b[1;32m     25\u001b[0m \u001b[0mprint\u001b[0m\u001b[0;34m(\u001b[0m\u001b[0mdataset\u001b[0m\u001b[0;34m.\u001b[0m\u001b[0mcolumns\u001b[0m\u001b[0;34m)\u001b[0m\u001b[0;34m\u001b[0m\u001b[0;34m\u001b[0m\u001b[0m\n\u001b[0;32m---> 26\u001b[0;31m \u001b[0mdataset\u001b[0m\u001b[0;34m=\u001b[0m\u001b[0mdataset\u001b[0m\u001b[0;34m[\u001b[0m\u001b[0mbcols\u001b[0m\u001b[0;34m]\u001b[0m\u001b[0;34m\u001b[0m\u001b[0;34m\u001b[0m\u001b[0m\n\u001b[0m\u001b[1;32m     27\u001b[0m \u001b[0;34m\u001b[0m\u001b[0m\n\u001b[1;32m     28\u001b[0m \u001b[0;31m#dataset2=dataset[bcols]\u001b[0m\u001b[0;34m\u001b[0m\u001b[0;34m\u001b[0m\u001b[0;34m\u001b[0m\u001b[0m\n",
            "\u001b[0;32m/usr/local/lib/python3.7/dist-packages/pandas/core/frame.py\u001b[0m in \u001b[0;36m__getitem__\u001b[0;34m(self, key)\u001b[0m\n\u001b[1;32m   2910\u001b[0m             \u001b[0;32mif\u001b[0m \u001b[0mis_iterator\u001b[0m\u001b[0;34m(\u001b[0m\u001b[0mkey\u001b[0m\u001b[0;34m)\u001b[0m\u001b[0;34m:\u001b[0m\u001b[0;34m\u001b[0m\u001b[0;34m\u001b[0m\u001b[0m\n\u001b[1;32m   2911\u001b[0m                 \u001b[0mkey\u001b[0m \u001b[0;34m=\u001b[0m \u001b[0mlist\u001b[0m\u001b[0;34m(\u001b[0m\u001b[0mkey\u001b[0m\u001b[0;34m)\u001b[0m\u001b[0;34m\u001b[0m\u001b[0;34m\u001b[0m\u001b[0m\n\u001b[0;32m-> 2912\u001b[0;31m             \u001b[0mindexer\u001b[0m \u001b[0;34m=\u001b[0m \u001b[0mself\u001b[0m\u001b[0;34m.\u001b[0m\u001b[0mloc\u001b[0m\u001b[0;34m.\u001b[0m\u001b[0m_get_listlike_indexer\u001b[0m\u001b[0;34m(\u001b[0m\u001b[0mkey\u001b[0m\u001b[0;34m,\u001b[0m \u001b[0maxis\u001b[0m\u001b[0;34m=\u001b[0m\u001b[0;36m1\u001b[0m\u001b[0;34m,\u001b[0m \u001b[0mraise_missing\u001b[0m\u001b[0;34m=\u001b[0m\u001b[0;32mTrue\u001b[0m\u001b[0;34m)\u001b[0m\u001b[0;34m[\u001b[0m\u001b[0;36m1\u001b[0m\u001b[0;34m]\u001b[0m\u001b[0;34m\u001b[0m\u001b[0;34m\u001b[0m\u001b[0m\n\u001b[0m\u001b[1;32m   2913\u001b[0m \u001b[0;34m\u001b[0m\u001b[0m\n\u001b[1;32m   2914\u001b[0m         \u001b[0;31m# take() does not accept boolean indexers\u001b[0m\u001b[0;34m\u001b[0m\u001b[0;34m\u001b[0m\u001b[0;34m\u001b[0m\u001b[0m\n",
            "\u001b[0;32m/usr/local/lib/python3.7/dist-packages/pandas/core/indexing.py\u001b[0m in \u001b[0;36m_get_listlike_indexer\u001b[0;34m(self, key, axis, raise_missing)\u001b[0m\n\u001b[1;32m   1252\u001b[0m             \u001b[0mkeyarr\u001b[0m\u001b[0;34m,\u001b[0m \u001b[0mindexer\u001b[0m\u001b[0;34m,\u001b[0m \u001b[0mnew_indexer\u001b[0m \u001b[0;34m=\u001b[0m \u001b[0max\u001b[0m\u001b[0;34m.\u001b[0m\u001b[0m_reindex_non_unique\u001b[0m\u001b[0;34m(\u001b[0m\u001b[0mkeyarr\u001b[0m\u001b[0;34m)\u001b[0m\u001b[0;34m\u001b[0m\u001b[0;34m\u001b[0m\u001b[0m\n\u001b[1;32m   1253\u001b[0m \u001b[0;34m\u001b[0m\u001b[0m\n\u001b[0;32m-> 1254\u001b[0;31m         \u001b[0mself\u001b[0m\u001b[0;34m.\u001b[0m\u001b[0m_validate_read_indexer\u001b[0m\u001b[0;34m(\u001b[0m\u001b[0mkeyarr\u001b[0m\u001b[0;34m,\u001b[0m \u001b[0mindexer\u001b[0m\u001b[0;34m,\u001b[0m \u001b[0maxis\u001b[0m\u001b[0;34m,\u001b[0m \u001b[0mraise_missing\u001b[0m\u001b[0;34m=\u001b[0m\u001b[0mraise_missing\u001b[0m\u001b[0;34m)\u001b[0m\u001b[0;34m\u001b[0m\u001b[0;34m\u001b[0m\u001b[0m\n\u001b[0m\u001b[1;32m   1255\u001b[0m         \u001b[0;32mreturn\u001b[0m \u001b[0mkeyarr\u001b[0m\u001b[0;34m,\u001b[0m \u001b[0mindexer\u001b[0m\u001b[0;34m\u001b[0m\u001b[0;34m\u001b[0m\u001b[0m\n\u001b[1;32m   1256\u001b[0m \u001b[0;34m\u001b[0m\u001b[0m\n",
            "\u001b[0;32m/usr/local/lib/python3.7/dist-packages/pandas/core/indexing.py\u001b[0m in \u001b[0;36m_validate_read_indexer\u001b[0;34m(self, key, indexer, axis, raise_missing)\u001b[0m\n\u001b[1;32m   1302\u001b[0m             \u001b[0;32mif\u001b[0m \u001b[0mraise_missing\u001b[0m\u001b[0;34m:\u001b[0m\u001b[0;34m\u001b[0m\u001b[0;34m\u001b[0m\u001b[0m\n\u001b[1;32m   1303\u001b[0m                 \u001b[0mnot_found\u001b[0m \u001b[0;34m=\u001b[0m \u001b[0mlist\u001b[0m\u001b[0;34m(\u001b[0m\u001b[0mset\u001b[0m\u001b[0;34m(\u001b[0m\u001b[0mkey\u001b[0m\u001b[0;34m)\u001b[0m \u001b[0;34m-\u001b[0m \u001b[0mset\u001b[0m\u001b[0;34m(\u001b[0m\u001b[0max\u001b[0m\u001b[0;34m)\u001b[0m\u001b[0;34m)\u001b[0m\u001b[0;34m\u001b[0m\u001b[0;34m\u001b[0m\u001b[0m\n\u001b[0;32m-> 1304\u001b[0;31m                 \u001b[0;32mraise\u001b[0m \u001b[0mKeyError\u001b[0m\u001b[0;34m(\u001b[0m\u001b[0;34mf\"{not_found} not in index\"\u001b[0m\u001b[0;34m)\u001b[0m\u001b[0;34m\u001b[0m\u001b[0;34m\u001b[0m\u001b[0m\n\u001b[0m\u001b[1;32m   1305\u001b[0m \u001b[0;34m\u001b[0m\u001b[0m\n\u001b[1;32m   1306\u001b[0m             \u001b[0;31m# we skip the warning on Categorical\u001b[0m\u001b[0;34m\u001b[0m\u001b[0;34m\u001b[0m\u001b[0;34m\u001b[0m\u001b[0m\n",
            "\u001b[0;31mKeyError\u001b[0m: \"['m_from_start', 'm_x', 'dow', 'h_x'] not in index\""
          ]
        }
      ]
    },
    {
      "cell_type": "code",
      "metadata": {
        "id": "5PxaNf0HYDnt"
      },
      "source": [
        "plt.plot(dataset.index,dataset.broj_gledatelja)\n",
        "plt.plot(train.index,trainPredict)\n",
        "plt.plot(test.index,testPredict)"
      ],
      "execution_count": null,
      "outputs": []
    },
    {
      "cell_type": "code",
      "metadata": {
        "id": "nAptIip7X8lv"
      },
      "source": [
        "testPredict"
      ],
      "execution_count": null,
      "outputs": []
    },
    {
      "cell_type": "code",
      "metadata": {
        "id": "PtAgKlZYXtTv"
      },
      "source": [
        "\n",
        "plt.plot( trainY.transpose() ,trainPredict,'bo',linestyle='none',label='Train predictions') \n",
        "plt.plot(testY.transpose() ,testPredict,'ro',linestyle='none',label='Test predictions') \n",
        "plt.plot(range(12),range(12),'g',linestyle='dotted') \n",
        "plt.xlabel('Observed ')\n",
        "plt.ylabel('Prediccted ' )\n",
        "plt.legend()\n"
      ],
      "execution_count": null,
      "outputs": []
    },
    {
      "cell_type": "code",
      "metadata": {
        "id": "xFNrOLG-YXTz"
      },
      "source": [
        ""
      ],
      "execution_count": null,
      "outputs": []
    }
  ]
}