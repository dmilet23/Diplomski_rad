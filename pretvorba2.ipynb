{
  "nbformat": 4,
  "nbformat_minor": 0,
  "metadata": {
    "colab": {
      "name": "pretvorba2.ipynb",
      "provenance": []
    },
    "kernelspec": {
      "name": "python3",
      "display_name": "Python 3"
    },
    "language_info": {
      "name": "python"
    }
  },
  "cells": [
    {
      "cell_type": "code",
      "metadata": {
        "id": "TSxoT_Xd3B-K"
      },
      "source": [
        "import pandas as pd\n",
        "import glob\n",
        "from datetime import datetime\n",
        "path2 = '/content/'\n",
        "df2 = pd.DataFrame()\n",
        "#for filename in glob.glob(path2 + \"1.12/data_**.csv\"):\n",
        "for filename in glob.glob(path2 + \"skraceno/_ukupno_**.*.csv\"):\n",
        "  l = pd.read_csv(filename)\n",
        "  l = l.loc[(l['channel_name'] == 'HRT3 HD') | (l['channel_name'] == 'HRT4 HD')]\n",
        "  d = l[0:len(l)-2]\n",
        "  d = pd.DataFrame(d)\n",
        "  df2 = df2.append(d)"
      ],
      "execution_count": null,
      "outputs": []
    },
    {
      "cell_type": "code",
      "metadata": {
        "id": "DNget1263FNX"
      },
      "source": [
        "df2['datum'] = pd.to_datetime(df2['datum'], format='%m/%d/%Y').dt.date"
      ],
      "execution_count": null,
      "outputs": []
    },
    {
      "cell_type": "code",
      "metadata": {
        "colab": {
          "base_uri": "https://localhost:8080/"
        },
        "id": "OF45jFiJGPdq",
        "outputId": "68c0359a-1889-4e62-eef6-75cd9f807294"
      },
      "source": [
        "df2['datum']"
      ],
      "execution_count": null,
      "outputs": [
        {
          "output_type": "execute_result",
          "data": {
            "text/plain": [
              "0       2021-01-20\n",
              "1       2021-01-20\n",
              "2       2021-01-20\n",
              "3       2021-01-20\n",
              "4       2021-01-20\n",
              "           ...    \n",
              "2875    2021-03-09\n",
              "2876    2021-03-09\n",
              "2877    2021-03-09\n",
              "2878    2021-03-09\n",
              "2879    2021-03-09\n",
              "Name: datum, Length: 324642, dtype: object"
            ]
          },
          "metadata": {
            "tags": []
          },
          "execution_count": 61
        }
      ]
    },
    {
      "cell_type": "code",
      "metadata": {
        "colab": {
          "base_uri": "https://localhost:8080/",
          "height": 402
        },
        "id": "iSPDiEBrGlRK",
        "outputId": "00c9c874-bc73-4e59-e099-ce186e079710"
      },
      "source": [
        "df2"
      ],
      "execution_count": null,
      "outputs": [
        {
          "output_type": "execute_result",
          "data": {
            "text/html": [
              "<div>\n",
              "<style scoped>\n",
              "    .dataframe tbody tr th:only-of-type {\n",
              "        vertical-align: middle;\n",
              "    }\n",
              "\n",
              "    .dataframe tbody tr th {\n",
              "        vertical-align: top;\n",
              "    }\n",
              "\n",
              "    .dataframe thead th {\n",
              "        text-align: right;\n",
              "    }\n",
              "</style>\n",
              "<table border=\"1\" class=\"dataframe\">\n",
              "  <thead>\n",
              "    <tr style=\"text-align: right;\">\n",
              "      <th></th>\n",
              "      <th>channel_name</th>\n",
              "      <th>datum</th>\n",
              "      <th>h</th>\n",
              "      <th>m</th>\n",
              "      <th>broj_gledatelja</th>\n",
              "      <th>vrijeme</th>\n",
              "    </tr>\n",
              "  </thead>\n",
              "  <tbody>\n",
              "    <tr>\n",
              "      <th>0</th>\n",
              "      <td>HRT3 HD</td>\n",
              "      <td>2021-01-20</td>\n",
              "      <td>0</td>\n",
              "      <td>0</td>\n",
              "      <td>351</td>\n",
              "      <td>0:00:00</td>\n",
              "    </tr>\n",
              "    <tr>\n",
              "      <th>1</th>\n",
              "      <td>HRT4 HD</td>\n",
              "      <td>2021-01-20</td>\n",
              "      <td>0</td>\n",
              "      <td>0</td>\n",
              "      <td>551</td>\n",
              "      <td>0:00:00</td>\n",
              "    </tr>\n",
              "    <tr>\n",
              "      <th>2</th>\n",
              "      <td>HRT3 HD</td>\n",
              "      <td>2021-01-20</td>\n",
              "      <td>0</td>\n",
              "      <td>1</td>\n",
              "      <td>325</td>\n",
              "      <td>0:01:00</td>\n",
              "    </tr>\n",
              "    <tr>\n",
              "      <th>3</th>\n",
              "      <td>HRT4 HD</td>\n",
              "      <td>2021-01-20</td>\n",
              "      <td>0</td>\n",
              "      <td>1</td>\n",
              "      <td>574</td>\n",
              "      <td>0:01:00</td>\n",
              "    </tr>\n",
              "    <tr>\n",
              "      <th>4</th>\n",
              "      <td>HRT3 HD</td>\n",
              "      <td>2021-01-20</td>\n",
              "      <td>0</td>\n",
              "      <td>2</td>\n",
              "      <td>329</td>\n",
              "      <td>0:02:00</td>\n",
              "    </tr>\n",
              "    <tr>\n",
              "      <th>...</th>\n",
              "      <td>...</td>\n",
              "      <td>...</td>\n",
              "      <td>...</td>\n",
              "      <td>...</td>\n",
              "      <td>...</td>\n",
              "      <td>...</td>\n",
              "    </tr>\n",
              "    <tr>\n",
              "      <th>2875</th>\n",
              "      <td>HRT4 HD</td>\n",
              "      <td>2021-03-09</td>\n",
              "      <td>23</td>\n",
              "      <td>57</td>\n",
              "      <td>518</td>\n",
              "      <td>23:57:00</td>\n",
              "    </tr>\n",
              "    <tr>\n",
              "      <th>2876</th>\n",
              "      <td>HRT3 HD</td>\n",
              "      <td>2021-03-09</td>\n",
              "      <td>23</td>\n",
              "      <td>58</td>\n",
              "      <td>328</td>\n",
              "      <td>23:58:00</td>\n",
              "    </tr>\n",
              "    <tr>\n",
              "      <th>2877</th>\n",
              "      <td>HRT4 HD</td>\n",
              "      <td>2021-03-09</td>\n",
              "      <td>23</td>\n",
              "      <td>58</td>\n",
              "      <td>508</td>\n",
              "      <td>23:58:00</td>\n",
              "    </tr>\n",
              "    <tr>\n",
              "      <th>2878</th>\n",
              "      <td>HRT3 HD</td>\n",
              "      <td>2021-03-09</td>\n",
              "      <td>23</td>\n",
              "      <td>59</td>\n",
              "      <td>320</td>\n",
              "      <td>23:59:00</td>\n",
              "    </tr>\n",
              "    <tr>\n",
              "      <th>2879</th>\n",
              "      <td>HRT4 HD</td>\n",
              "      <td>2021-03-09</td>\n",
              "      <td>23</td>\n",
              "      <td>59</td>\n",
              "      <td>499</td>\n",
              "      <td>23:59:00</td>\n",
              "    </tr>\n",
              "  </tbody>\n",
              "</table>\n",
              "<p>324642 rows × 6 columns</p>\n",
              "</div>"
            ],
            "text/plain": [
              "     channel_name       datum   h   m  broj_gledatelja   vrijeme\n",
              "0         HRT3 HD  2021-01-20   0   0              351   0:00:00\n",
              "1         HRT4 HD  2021-01-20   0   0              551   0:00:00\n",
              "2         HRT3 HD  2021-01-20   0   1              325   0:01:00\n",
              "3         HRT4 HD  2021-01-20   0   1              574   0:01:00\n",
              "4         HRT3 HD  2021-01-20   0   2              329   0:02:00\n",
              "...           ...         ...  ..  ..              ...       ...\n",
              "2875      HRT4 HD  2021-03-09  23  57              518  23:57:00\n",
              "2876      HRT3 HD  2021-03-09  23  58              328  23:58:00\n",
              "2877      HRT4 HD  2021-03-09  23  58              508  23:58:00\n",
              "2878      HRT3 HD  2021-03-09  23  59              320  23:59:00\n",
              "2879      HRT4 HD  2021-03-09  23  59              499  23:59:00\n",
              "\n",
              "[324642 rows x 6 columns]"
            ]
          },
          "metadata": {
            "tags": []
          },
          "execution_count": 62
        }
      ]
    },
    {
      "cell_type": "code",
      "metadata": {
        "id": "PZqx6kc-Ff79"
      },
      "source": [
        "df2.sort_values(by=['datum', 'vrijeme'], inplace=True)"
      ],
      "execution_count": null,
      "outputs": []
    },
    {
      "cell_type": "code",
      "metadata": {
        "colab": {
          "base_uri": "https://localhost:8080/",
          "height": 402
        },
        "id": "vOiEF3SlGoyO",
        "outputId": "87114779-cb15-4061-b93e-eae49909d67d"
      },
      "source": [
        "df2"
      ],
      "execution_count": null,
      "outputs": [
        {
          "output_type": "execute_result",
          "data": {
            "text/html": [
              "<div>\n",
              "<style scoped>\n",
              "    .dataframe tbody tr th:only-of-type {\n",
              "        vertical-align: middle;\n",
              "    }\n",
              "\n",
              "    .dataframe tbody tr th {\n",
              "        vertical-align: top;\n",
              "    }\n",
              "\n",
              "    .dataframe thead th {\n",
              "        text-align: right;\n",
              "    }\n",
              "</style>\n",
              "<table border=\"1\" class=\"dataframe\">\n",
              "  <thead>\n",
              "    <tr style=\"text-align: right;\">\n",
              "      <th></th>\n",
              "      <th>channel_name</th>\n",
              "      <th>datum</th>\n",
              "      <th>h</th>\n",
              "      <th>m</th>\n",
              "      <th>broj_gledatelja</th>\n",
              "      <th>vrijeme</th>\n",
              "    </tr>\n",
              "  </thead>\n",
              "  <tbody>\n",
              "    <tr>\n",
              "      <th>0</th>\n",
              "      <td>HRT3 HD</td>\n",
              "      <td>2020-11-13</td>\n",
              "      <td>0</td>\n",
              "      <td>0</td>\n",
              "      <td>553</td>\n",
              "      <td>0:00:00</td>\n",
              "    </tr>\n",
              "    <tr>\n",
              "      <th>1</th>\n",
              "      <td>HRT4 HD</td>\n",
              "      <td>2020-11-13</td>\n",
              "      <td>0</td>\n",
              "      <td>0</td>\n",
              "      <td>397</td>\n",
              "      <td>0:00:00</td>\n",
              "    </tr>\n",
              "    <tr>\n",
              "      <th>2</th>\n",
              "      <td>HRT3 HD</td>\n",
              "      <td>2020-11-13</td>\n",
              "      <td>0</td>\n",
              "      <td>1</td>\n",
              "      <td>541</td>\n",
              "      <td>0:01:00</td>\n",
              "    </tr>\n",
              "    <tr>\n",
              "      <th>3</th>\n",
              "      <td>HRT4 HD</td>\n",
              "      <td>2020-11-13</td>\n",
              "      <td>0</td>\n",
              "      <td>1</td>\n",
              "      <td>405</td>\n",
              "      <td>0:01:00</td>\n",
              "    </tr>\n",
              "    <tr>\n",
              "      <th>4</th>\n",
              "      <td>HRT3 HD</td>\n",
              "      <td>2020-11-13</td>\n",
              "      <td>0</td>\n",
              "      <td>2</td>\n",
              "      <td>511</td>\n",
              "      <td>0:02:00</td>\n",
              "    </tr>\n",
              "    <tr>\n",
              "      <th>...</th>\n",
              "      <td>...</td>\n",
              "      <td>...</td>\n",
              "      <td>...</td>\n",
              "      <td>...</td>\n",
              "      <td>...</td>\n",
              "      <td>...</td>\n",
              "    </tr>\n",
              "    <tr>\n",
              "      <th>1196</th>\n",
              "      <td>HRT4 HD</td>\n",
              "      <td>2021-03-25</td>\n",
              "      <td>9</td>\n",
              "      <td>57</td>\n",
              "      <td>1141</td>\n",
              "      <td>9:57:00</td>\n",
              "    </tr>\n",
              "    <tr>\n",
              "      <th>1197</th>\n",
              "      <td>HRT3 HD</td>\n",
              "      <td>2021-03-25</td>\n",
              "      <td>9</td>\n",
              "      <td>58</td>\n",
              "      <td>193</td>\n",
              "      <td>9:58:00</td>\n",
              "    </tr>\n",
              "    <tr>\n",
              "      <th>1198</th>\n",
              "      <td>HRT4 HD</td>\n",
              "      <td>2021-03-25</td>\n",
              "      <td>9</td>\n",
              "      <td>58</td>\n",
              "      <td>1118</td>\n",
              "      <td>9:58:00</td>\n",
              "    </tr>\n",
              "    <tr>\n",
              "      <th>1199</th>\n",
              "      <td>HRT3 HD</td>\n",
              "      <td>2021-03-25</td>\n",
              "      <td>9</td>\n",
              "      <td>59</td>\n",
              "      <td>181</td>\n",
              "      <td>9:59:00</td>\n",
              "    </tr>\n",
              "    <tr>\n",
              "      <th>1200</th>\n",
              "      <td>HRT4 HD</td>\n",
              "      <td>2021-03-25</td>\n",
              "      <td>9</td>\n",
              "      <td>59</td>\n",
              "      <td>1117</td>\n",
              "      <td>9:59:00</td>\n",
              "    </tr>\n",
              "  </tbody>\n",
              "</table>\n",
              "<p>324642 rows × 6 columns</p>\n",
              "</div>"
            ],
            "text/plain": [
              "     channel_name       datum  h   m  broj_gledatelja  vrijeme\n",
              "0         HRT3 HD  2020-11-13  0   0              553  0:00:00\n",
              "1         HRT4 HD  2020-11-13  0   0              397  0:00:00\n",
              "2         HRT3 HD  2020-11-13  0   1              541  0:01:00\n",
              "3         HRT4 HD  2020-11-13  0   1              405  0:01:00\n",
              "4         HRT3 HD  2020-11-13  0   2              511  0:02:00\n",
              "...           ...         ... ..  ..              ...      ...\n",
              "1196      HRT4 HD  2021-03-25  9  57             1141  9:57:00\n",
              "1197      HRT3 HD  2021-03-25  9  58              193  9:58:00\n",
              "1198      HRT4 HD  2021-03-25  9  58             1118  9:58:00\n",
              "1199      HRT3 HD  2021-03-25  9  59              181  9:59:00\n",
              "1200      HRT4 HD  2021-03-25  9  59             1117  9:59:00\n",
              "\n",
              "[324642 rows x 6 columns]"
            ]
          },
          "metadata": {
            "tags": []
          },
          "execution_count": 64
        }
      ]
    },
    {
      "cell_type": "code",
      "metadata": {
        "id": "6XqSngjW3K1q"
      },
      "source": [
        "df2.to_csv(r'/content/\\ukupno_SKRACENO.csv', index=False)"
      ],
      "execution_count": null,
      "outputs": []
    }
  ]
}