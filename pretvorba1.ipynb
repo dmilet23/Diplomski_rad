{
  "nbformat": 4,
  "nbformat_minor": 0,
  "metadata": {
    "colab": {
      "name": "pretvorba1.ipynb",
      "provenance": [],
      "collapsed_sections": []
    },
    "kernelspec": {
      "name": "python3",
      "display_name": "Python 3"
    },
    "language_info": {
      "name": "python"
    }
  },
  "cells": [
    {
      "cell_type": "code",
      "metadata": {
        "id": "dOdEMZaBt7T1"
      },
      "source": [
        "import pandas as pd\n",
        "import glob\n",
        "import re\n",
        "from datetime import datetime\n",
        "path2 = '/content/'\n",
        "def solve(s):\n",
        "  return re.sub(\"(st|nd|rd|th)\", \"\", s)\n",
        "df2 = pd.DataFrame()\n",
        "for filename in glob.glob(path2 + \"2.3/data_**.csv\"):\n",
        "  l = pd.read_csv(filename)\n",
        "  l['timestamp'] = l['timestamp'].apply(solve)\n",
        "  l = pd.DataFrame(l)\n",
        "  df2 = df2.append(l)\n"
      ],
      "execution_count": null,
      "outputs": []
    },
    {
      "cell_type": "code",
      "metadata": {
        "id": "izotSR6VRDP3"
      },
      "source": [
        "#df2 = df2.loc[(df2['channel_name'] == 'HRT3 HD') | (df2['channel_name'] == 'HRT4 HD')]\n",
        "df2.replace('HRT 3', 'HRT3 HD', inplace=True)\n",
        "df2.replace('HRT 3 HD', 'HRT3 HD', inplace=True)\n",
        "df2.replace('HRT3', 'HRT3 HD', inplace=True)\n",
        "df2.replace('HRT3 H', 'HRT3 HD', inplace=True)\n",
        "df2.replace('Hrt3 Hd', 'HRT3 HD', inplace=True)\n",
        "df2.replace('HRT 3 SD', 'HRT3 HD', inplace=True)\n",
        "df2.replace('HRT 4', 'HRT4 HD', inplace=True)\n",
        "df2.replace('HRT 4 HD', 'HRT4 HD', inplace=True)\n",
        "df2.replace('HRT4', 'HRT4 HD', inplace=True)\n",
        "df2.replace('HRT4 SD', 'HRT4 HD', inplace=True)\n",
        "df2.replace('Hrt4 Hd', 'HRT4 HD', inplace=True)\n",
        "df2['timestamp'] = pd.to_datetime(df2['timestamp'], format='%B %d %Y, %H:%M:%S.%f')\n",
        "df2[['h', 'm', 's', 'datum']] = [(row.hour, row.minute, row.second, datetime.date(row)) for row in df2['timestamp']]\n",
        "g = pd.DataFrame({'broj_gledatelja': df2.groupby(['channel_name', 'datum', 'h', 'm']).size()}).reset_index()\n",
        "g[['vrijeme']] = g['h'].astype(str) + ':' + g['m'].astype(str)\n",
        "g['vrijeme'] = pd.to_datetime(g['vrijeme'], format='%H:%M').dt.time"
      ],
      "execution_count": null,
      "outputs": []
    },
    {
      "cell_type": "code",
      "metadata": {
        "colab": {
          "base_uri": "https://localhost:8080/"
        },
        "id": "f9Dv5TkKNL8k",
        "outputId": "0f26ce25-3895-4a36-fb1c-bb7eabd54bad"
      },
      "source": [
        "g['channel_name'].unique()"
      ],
      "execution_count": null,
      "outputs": [
        {
          "output_type": "execute_result",
          "data": {
            "text/plain": [
              "array(['HRT3 ', 'HRT3 HD', 'HRT4 HD'], dtype=object)"
            ]
          },
          "metadata": {
            "tags": []
          },
          "execution_count": 227
        }
      ]
    },
    {
      "cell_type": "code",
      "metadata": {
        "id": "zZnjnkDyQpkj"
      },
      "source": [
        "g.sort_values(by=['datum', 'vrijeme'], inplace=True)"
      ],
      "execution_count": null,
      "outputs": []
    },
    {
      "cell_type": "code",
      "metadata": {
        "id": "qhHmZHTS2C28"
      },
      "source": [
        ""
      ],
      "execution_count": null,
      "outputs": []
    },
    {
      "cell_type": "code",
      "metadata": {
        "id": "3X73uJpUHN86"
      },
      "source": [
        "g.to_csv(r'/content/\\ukupno_2.3.csv', index=False)"
      ],
      "execution_count": null,
      "outputs": []
    },
    {
      "cell_type": "code",
      "metadata": {
        "colab": {
          "base_uri": "https://localhost:8080/",
          "height": 402
        },
        "id": "B7ZBeIECI8b8",
        "outputId": "6695f58a-0bb0-4fb7-dd0a-1da089a71ab6"
      },
      "source": [
        "g"
      ],
      "execution_count": null,
      "outputs": [
        {
          "output_type": "execute_result",
          "data": {
            "text/html": [
              "<div>\n",
              "<style scoped>\n",
              "    .dataframe tbody tr th:only-of-type {\n",
              "        vertical-align: middle;\n",
              "    }\n",
              "\n",
              "    .dataframe tbody tr th {\n",
              "        vertical-align: top;\n",
              "    }\n",
              "\n",
              "    .dataframe thead th {\n",
              "        text-align: right;\n",
              "    }\n",
              "</style>\n",
              "<table border=\"1\" class=\"dataframe\">\n",
              "  <thead>\n",
              "    <tr style=\"text-align: right;\">\n",
              "      <th></th>\n",
              "      <th>channel_name</th>\n",
              "      <th>datum</th>\n",
              "      <th>h</th>\n",
              "      <th>m</th>\n",
              "      <th>broj_gledatelja</th>\n",
              "      <th>vrijeme</th>\n",
              "    </tr>\n",
              "  </thead>\n",
              "  <tbody>\n",
              "    <tr>\n",
              "      <th>1</th>\n",
              "      <td>HRT3 HD</td>\n",
              "      <td>2021-03-02</td>\n",
              "      <td>0</td>\n",
              "      <td>0</td>\n",
              "      <td>302</td>\n",
              "      <td>00:00:00</td>\n",
              "    </tr>\n",
              "    <tr>\n",
              "      <th>1442</th>\n",
              "      <td>HRT4 HD</td>\n",
              "      <td>2021-03-02</td>\n",
              "      <td>0</td>\n",
              "      <td>0</td>\n",
              "      <td>514</td>\n",
              "      <td>00:00:00</td>\n",
              "    </tr>\n",
              "    <tr>\n",
              "      <th>2</th>\n",
              "      <td>HRT3 HD</td>\n",
              "      <td>2021-03-02</td>\n",
              "      <td>0</td>\n",
              "      <td>1</td>\n",
              "      <td>275</td>\n",
              "      <td>00:01:00</td>\n",
              "    </tr>\n",
              "    <tr>\n",
              "      <th>1443</th>\n",
              "      <td>HRT4 HD</td>\n",
              "      <td>2021-03-02</td>\n",
              "      <td>0</td>\n",
              "      <td>1</td>\n",
              "      <td>516</td>\n",
              "      <td>00:01:00</td>\n",
              "    </tr>\n",
              "    <tr>\n",
              "      <th>3</th>\n",
              "      <td>HRT3 HD</td>\n",
              "      <td>2021-03-02</td>\n",
              "      <td>0</td>\n",
              "      <td>2</td>\n",
              "      <td>286</td>\n",
              "      <td>00:02:00</td>\n",
              "    </tr>\n",
              "    <tr>\n",
              "      <th>...</th>\n",
              "      <td>...</td>\n",
              "      <td>...</td>\n",
              "      <td>...</td>\n",
              "      <td>...</td>\n",
              "      <td>...</td>\n",
              "      <td>...</td>\n",
              "    </tr>\n",
              "    <tr>\n",
              "      <th>2880</th>\n",
              "      <td>HRT4 HD</td>\n",
              "      <td>2021-03-02</td>\n",
              "      <td>23</td>\n",
              "      <td>58</td>\n",
              "      <td>477</td>\n",
              "      <td>23:58:00</td>\n",
              "    </tr>\n",
              "    <tr>\n",
              "      <th>1440</th>\n",
              "      <td>HRT3 HD</td>\n",
              "      <td>2021-03-02</td>\n",
              "      <td>23</td>\n",
              "      <td>59</td>\n",
              "      <td>340</td>\n",
              "      <td>23:59:00</td>\n",
              "    </tr>\n",
              "    <tr>\n",
              "      <th>2881</th>\n",
              "      <td>HRT4 HD</td>\n",
              "      <td>2021-03-02</td>\n",
              "      <td>23</td>\n",
              "      <td>59</td>\n",
              "      <td>486</td>\n",
              "      <td>23:59:00</td>\n",
              "    </tr>\n",
              "    <tr>\n",
              "      <th>1441</th>\n",
              "      <td>HRT3 HD</td>\n",
              "      <td>2021-03-03</td>\n",
              "      <td>0</td>\n",
              "      <td>0</td>\n",
              "      <td>6</td>\n",
              "      <td>00:00:00</td>\n",
              "    </tr>\n",
              "    <tr>\n",
              "      <th>2882</th>\n",
              "      <td>HRT4 HD</td>\n",
              "      <td>2021-03-03</td>\n",
              "      <td>0</td>\n",
              "      <td>0</td>\n",
              "      <td>9</td>\n",
              "      <td>00:00:00</td>\n",
              "    </tr>\n",
              "  </tbody>\n",
              "</table>\n",
              "<p>2883 rows × 6 columns</p>\n",
              "</div>"
            ],
            "text/plain": [
              "     channel_name       datum   h   m  broj_gledatelja   vrijeme\n",
              "1         HRT3 HD  2021-03-02   0   0              302  00:00:00\n",
              "1442      HRT4 HD  2021-03-02   0   0              514  00:00:00\n",
              "2         HRT3 HD  2021-03-02   0   1              275  00:01:00\n",
              "1443      HRT4 HD  2021-03-02   0   1              516  00:01:00\n",
              "3         HRT3 HD  2021-03-02   0   2              286  00:02:00\n",
              "...           ...         ...  ..  ..              ...       ...\n",
              "2880      HRT4 HD  2021-03-02  23  58              477  23:58:00\n",
              "1440      HRT3 HD  2021-03-02  23  59              340  23:59:00\n",
              "2881      HRT4 HD  2021-03-02  23  59              486  23:59:00\n",
              "1441      HRT3 HD  2021-03-03   0   0                6  00:00:00\n",
              "2882      HRT4 HD  2021-03-03   0   0                9  00:00:00\n",
              "\n",
              "[2883 rows x 6 columns]"
            ]
          },
          "metadata": {
            "tags": []
          },
          "execution_count": 230
        }
      ]
    }
  ]
}