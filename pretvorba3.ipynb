{
  "nbformat": 4,
  "nbformat_minor": 0,
  "metadata": {
    "colab": {
      "name": "pretvorba3.ipynb",
      "provenance": []
    },
    "kernelspec": {
      "name": "python3",
      "display_name": "Python 3"
    },
    "language_info": {
      "name": "python"
    }
  },
  "cells": [
    {
      "cell_type": "code",
      "metadata": {
        "id": "8UK-8W5b7vJ-"
      },
      "source": [
        "import pandas as pd\n",
        "import glob\n",
        "import re\n",
        "from datetime import datetime\n",
        "path2 = '/content/'\n",
        "def solve(s):\n",
        "  return re.sub(\"(st|nd|rd|th)\", \"\", s)\n",
        "df2 = pd.DataFrame()\n",
        "for filename in glob.glob(path2 + \"25.3/data_**.csv\"):\n",
        "  l = pd.read_csv(filename)\n",
        "  l['timestamp'] = l['timestamp'].apply(solve)\n",
        "  l = pd.DataFrame(l)\n",
        "  df2 = df2.append(l)"
      ],
      "execution_count": null,
      "outputs": []
    },
    {
      "cell_type": "code",
      "metadata": {
        "id": "OUN70pZ87zWs"
      },
      "source": [
        "#df2 = df2.loc[(df2['channel_name'] == 'HRT3 HD') | (df2['channel_name'] == 'HRT4 HD')]\n",
        "df2.replace('HRT 3', 'HRT3 HD', inplace=True)\n",
        "df2.replace('HRT 3 HD', 'HRT3 HD', inplace=True)\n",
        "df2.replace('HRT3', 'HRT3 HD', inplace=True)\n",
        "df2.replace('HRT3 H', 'HRT3 HD', inplace=True)\n",
        "df2.replace('Hrt3 Hd', 'HRT3 HD', inplace=True)\n",
        "df2.replace('HRT 3 SD', 'HRT3 HD', inplace=True)\n",
        "df2.replace('HRT 4', 'HRT4 HD', inplace=True)\n",
        "df2.replace('HRT 4 HD', 'HRT4 HD', inplace=True)\n",
        "df2.replace('HRT4', 'HRT4 HD', inplace=True)\n",
        "df2.replace('HRT4 SD', 'HRT4 HD', inplace=True)\n",
        "df2.replace('Hrt4 Hd', 'HRT4 HD', inplace=True)\n",
        "df2['timestamp'] = pd.to_datetime(df2['timestamp'], format='%B %d %Y, %H:%M:%S.%f')\n",
        "df2[['h', 'm', 's', 'datum']] = [(row.hour, row.minute, row.second, datetime.date(row)) for row in df2['timestamp']]\n",
        "g = pd.DataFrame({'broj_gledatelja': df2.groupby(['channel_name', 'datum', 'h', 'm']).size()}).reset_index()\n",
        "g[['vrijeme']] = g['h'].astype(str) + ':' + g['m'].astype(str)\n",
        "g['vrijeme'] = pd.to_datetime(g['vrijeme'], format='%H:%M').dt.time"
      ],
      "execution_count": null,
      "outputs": []
    },
    {
      "cell_type": "code",
      "metadata": {
        "id": "uhCuap7P71xR"
      },
      "source": [
        "g.sort_values(by=['datum', 'vrijeme'], inplace=True)"
      ],
      "execution_count": null,
      "outputs": []
    },
    {
      "cell_type": "code",
      "metadata": {
        "id": "GkXBkdOr74bL"
      },
      "source": [
        "g.to_csv(r'/content/\\ukupno_25.3.csv', index=False)"
      ],
      "execution_count": null,
      "outputs": []
    },
    {
      "cell_type": "code",
      "metadata": {
        "colab": {
          "base_uri": "https://localhost:8080/",
          "height": 402
        },
        "id": "klvEPAnV7_w6",
        "outputId": "ab22e7d9-bb47-4b76-8592-04a692506e03"
      },
      "source": [
        "g"
      ],
      "execution_count": null,
      "outputs": [
        {
          "output_type": "execute_result",
          "data": {
            "text/html": [
              "<div>\n",
              "<style scoped>\n",
              "    .dataframe tbody tr th:only-of-type {\n",
              "        vertical-align: middle;\n",
              "    }\n",
              "\n",
              "    .dataframe tbody tr th {\n",
              "        vertical-align: top;\n",
              "    }\n",
              "\n",
              "    .dataframe thead th {\n",
              "        text-align: right;\n",
              "    }\n",
              "</style>\n",
              "<table border=\"1\" class=\"dataframe\">\n",
              "  <thead>\n",
              "    <tr style=\"text-align: right;\">\n",
              "      <th></th>\n",
              "      <th>channel_name</th>\n",
              "      <th>datum</th>\n",
              "      <th>h</th>\n",
              "      <th>m</th>\n",
              "      <th>broj_gledatelja</th>\n",
              "      <th>vrijeme</th>\n",
              "    </tr>\n",
              "  </thead>\n",
              "  <tbody>\n",
              "    <tr>\n",
              "      <th>0</th>\n",
              "      <td>HRT3 HD</td>\n",
              "      <td>2021-03-25</td>\n",
              "      <td>0</td>\n",
              "      <td>0</td>\n",
              "      <td>178</td>\n",
              "      <td>00:00:00</td>\n",
              "    </tr>\n",
              "    <tr>\n",
              "      <th>1446</th>\n",
              "      <td>HRT4 HD</td>\n",
              "      <td>2021-03-25</td>\n",
              "      <td>0</td>\n",
              "      <td>0</td>\n",
              "      <td>431</td>\n",
              "      <td>00:00:00</td>\n",
              "    </tr>\n",
              "    <tr>\n",
              "      <th>1</th>\n",
              "      <td>HRT3 HD</td>\n",
              "      <td>2021-03-25</td>\n",
              "      <td>0</td>\n",
              "      <td>1</td>\n",
              "      <td>182</td>\n",
              "      <td>00:01:00</td>\n",
              "    </tr>\n",
              "    <tr>\n",
              "      <th>1447</th>\n",
              "      <td>HRT4 HD</td>\n",
              "      <td>2021-03-25</td>\n",
              "      <td>0</td>\n",
              "      <td>1</td>\n",
              "      <td>450</td>\n",
              "      <td>00:01:00</td>\n",
              "    </tr>\n",
              "    <tr>\n",
              "      <th>2</th>\n",
              "      <td>HRT3 HD</td>\n",
              "      <td>2021-03-25</td>\n",
              "      <td>0</td>\n",
              "      <td>2</td>\n",
              "      <td>176</td>\n",
              "      <td>00:02:00</td>\n",
              "    </tr>\n",
              "    <tr>\n",
              "      <th>...</th>\n",
              "      <td>...</td>\n",
              "      <td>...</td>\n",
              "      <td>...</td>\n",
              "      <td>...</td>\n",
              "      <td>...</td>\n",
              "      <td>...</td>\n",
              "    </tr>\n",
              "    <tr>\n",
              "      <th>2884</th>\n",
              "      <td>HRT4 HD</td>\n",
              "      <td>2021-03-25</td>\n",
              "      <td>23</td>\n",
              "      <td>58</td>\n",
              "      <td>292</td>\n",
              "      <td>23:58:00</td>\n",
              "    </tr>\n",
              "    <tr>\n",
              "      <th>1439</th>\n",
              "      <td>HRT3 HD</td>\n",
              "      <td>2021-03-25</td>\n",
              "      <td>23</td>\n",
              "      <td>59</td>\n",
              "      <td>500</td>\n",
              "      <td>23:59:00</td>\n",
              "    </tr>\n",
              "    <tr>\n",
              "      <th>2885</th>\n",
              "      <td>HRT4 HD</td>\n",
              "      <td>2021-03-25</td>\n",
              "      <td>23</td>\n",
              "      <td>59</td>\n",
              "      <td>261</td>\n",
              "      <td>23:59:00</td>\n",
              "    </tr>\n",
              "    <tr>\n",
              "      <th>1440</th>\n",
              "      <td>HRT3 HD</td>\n",
              "      <td>2021-03-26</td>\n",
              "      <td>0</td>\n",
              "      <td>0</td>\n",
              "      <td>7</td>\n",
              "      <td>00:00:00</td>\n",
              "    </tr>\n",
              "    <tr>\n",
              "      <th>2886</th>\n",
              "      <td>HRT4 HD</td>\n",
              "      <td>2021-03-26</td>\n",
              "      <td>0</td>\n",
              "      <td>0</td>\n",
              "      <td>2</td>\n",
              "      <td>00:00:00</td>\n",
              "    </tr>\n",
              "  </tbody>\n",
              "</table>\n",
              "<p>2887 rows × 6 columns</p>\n",
              "</div>"
            ],
            "text/plain": [
              "     channel_name       datum   h   m  broj_gledatelja   vrijeme\n",
              "0         HRT3 HD  2021-03-25   0   0              178  00:00:00\n",
              "1446      HRT4 HD  2021-03-25   0   0              431  00:00:00\n",
              "1         HRT3 HD  2021-03-25   0   1              182  00:01:00\n",
              "1447      HRT4 HD  2021-03-25   0   1              450  00:01:00\n",
              "2         HRT3 HD  2021-03-25   0   2              176  00:02:00\n",
              "...           ...         ...  ..  ..              ...       ...\n",
              "2884      HRT4 HD  2021-03-25  23  58              292  23:58:00\n",
              "1439      HRT3 HD  2021-03-25  23  59              500  23:59:00\n",
              "2885      HRT4 HD  2021-03-25  23  59              261  23:59:00\n",
              "1440      HRT3 HD  2021-03-26   0   0                7  00:00:00\n",
              "2886      HRT4 HD  2021-03-26   0   0                2  00:00:00\n",
              "\n",
              "[2887 rows x 6 columns]"
            ]
          },
          "metadata": {
            "tags": []
          },
          "execution_count": 60
        }
      ]
    }
  ]
}